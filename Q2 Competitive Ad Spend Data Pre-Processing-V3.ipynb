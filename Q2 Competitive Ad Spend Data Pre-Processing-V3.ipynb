{
 "cells": [
  {
   "cell_type": "code",
   "execution_count": 1,
   "id": "b6bc5275",
   "metadata": {},
   "outputs": [],
   "source": [
    "# Import Libraries:\n",
    "\n",
    "import time\n",
    "start_time = time.time()\n",
    "import datetime\n",
    "import os\n",
    "import re\n",
    "import openpyxl\n",
    "import numpy as np\n",
    "import pandas as pd\n",
    "import matplotlib.pyplot as plt\n",
    "\n",
    "import warnings\n",
    "# filter warning codes\n",
    "warnings.filterwarnings(\"ignore\")\n"
   ]
  },
  {
   "cell_type": "code",
   "execution_count": 2,
   "id": "e00b91ee",
   "metadata": {},
   "outputs": [
    {
     "data": {
      "text/plain": [
       "'C:\\\\ABI\\\\Q2_Competitive\\\\Ad_Spend\\\\Raw Data'"
      ]
     },
     "execution_count": 2,
     "metadata": {},
     "output_type": "execute_result"
    }
   ],
   "source": [
    "# Setting up directory:\n",
    "path = os.chdir(r\"C:\\ABI\\Q2_Competitive\\Ad_Spend\\Raw Data\")\n",
    "path_ = os.getcwd()\n",
    "path_"
   ]
  },
  {
   "cell_type": "code",
   "execution_count": 3,
   "id": "11f18676",
   "metadata": {},
   "outputs": [
    {
     "name": "stdout",
     "output_type": "stream",
     "text": [
      "The number of markets 29\n"
     ]
    },
    {
     "data": {
      "text/plain": [
       "['Argentina_Q2_2023 Competitive Request_Group I.xlsx',\n",
       " 'Belgium_ABI Global Competitive _Group I.xlsx',\n",
       " 'Bolivia_Q2_2023 Competitive Request_Group II.xlsx',\n",
       " 'Brazil_2023 Competitive Q1 Q2_vs2_ Group I_new.xlsx',\n",
       " 'Canada_Q2_2023 Competitive Request _Group I - New.xlsx',\n",
       " 'Chile_Q2_2023 Competitive Request_Group II.xlsx',\n",
       " 'China_Q2_2023 Competitive Request_Group I.xlsx',\n",
       " 'Colombia_Q2_2023 ABI Global Competitive_Group I - New.xlsx',\n",
       " 'DR_Q2_2023 Competitive Request_Group II.xlsx',\n",
       " 'Ecuador_Q2_2023 Competitive Request_Group II.xlsx',\n",
       " 'El Salvador_Q2_2023 Competitive Request_Group II.xlsx',\n",
       " 'France_ABI Global Competitive _Group I.xlsx',\n",
       " 'Germany_ABI Global Competitive Request Group I.xlsx',\n",
       " 'Guatemala_Q2_2023 Competitive Request_Group II.xlsx',\n",
       " 'Hondurus_Q2_2023 Competitive Request_group II.xlsx',\n",
       " 'India_Q2_2023 Competitive Request_Group I.xlsx',\n",
       " 'Italy_ABI Global Competitive_Group I.xlsx',\n",
       " 'Japan_Q2_2023 Competitive Request_Group II.xlsx',\n",
       " 'Mexico_Q2 _2023 Competitive Request_Group I New.xlsx',\n",
       " 'NL_ABI Global Competitive _Group I.xlsx',\n",
       " 'Panama_Q2_2023 Competitive Request_Group II.xlsx',\n",
       " 'Paraguay_Q2_2023 Competitive Request_Group II.xlsx',\n",
       " 'Peru_Q2_2023 Competitive Request_Group II.xlsx',\n",
       " 'South Africa_Q2_2023 Competitive Request_Group I.xlsx',\n",
       " 'South Korea_Q2_2023 Competitive Request_Group I.xlsx',\n",
       " 'UK_Q2_2023_ABI Global Competitive_Group I.xlsx',\n",
       " 'Uruguay_Q2_2023 Competitive Request_Group II.xlsx',\n",
       " 'USA_Q2_2023 Competitive Request_Group I.xlsx',\n",
       " 'Vietnam_Q2_2023 Competitive_Group II.xlsx']"
      ]
     },
     "execution_count": 3,
     "metadata": {},
     "output_type": "execute_result"
    }
   ],
   "source": [
    "# Obtaining the files:\n",
    "files = os.listdir(path_)\n",
    "print(\"The number of markets\",len(files))\n",
    "files"
   ]
  },
  {
   "cell_type": "code",
   "execution_count": 4,
   "id": "39162c33",
   "metadata": {},
   "outputs": [],
   "source": [
    "## Initialize Empty dataframe:\n",
    "df_initial = pd.DataFrame()\n",
    "for f in files:\n",
    "    data = pd.read_excel(f)\n",
    "    df_initial = df_initial.append(data)"
   ]
  },
  {
   "cell_type": "code",
   "execution_count": 5,
   "id": "f12c8116",
   "metadata": {},
   "outputs": [
    {
     "data": {
      "text/html": [
       "<div>\n",
       "<style scoped>\n",
       "    .dataframe tbody tr th:only-of-type {\n",
       "        vertical-align: middle;\n",
       "    }\n",
       "\n",
       "    .dataframe tbody tr th {\n",
       "        vertical-align: top;\n",
       "    }\n",
       "\n",
       "    .dataframe thead th {\n",
       "        text-align: right;\n",
       "    }\n",
       "</style>\n",
       "<table border=\"1\" class=\"dataframe\">\n",
       "  <thead>\n",
       "    <tr style=\"text-align: right;\">\n",
       "      <th></th>\n",
       "      <th>Country</th>\n",
       "      <th>Data Source</th>\n",
       "      <th>Advertiser (parent company)</th>\n",
       "      <th>Brand</th>\n",
       "      <th>Category</th>\n",
       "      <th>Media type</th>\n",
       "      <th>Year</th>\n",
       "      <th>Month</th>\n",
       "      <th>Spend (Local Currency)</th>\n",
       "      <th>Exchange Rate</th>\n",
       "      <th>Spend (US Currency)</th>\n",
       "    </tr>\n",
       "  </thead>\n",
       "  <tbody>\n",
       "    <tr>\n",
       "      <th>0</th>\n",
       "      <td>Argentina</td>\n",
       "      <td>IBOPE - AdMedia</td>\n",
       "      <td>PEPSI COLA</td>\n",
       "      <td>GATORADE.</td>\n",
       "      <td>ENERGY DRINK</td>\n",
       "      <td>TV Cable</td>\n",
       "      <td>2023</td>\n",
       "      <td>6</td>\n",
       "      <td>3181.423507</td>\n",
       "      <td>253.93</td>\n",
       "      <td>12.528742</td>\n",
       "    </tr>\n",
       "    <tr>\n",
       "      <th>1</th>\n",
       "      <td>Argentina</td>\n",
       "      <td>IBOPE - AdMedia</td>\n",
       "      <td>AGUAS DANONE</td>\n",
       "      <td>VILLAVICENCIO</td>\n",
       "      <td>AGUAS MINERALES Y MINERALIZADA</td>\n",
       "      <td>TV Cable</td>\n",
       "      <td>2023</td>\n",
       "      <td>2</td>\n",
       "      <td>2268.824968</td>\n",
       "      <td>253.93</td>\n",
       "      <td>8.934844</td>\n",
       "    </tr>\n",
       "    <tr>\n",
       "      <th>2</th>\n",
       "      <td>Argentina</td>\n",
       "      <td>IBOPE - AdMedia</td>\n",
       "      <td>AGUAS DANONE</td>\n",
       "      <td>VILLAVICENCIO</td>\n",
       "      <td>AGUAS MINERALES Y MINERALIZADA</td>\n",
       "      <td>TV Cable</td>\n",
       "      <td>2023</td>\n",
       "      <td>2</td>\n",
       "      <td>4537.649935</td>\n",
       "      <td>253.93</td>\n",
       "      <td>17.869688</td>\n",
       "    </tr>\n",
       "    <tr>\n",
       "      <th>3</th>\n",
       "      <td>Argentina</td>\n",
       "      <td>IBOPE - AdMedia</td>\n",
       "      <td>AGUAS DANONE</td>\n",
       "      <td>VILLAVICENCIO</td>\n",
       "      <td>AGUAS MINERALES Y MINERALIZADA</td>\n",
       "      <td>TV Cable</td>\n",
       "      <td>2023</td>\n",
       "      <td>2</td>\n",
       "      <td>5834.121345</td>\n",
       "      <td>253.93</td>\n",
       "      <td>22.975313</td>\n",
       "    </tr>\n",
       "    <tr>\n",
       "      <th>4</th>\n",
       "      <td>Argentina</td>\n",
       "      <td>IBOPE - AdMedia</td>\n",
       "      <td>AGUAS DANONE</td>\n",
       "      <td>VILLAVICENCIO</td>\n",
       "      <td>AGUAS MINERALES Y MINERALIZADA</td>\n",
       "      <td>TV Cable</td>\n",
       "      <td>2023</td>\n",
       "      <td>2</td>\n",
       "      <td>2106.766041</td>\n",
       "      <td>253.93</td>\n",
       "      <td>8.296641</td>\n",
       "    </tr>\n",
       "  </tbody>\n",
       "</table>\n",
       "</div>"
      ],
      "text/plain": [
       "     Country      Data Source Advertiser (parent company)          Brand  \\\n",
       "0  Argentina  IBOPE - AdMedia                  PEPSI COLA      GATORADE.   \n",
       "1  Argentina  IBOPE - AdMedia                AGUAS DANONE  VILLAVICENCIO   \n",
       "2  Argentina  IBOPE - AdMedia                AGUAS DANONE  VILLAVICENCIO   \n",
       "3  Argentina  IBOPE - AdMedia                AGUAS DANONE  VILLAVICENCIO   \n",
       "4  Argentina  IBOPE - AdMedia                AGUAS DANONE  VILLAVICENCIO   \n",
       "\n",
       "                         Category Media type  Year Month  \\\n",
       "0                    ENERGY DRINK   TV Cable  2023     6   \n",
       "1  AGUAS MINERALES Y MINERALIZADA   TV Cable  2023     2   \n",
       "2  AGUAS MINERALES Y MINERALIZADA   TV Cable  2023     2   \n",
       "3  AGUAS MINERALES Y MINERALIZADA   TV Cable  2023     2   \n",
       "4  AGUAS MINERALES Y MINERALIZADA   TV Cable  2023     2   \n",
       "\n",
       "  Spend (Local Currency)  Exchange Rate  Spend (US Currency)  \n",
       "0            3181.423507         253.93            12.528742  \n",
       "1            2268.824968         253.93             8.934844  \n",
       "2            4537.649935         253.93            17.869688  \n",
       "3            5834.121345         253.93            22.975313  \n",
       "4            2106.766041         253.93             8.296641  "
      ]
     },
     "execution_count": 5,
     "metadata": {},
     "output_type": "execute_result"
    }
   ],
   "source": [
    "df_initial.head()"
   ]
  },
  {
   "cell_type": "code",
   "execution_count": 6,
   "id": "81c1963b",
   "metadata": {},
   "outputs": [
    {
     "data": {
      "text/plain": [
       "(494986, 11)"
      ]
     },
     "execution_count": 6,
     "metadata": {},
     "output_type": "execute_result"
    }
   ],
   "source": [
    "df_initial.shape"
   ]
  },
  {
   "cell_type": "code",
   "execution_count": 7,
   "id": "b5f970f6",
   "metadata": {},
   "outputs": [],
   "source": [
    "df = df_initial.copy()"
   ]
  },
  {
   "cell_type": "code",
   "execution_count": 8,
   "id": "2d89e3d3",
   "metadata": {},
   "outputs": [
    {
     "data": {
      "text/plain": [
       "Index(['Country', 'Data Source', 'Advertiser (parent company)', 'Brand',\n",
       "       'Category', 'Media type', 'Year', 'Month', 'Spend (Local Currency)',\n",
       "       'Exchange Rate', 'Spend (US Currency)'],\n",
       "      dtype='object')"
      ]
     },
     "execution_count": 8,
     "metadata": {},
     "output_type": "execute_result"
    }
   ],
   "source": [
    "df.columns"
   ]
  },
  {
   "cell_type": "code",
   "execution_count": 9,
   "id": "b69654db",
   "metadata": {},
   "outputs": [],
   "source": [
    "#os.chdir(r\"C:\\ABI\\Q2_Competitive\\Ad_Spend\\Processed Data\")\n",
    "#print(os.getcwd())\n",
    "#df.to_excel(\"test output.xlsx\", index=False)"
   ]
  },
  {
   "cell_type": "code",
   "execution_count": 10,
   "id": "c76f4b2f",
   "metadata": {},
   "outputs": [
    {
     "data": {
      "text/plain": [
       "Index(['Country', 'Data_Source', 'Advertiser_parent_company', 'Brand',\n",
       "       'Category', 'Media_type', 'Year', 'Month', 'Spend_Local_Currency',\n",
       "       'Exchange_Rate', 'Spend_US_Currency'],\n",
       "      dtype='object')"
      ]
     },
     "execution_count": 10,
     "metadata": {},
     "output_type": "execute_result"
    }
   ],
   "source": [
    "# Renameing features: for easy indexing in python\n",
    "new_columns = ['Country', 'Data_Source', 'Advertiser_parent_company', 'Brand',\n",
    "       'Category', 'Media_type', 'Year', 'Month', 'Spend_Local_Currency',\n",
    "       'Exchange_Rate', 'Spend_US_Currency']\n",
    "df.columns = new_columns\n",
    "df.columns"
   ]
  },
  {
   "cell_type": "code",
   "execution_count": 11,
   "id": "fab81af9",
   "metadata": {},
   "outputs": [],
   "source": [
    "## Making the String in upper case:\n",
    "for col in df.columns[1:-7]:\n",
    "    #print(col)\n",
    "    df[col] = df[col].str.upper()"
   ]
  },
  {
   "cell_type": "markdown",
   "id": "190e9e5a",
   "metadata": {},
   "source": [
    "### Available Markets"
   ]
  },
  {
   "cell_type": "code",
   "execution_count": 12,
   "id": "615c7673",
   "metadata": {},
   "outputs": [
    {
     "data": {
      "text/plain": [
       "array(['Argentina', 'Belgium', 'Bolivia', 'Brazil', 'Canada', 'Chile',\n",
       "       'China', 'Colombia', 'Dominican Republic', 'Ecuador',\n",
       "       'El Salvador', 'France', 'Germany', 'Guatemala', 'Honduras',\n",
       "       'India', 'Italy', 'Japan', 'Mexico', 'Netherlands', 'Panama',\n",
       "       'Paraguay', 'Peru', 'South Africa', 'South Korea', 'UK', 'Uruguay',\n",
       "       'US', 'Vietnam'], dtype=object)"
      ]
     },
     "execution_count": 12,
     "metadata": {},
     "output_type": "execute_result"
    }
   ],
   "source": [
    "df['Country'].unique()"
   ]
  },
  {
   "cell_type": "code",
   "execution_count": 13,
   "id": "c27106f5",
   "metadata": {},
   "outputs": [],
   "source": [
    "## Creating requried columns with null values\n",
    "df[\"Category_Standardized\"] = np.nan\n",
    "df[\"Advertiser_parent_standarized\"] = np.nan\n",
    "df[\"Brand_standarization\"] = np.nan\n",
    "df['Parent_competitor'] = np.nan\n",
    "df[\"Top_Brand_Competitors_and_ABI\"] = np.nan\n",
    "df[\"Focused_Brand_Competitors\"] = np.nan\n",
    "df['Top10_Brands_by_Market'] = np.nan\n",
    "df[\"Media_Summary\"] = np.nan\n",
    "df[\"Media_type_standarized\"] = np.nan\n",
    "df[\"Month_number\"] = np.nan\n",
    "df['Month_standarization'] = np.nan\n",
    "df[\"Focused_Global_Brand\"] = np.nan\n",
    "df[\"Global_Parent\"] = np.nan\n",
    "df[\"ABI_Parent_SOS\"] = np.nan\n",
    "df[\"Heineken_Brand_SOS\"] = np.nan\n",
    "df[\"Amstel_Brand_SOS\"] = np.nan\n",
    "df[\"Digital_Traditional\"] = np.nan\n",
    "df[\"Heineken_Parent_SOS\"] = np.nan\n",
    "df[\"Brand_Rank_by_Country\"] = np.nan\n",
    "df[\"Market_Group\"] = np.nan"
   ]
  },
  {
   "cell_type": "markdown",
   "id": "cbbb72ec",
   "metadata": {},
   "source": [
    "### Category (standardized)"
   ]
  },
  {
   "cell_type": "code",
   "execution_count": 14,
   "id": "81b34d0e",
   "metadata": {},
   "outputs": [],
   "source": [
    "#df['Category'].unique()"
   ]
  },
  {
   "cell_type": "code",
   "execution_count": 15,
   "id": "538a5974",
   "metadata": {},
   "outputs": [
    {
     "data": {
      "text/plain": [
       "array(['Other Alcohol', 'Beer', 'Beyond Beer', 'Non Alcoholic Beer'],\n",
       "      dtype=object)"
      ]
     },
     "execution_count": 15,
     "metadata": {},
     "output_type": "execute_result"
    }
   ],
   "source": [
    "# Drink Categorization:\n",
    "beer = [\"MALTAS\", 'MALTA', \"BEER\", \"BEER - OTHER\", \"CERVEZA\", \"CERVEZAS\", \"CERVEZAS ABI\", \n",
    "        \"CERVEZAS ARTESANALES\", \"CERVEZAS CCC\", \"CERVEZAS RESTANTES\", \"EVENTS DRINKS\", \"INST. BAVARIA\", 'BEER RANGES',\n",
    "       'Light & Low Alcohol Beer & Ale', 'Regular Beer & Ale', 'Cerveza', \"Alcoholic Drink - Brand Building\", \n",
    "       \"Alcoholic Drink - Sports Sponsorship\", \"Alcoholic Drink - Sports Sponsorship\", \"Ales & Bitters\", \n",
    "       \"Beer Lager Cider - Multi Product\", \"Lagers\", \"Stouts\", 'BIERES MULTI-PRODUITS', 'BIERES SPECIALES', 'PILS',\n",
    "       'PILS DE LUXE', 'Lager', 'Alcoholic Drink-Brand Building', 'Ales&Bitters', 'Stout', 'Ready Mixed/alcopops ', \n",
    "       'BIRRE ALCOOLICHE', 'BIRRE ANALCOOLICHE', 'EVENTI E SPETTACOLI']\n",
    "\n",
    "\n",
    "beyond_beer = [\"SELTZER\", 'beyond Beer', \"COOLERS, READY TO DRINK\", \"Ready Mixed/alcopops\"]\n",
    "\n",
    "non_alcoholic_beer = ['Non Alc', \"Alcohol Free Beer Lager Cider\", 'Beer Non Alcoholic,- Arm']\n",
    "\n",
    "other_alcohol = [\"Cider/perry\", \"ENERGY DRINK\", \"COLAS\", \"E-COMMERCE\", \"FERNETS\", \"GIN\", \"INSTITUC BEBIDAS ALCOHOLICAS\", \n",
    "                 \"JUGOS NATURALES\", \"LIMON DIET\", \"LINEA SABORES\", \"MANZANA\", \"NARANJA\", \"SIDRAS\",\" VINOS ALTA GAMA\", \n",
    "                 \"VINOS BAJA GAMA\", \"VINOS ESPUMANTES\", \"VINOS MEDIA GAMA\", \"Liqueur\", \"LIQUEURS\",\" Non-Beer\", \n",
    "                 \"OTHER\", \"Other Alcoholic Drinks\", \"OTHER LIQUORS\", \"OTROS LICORES\", \"RON\", \"RTD ALCOHOLIC BEVERAGES\",\n",
    "                 \"RTD MIXES\", \"RUM\", \"Soda\", \"SODAS\", \"SPIRITS\", \"SPIRITS - OTHER\", \"UVA\", \"VINO\", \"VINOS\", \n",
    "                 \"VINOS FRIZZANTE\", \"VODKA\", \"WHISKY\", \"WHISKYS\", \"WINE\", \"WINE - OTHER\", \"WINE/SPARKLING WINE\",\n",
    "                 \"AGUAS MINERALES Y MINERALIZADA\", \"AGUAS SABORIZADAS CON GAS\", \"AGUAS SABORIZADAS LINEA\",\n",
    "                 \"AGUAS SABORIZADAS SIN GAS\", \"ALCOHOLIC BEVERAGES\", \"CAMPAÑAS DE CONSUMO ALCOHOLIC\", \"CHAMPAGNE\",\n",
    "                 \"Destilled Spirit\", \"INSTITUC BEBIDAS SIN ALCOHOL\", \"LICORES\", \"LIMA LIMON, CITRUS\",\n",
    "                 \"LINEA BEBIDAS ALCOHOLICAS\", \"LINEA BEBIDAS SIN ALCOHOL\", \"APERITIV SIN ALCOHOL Y VEGETAL\",\n",
    "                 \"BEBIDAS ALCOHOLICAS PREPARADAS\", \"BEBIDAS ALCOHOLICAS SABORIZADAS\", \"DISTRIBUID BEBIDAS ALCOHOLICAS\",\n",
    "                 \"FLAVORED ALCOHOLIC BEVERAGES\", \"GRAPAS\", \"IND. LICORERA\", \"AGUARDIENTE\", \"ALCOPOPS\", \"APERITIVOS\",\n",
    "                 \"BEBIDAS DE SOJA\", \"CIDER\", \"CIDER - OTHER\", \"COCTELES\", \"COLAS DIET\", \"EMBOTELLADORAS\", \"FRUTAS\",\n",
    "                 \"JUGOS EN POLVO PARA PREPARAR\", 'VINOS ALTA GAMA', 'NON-BEER', 'LIQUEUR', 'DESTILLED SPIRIT', \n",
    "                 'OTHER ALCOHOLIC DRINKS', 'SODA', 'Cider', 'Wine', 'Alcoholic Beverages: Comb Copy & NEC', 'Non-Beer', \n",
    "                 'AGUA ARDIENTE', 'COGNACS', 'RONES', 'TIENDAS DE LICORES', 'VODKAS', 'WHISKEY', \n",
    "                 'COCKTAILES/MEZCLADORES', 'AUTRES MANIFESTATIONS', 'MANIFESTATIONS SPORTIVES', \n",
    "                 'SPIRITUEUX MULTI-PRODUITS', ]\n",
    "\n",
    "df[\"Category_Standardized\"] = df['Category'].copy()\n",
    "df[\"Category_Standardized\"] = df[\"Category_Standardized\"].replace(beer, \"Beer\")\n",
    "df[\"Category_Standardized\"] = df[\"Category_Standardized\"].replace(beyond_beer, \"Beyond Beer\")\n",
    "df[\"Category_Standardized\"] = df[\"Category_Standardized\"].replace(other_alcohol, \"Other Alcohol\")\n",
    "df[\"Category_Standardized\"] = df[\"Category_Standardized\"].replace(non_alcoholic_beer, \"Non Alcoholic Beer\")\n",
    "df['Category_Standardized'].unique()"
   ]
  },
  {
   "cell_type": "markdown",
   "id": "b129ff9b",
   "metadata": {},
   "source": [
    "### Advertiser (standardized)"
   ]
  },
  {
   "cell_type": "code",
   "execution_count": 16,
   "id": "b5d1bd7f",
   "metadata": {},
   "outputs": [],
   "source": [
    "df[\"Advertiser_parent_standarized\"] = df[\"Advertiser_parent_company\"].copy()\n",
    "\n",
    "## Argentina:\n",
    "#(Changed from Heineken Parent to heineken)\n",
    "df.loc[df['Advertiser_parent_standarized'] == \"CCU SA\", 'Advertiser_parent_standarized'] = \"CCU SA (Heineken Parent)\"  ## Changed\n",
    "df.loc[df['Advertiser_parent_standarized'] == \"QUILMES\", 'Advertiser_parent_standarized'] = \"ABI\"\n",
    "df.loc[df['Advertiser_parent_standarized'] == \"ANHEUSER-BUSCH INBEV\", 'Advertiser_parent_standarized'] = \"ABI\"\n",
    "df.loc[df['Advertiser_parent_standarized'] == \"GOOSE ISLAND BEER COMPANY\", 'Advertiser_parent_standarized'] = \"ABI\"\n",
    "#Bolivia\n",
    "df.loc[df['Advertiser_parent_standarized'] == \"ABINVEB\", 'Advertiser_parent_standarized'] = \"ABI\"\n",
    "##Chile\n",
    "df.loc[df['Advertiser_parent_standarized'] == \"CERVECERIA CHILE\", 'Advertiser_parent_standarized'] = \"ABI\"\n",
    "df.loc[df['Advertiser_parent_standarized'] == \"CCU\", 'Advertiser_parent_standarized'] = \"CCU (Heineken Parent)\" ## changed\n",
    "df.loc[df['Advertiser_parent_standarized'] == \"PATAGONIA (CERVEZA)\", 'Advertiser_parent_standarized'] = \"ABI\"\n",
    "df.loc[df['Advertiser_parent_standarized'] == \"MOLSON COORS CHILE\", 'Advertiser_parent_standarized'] = \"MOLSON COORS\"\n",
    "##China\n",
    "df.loc[df['Advertiser_parent_standarized'] == \"Carlsberg Group\".upper(), 'Advertiser_parent_standarized'] = \"CARLSBERG\"\n",
    "df.loc[df['Advertiser_parent_standarized'] == \"CR Beer\".upper(), 'Advertiser_parent_standarized'] = \"CR Beer (Heineken Parent)\" ## changed\n",
    "df.loc[df['Advertiser_parent_standarized'] == \"OTHERS\", 'Advertiser_parent_standarized'] = \"All Others\" ## Added\n",
    "##Colombia\n",
    "# In 2005, Bavaria Brewery became a subsidiary of SABMiller. SABMiller is subsidiary of ABI\n",
    "# df.loc[df['Advertiser_parent_standarized'] == \"BAVARIA\", 'Advertiser_parent_standarized'] = \"ABI\" ## QURIED the market\n",
    "df.loc[(df['Country'] == 'Colombia') & (df['Advertiser_parent_standarized'] == \"BAVARIA\"), \n",
    "       'Advertiser_parent_standarized'] = \"ABI\"\n",
    "df.loc[df['Advertiser_parent_standarized'] == \"ABINBEV\", 'Advertiser_parent_standarized'] = \"ABI\"\n",
    "df.loc[df['Advertiser_parent_standarized'] == \"CCC\", 'Advertiser_parent_standarized'] = \"CCC (Heineken Parent)\" ## Chnaged\n",
    "df.loc[df['Advertiser_parent_standarized'] == \"HEINEKEN INT\", 'Advertiser_parent_standarized'] = \"HEINEKEN\"\n",
    "df.loc[df['Advertiser_parent_standarized'] == \"CCA INT\", 'Advertiser_parent_standarized'] = \"CCA\"\n",
    "#'DOMINICAN REPUBLIC':\n",
    "#df.loc[df['Advertiser_parent_standarized'] == \"CERVECERIA NACIONAL DOMINICANA\", 'Advertiser_parent_standarized'] = \"ABI\"\n",
    "df.loc[df['Advertiser_parent_standarized'] == \"UNITED BRANDS\", 'Advertiser_parent_standarized'] = \"HEINEKEN\"\n",
    "df.loc[df['Advertiser_parent_standarized'] == \"HEINEKEN CABLE PANREGIONAL\", 'Advertiser_parent_standarized'] = \"HEINEKEN\"\n",
    "df.loc[df['Advertiser_parent_standarized'] == \"CCU CABLE PANREGIONAL\", 'Advertiser_parent_standarized'] = \"CCU (Heineken Parent)\" # Chnaged\n",
    "df.loc[df['Advertiser_parent_standarized'] == \"BUDWEISER CABLE PANREGIONAL\", 'Advertiser_parent_standarized'] = \"ABI\"\n",
    "df.loc[df['Advertiser_parent_standarized'] == \"CLUB COLOMBIA CABLE PANREGIONAL\", 'Advertiser_parent_standarized'] = \"ABI\"\n",
    "df.loc[df['Advertiser_parent_standarized'] == \"QUILMES CABLE PANREGIONALL\", 'Advertiser_parent_standarized'] = \"ABI\"\n",
    "df.loc[df['Advertiser_parent_standarized'] == \"MIKES HARD CABLE PANREGIONAL\", 'Advertiser_parent_standarized'] = \"ABI\"\n",
    "df.loc[df['Advertiser_parent_standarized'] == \"AGUILA CABLE PANREGIONAL\", 'Advertiser_parent_standarized'] = \"ABI\"\n",
    "#'ECUADOR'\n",
    "df.loc[df['Advertiser_parent_standarized'] == \"CIA. DE CERVEZAS NACIONALES\", 'Advertiser_parent_standarized'] = \"ABI\"\n",
    "df.loc[df['Advertiser_parent_standarized'] == \"STELLA ARTOIS\", 'Advertiser_parent_standarized'] = \"ABI\"\n",
    "df.loc[df['Advertiser_parent_standarized'] == \"Heineken\", 'Advertiser_parent_standarized'] = \"HEINEKEN\"\n",
    "#'EL SALVADOR'\n",
    "df.loc[df['Advertiser_parent_standarized'] == \"INDUSTRIAS LA CONSTANCIA SA DE CV\", 'Advertiser_parent_standarized'] = \"ABI\"\n",
    "df.loc[df['Advertiser_parent_standarized'] == \"DISAL\", 'Advertiser_parent_standarized'] = \"HEINEKEN\"\n",
    "#'GUATEMALA'\n",
    "df.loc[df['Advertiser_parent_standarized'] == \"AMBEV CENTROAMERICA\", 'Advertiser_parent_standarized'] = \"ABI\"\n",
    "df.loc[df['Advertiser_parent_standarized'] == \"ANHEUSER-BUSCH CABLE PANREGIONAL\", 'Advertiser_parent_standarized'] = \"ABI\"\n",
    "df.loc[df['Advertiser_parent_standarized'] == \"GRUPO MODELO CABLE PANREGIONAL\", 'Advertiser_parent_standarized'] = \"ABI\"\n",
    "df.loc[df['Advertiser_parent_standarized'] == \"MIKES HARD LEMONADE CABLE PANREGIONAL\", 'Advertiser_parent_standarized'] = \"ABI\"\n",
    "df.loc[df['Advertiser_parent_standarized'] == \"CERVECERIA CENTRO AMERICANA\", 'Advertiser_parent_standarized'] = \"HEINEKEN\"\n",
    "df.loc[df['Advertiser_parent_standarized'] == \"CCU CABLE PANREGIONAL\", 'Advertiser_parent_standarized'] = \"CCU (Heineken Parent)\"\n",
    "#'HONDURAS'\n",
    "df.loc[df['Advertiser_parent_standarized'] == \"CERVECERIA HONDUREÑA\", 'Advertiser_parent_standarized'] = \"ABI\"\n",
    "df.loc[df['Advertiser_parent_standarized'] == \"DISTRIBUIDORA ISTMANIA\", 'Advertiser_parent_standarized'] = \"HEINEKEN\"\n",
    "#'INDIA'\n",
    "df.loc[df['Advertiser_parent_standarized'] == \"Pernod Ricard india private limited\", 'Advertiser_parent_standarized'] = \"Pernod Ricard\".upper()\n",
    "df.loc[df['Advertiser_parent_standarized'] == \"bacardi martini india\", 'Advertiser_parent_standarized'] = \"BACARDI\"\n",
    "df.loc[df['Advertiser_parent_standarized'] == \"CROWN BEERS INDIA LTD\", 'Advertiser_parent_standarized'] = \"ABI\"\n",
    "df.loc[df['Advertiser_parent_standarized'] == \"Carlsberg Beer\".upper(), 'Advertiser_parent_standarized'] = \"Carlsberg\".upper()\n",
    "df.loc[df['Advertiser_parent_standarized'] == \"united spirits limited\", 'Advertiser_parent_standarized'] = \"United Spirits\".upper()\n",
    "df.loc[df['Advertiser_parent_standarized'] == \"HEINEKEN N.V.\", 'Advertiser_parent_standarized'] = \"HEINEKEN\"\n",
    "\n",
    "df.loc[df['Advertiser_parent_standarized'] == \"BACARDI CABLE PANREGIONAL\", 'Advertiser_parent_standarized'] = \"BACARDI\"\n",
    "df.loc[df['Advertiser_parent_standarized'] == \"BACARDI LIMITED\", 'Advertiser_parent_standarized'] = \"BACARDI\"\n",
    "df.loc[df['Advertiser_parent_standarized'] == \"BACARDI LTD\", 'Advertiser_parent_standarized'] = \"BACARDI\"\n",
    "#'JAPAN' - na\n",
    "#'MEXICO' -na\n",
    "#'PARAGUAY'\n",
    "df.loc[df['Advertiser_parent_standarized'] == \"Bebidas del Paraguay\", 'Advertiser_parent_standarized'] = \"HEINEKEN\"\n",
    "df.loc[df['Advertiser_parent_standarized'] == \"Distribuidora Gloria\", 'Advertiser_parent_standarized'] = \"MOLSON COORS\"\n",
    "#'PANAMA' ## is FEDURO should be Molson Coors - Ask Bob \n",
    "df.loc[df['Advertiser_parent_standarized'] == \"CERVECERIA PANAMA\", 'Advertiser_parent_standarized'] = \"HEINEKEN\"\n",
    "df.loc[df['Advertiser_parent_standarized'] == \"DIST COMERCIAL GROUP\", 'Advertiser_parent_standarized'] = \"ABI\"\n",
    "#'PERU'\n",
    "df.loc[df['Advertiser_parent_standarized'] == \"UCP BACKUS Y JOHNSTON S.A.A.\", 'Advertiser_parent_standarized'] = \"ABI\"\n",
    "df.loc[df['Advertiser_parent_standarized'] == \"LIMBA SERVICES SAC\", 'Advertiser_parent_standarized'] = \"HEINEKEN\"\n",
    "df.loc[df['Advertiser_parent_standarized'] == \"DESTILERIA PERUANA\", 'Advertiser_parent_standarized'] = \"BACARDI\"\n",
    "#'SOUTH AFRICA'\n",
    "df.loc[df['Advertiser_parent_standarized'] == \"ANHEUSER-BUSCH INBEV\", 'Advertiser_parent_standarized'] = \"ABI\"\n",
    "df.loc[df['Advertiser_parent_standarized'] == \"SAB MILLER\", 'Advertiser_parent_standarized'] = \"ABI\"\n",
    "df.loc[df['Advertiser_parent_standarized'] == \"HEINEKEN INTERNATIONAL\", 'Advertiser_parent_standarized'] = \"HEINEKEN\"\n",
    "df.loc[df['Advertiser_parent_standarized'] == \"HEINEKEN SOUTH AFRICA\", 'Advertiser_parent_standarized'] = \"HEINEKEN\"\n",
    "df.loc[df['Advertiser_parent_standarized'] == \"CERVECERIA MODELO\", 'Advertiser_parent_standarized'] = \"ABI\"\n",
    "df.loc[df['Advertiser_parent_standarized'] == \"BELGIUM BEER COMPANY\", 'Advertiser_parent_standarized'] = \"ABI\"\n",
    "df.loc[df['Advertiser_parent_standarized'] == \"ANHEUSER BUSCH INC\", 'Advertiser_parent_standarized'] = \"ABI\"\n",
    "df.loc[df['Advertiser_parent_standarized'] == \"CORONA CHASING SUNSETS\", 'Advertiser_parent_standarized'] = \"ABI\"\n",
    "#'SOUTH KOREA'\n",
    "df.loc[df['Advertiser_parent_standarized'] == \"ABInBev\", 'Advertiser_parent_standarized'] = \"ABI\"\n",
    "df.loc[df['Advertiser_parent_standarized'] == \"GOLDEN BLUE\", 'Advertiser_parent_standarized'] = \"GOLDEN BLUE (MOLSON COORS)\"\n",
    "#'URUGUAY'\n",
    "df.loc[df['Advertiser_parent_standarized'] == \"FNC\", 'Advertiser_parent_standarized'] = \"ABI\"\n",
    "df.loc[df['Advertiser_parent_standarized'] == \"FABRICAS NACIONALES DE CERVEZA\", 'Advertiser_parent_standarized'] = \"ABI\"\n",
    "df.loc[df['Advertiser_parent_standarized'] == \"CORONA\", 'Advertiser_parent_standarized'] = \"ABI\"\n",
    "#df.loc[df['Advertiser_parent_standarized'] == \"PILSEN\", 'Advertiser_parent_standarized'] = \"ABI\"\n",
    "df.loc[df['Advertiser_parent_standarized'] == \"COMPANIA CERVECERIAS UNIDAS\", 'Advertiser_parent_standarized'] = \"HEINEKEN\"\n",
    "df.loc[df['Advertiser_parent_standarized'] == \"CCU\", 'Advertiser_parent_standarized'] = \"CCU (Heineken Parent)\"\n",
    "#'VIETNAM'\n",
    "df.loc[df['Advertiser_parent_standarized'] == \"CARLSBERG VIETNAM\", 'Advertiser_parent_standarized'] = \"CARLSBERG\"\n",
    "df.loc[df['Advertiser_parent_standarized'] == \"VBL\", 'Advertiser_parent_standarized'] = \"VBL (Heineken Parent)\"\n",
    "# USA\n",
    "df.loc[df['Advertiser_parent_standarized'] == \"Anheuser-Busch InBev\", 'Advertiser_parent_standarized'] = \"ABI\"\n",
    "df.loc[df['Advertiser_parent_standarized'] == 'MOLSON COORS BREWING CO', 'Advertiser_parent_standarized'] = \"MOLSON COORS\"\n",
    "df.loc[df['Advertiser_parent_standarized'] == 'MOLSON', 'Advertiser_parent_standarized'] = \"MOLSON COORS\"\n",
    "df.loc[df['Advertiser_parent_standarized'] == \"HEINEKEN NV\", 'Advertiser_parent_standarized'] = \"HEINEKEN\"\n",
    "#Bolivia\n",
    "df.loc[df['Advertiser_parent_standarized'] == \"CERVECERIA BOLIVIANA NACIONAL S.A.\", 'Advertiser_parent_standarized'] = \"ABI\"\n",
    "#df[\"Advertiser_parent_standarized\"].unique()\n",
    "##UK\n",
    "df.loc[df['Advertiser_parent_standarized'] == \"MOLSON COORS BREWING CO UK LTD\", 'Advertiser_parent_standarized'] = \"MOLSON COORS\"\n",
    "df.loc[df['Advertiser_parent_standarized'] == \"DIAGEO UK LTD\", 'Advertiser_parent_standarized'] = \"DIAGEO\"\n",
    "df.loc[df['Advertiser_parent_standarized'] == \"BROWN FORMAN BEVERAGES WORLDWIDE/COCA COLA COMPANY\", 'Advertiser_parent_standarized'] = \"BROWN FORMAN\"\n",
    "df.loc[df['Advertiser_parent_standarized'] == \"HEINEKEN UK LTD\", 'Advertiser_parent_standarized'] = \"HEINEKEN\"\n",
    "df.loc[df['Advertiser_parent_standarized'] == \"ASAHI UK LTD\", 'Advertiser_parent_standarized'] = \"ASAHI\"\n",
    "df.loc[df['Advertiser_parent_standarized'] == \"CARLSBERG UK LTD\", 'Advertiser_parent_standarized'] = \"CARLSBERG\"\n",
    "df.loc[df['Advertiser_parent_standarized'] == \"AB INBEV UK LTD\", 'Advertiser_parent_standarized'] = \"ABI\"\n",
    "df.loc[df['Advertiser_parent_standarized'] == \"ASAHI BRANDS GERMANY, KOELN\", 'Advertiser_parent_standarized'] = \"ASAHI\"\n",
    "df.loc[df['Advertiser_parent_standarized'] == \"ASAHI BREWERIES LTD\", 'Advertiser_parent_standarized'] = \"ASAHI\"\n",
    "df.loc[df['Advertiser_parent_standarized'] == \"BAVARIA BRASSERIE\", 'Advertiser_parent_standarized'] = \"BAVARIA\"\n",
    "df.loc[df['Advertiser_parent_standarized'] == \"BAVARIA BRAU PTY LTD\", 'Advertiser_parent_standarized'] = \"BAVARIA\"\n",
    "df.loc[df['Advertiser_parent_standarized'] == \"BAVARIA CABLE PANREGIONAL\", 'Advertiser_parent_standarized'] = \"BAVARIA\"\n",
    "df.loc[df['Advertiser_parent_standarized'] == \"BAVARIA ITALIA SRL TORINO\", 'Advertiser_parent_standarized'] = \"BAVARIA\"\n",
    "df.loc[df['Advertiser_parent_standarized'] == \"BAVARIA LIESHOUT\", 'Advertiser_parent_standarized'] = \"BAVARIA\"\n",
    "df.loc[df['Advertiser_parent_standarized'] == \"CONSTELLATION BRANDS INC\", 'Advertiser_parent_standarized'] = \"CONSTELLATION\"\n",
    "#Belgium\n",
    "df.loc[df['Advertiser_parent_standarized'] == \"ANHEUSER BUSCH INBEV\", 'Advertiser_parent_standarized'] = \"ABI\"\n",
    "df.loc[df['Advertiser_parent_standarized'] == \"DUVEL MOORTGAT BROUWERIJ\", 'Advertiser_parent_standarized'] = \"DUVEL\"\n",
    "df.loc[df['Advertiser_parent_standarized'] == \"HEINEKEN COMPANY\", 'Advertiser_parent_standarized'] = \"HEINEKEN\"\n",
    "df.loc[df['Advertiser_parent_standarized'] == \"CARLSBERG IMPORTERS\", 'Advertiser_parent_standarized'] = \"CARLSBERG\"\n",
    "df.loc[df['Advertiser_parent_standarized'] == \"MARTIN'S GROUP\", 'Advertiser_parent_standarized'] = \"MARTINS\"\n",
    "\n",
    "# France:\n",
    "df.loc[df['Advertiser_parent_standarized'] == \"AB INBEV\", 'Advertiser_parent_standarized'] = \"ABI\"\n",
    "df.loc[df['Advertiser_parent_standarized'] == \"BAVARIA BRASSERIE\", 'Advertiser_parent_standarized'] = \"BAVARIA\"\n",
    "df.loc[df['Advertiser_parent_standarized'] == \"HEINEKEN FRANCE GPE\", 'Advertiser_parent_standarized'] = \"HEINEKEN\"\n",
    "df.loc[df['Advertiser_parent_standarized'] == \"CARLSBERG GROUPE\", 'Advertiser_parent_standarized'] = \"CARLSBERG\"\n",
    "\n",
    "#Germany\n",
    "df.loc[df['Advertiser_parent_standarized'] == \"HEINEKEN DT., BER\", 'Advertiser_parent_standarized'] = \"HEINEKEN\"\n",
    "df.loc[df['Advertiser_parent_standarized'] == \"CARLSBERG DT., HH\", 'Advertiser_parent_standarized'] = \"CARLSBERG\"\n",
    "df.loc[df['Advertiser_parent_standarized'] == \"ANHEUSER-BUSCH INBEV GERM.HOL., BREMEN\", \n",
    "       'Advertiser_parent_standarized'] = \"ABI\"\n",
    "df.loc[df['Advertiser_parent_standarized'] == \"WARSTEINER BRAUEREI HS.CRAMER, WARSTEIN\", \n",
    "       'Advertiser_parent_standarized'] = \"WARSTEINER\"\n",
    "df.loc[df['Advertiser_parent_standarized'] == \"KROMBACHER BRAUEREI, KREUZTAL-KROMBACH\", \n",
    "       'Advertiser_parent_standarized'] = \"KROMBACHER\"\n",
    "df.loc[df['Advertiser_parent_standarized'] == \"PAULANER BRAUEREI, MUC\", \n",
    "       'Advertiser_parent_standarized'] = \"PAULANER\"\n",
    "df.loc[df['Advertiser_parent_standarized'] == \"VELTINS C.+.A. BRAUEREI, MESCHEDE\", \n",
    "       'Advertiser_parent_standarized'] = \"VELTINS\"\n",
    "df.loc[df['Advertiser_parent_standarized'] == \"FRIESISCHES BRAUHAUS ZU JEVER, JEVER\", \n",
    "       'Advertiser_parent_standarized'] = \"FRIESISCHES\"\n",
    "df.loc[df['Advertiser_parent_standarized'] == \"RADEBERGER EXPORTBIERBRAUEREI, RADEBERG\", \n",
    "       'Advertiser_parent_standarized'] = \"RADEBERGER\"\n",
    "\n",
    "#Italy\n",
    "df.loc[df['Advertiser_parent_standarized'] == \"HEINEKEN ITALIA SPA MILANO\", 'Advertiser_parent_standarized'] = \"HEINEKEN\"\n",
    "df.loc[df['Advertiser_parent_standarized'] == \"CARLSBERG IT.INDUNO O.VA\", 'Advertiser_parent_standarized'] = \"CARLSBERG\"\n",
    "df.loc[df['Advertiser_parent_standarized'] == \"AB INBEV IT.SPA GALLARATE VA\", 'Advertiser_parent_standarized'] = \"ABI\"\n",
    "df.loc[df['Advertiser_parent_standarized'] == \"BAVARIA ITALIA SRL TORINO\", 'Advertiser_parent_standarized'] = \"BAVARIA\"\n",
    "\n",
    "# Nl\n",
    "df.loc[df['Advertiser_parent_standarized'] == \"Heineken Nederland (WHK) Zoeterwoude\".upper(), \n",
    "       'Advertiser_parent_standarized'] = \"HEINEKEN\"\n",
    "df.loc[df['Advertiser_parent_standarized'] == \"Koninklijke Grolsch Enschede.upper()\", 'Advertiser_parent_standarized'] = \"GROLSCH\"\n",
    "df.loc[df['Advertiser_parent_standarized'] == \"Duvel Moortgat Nederland Amsterdam\".upper(), \n",
    "       'Advertiser_parent_standarized'] = \"DUVEL\"\n",
    "df.loc[df['Advertiser_parent_standarized'] == \"AB InBev Nederland Breda\".upper(), 'Advertiser_parent_standarized'] = \"ABI\"\n",
    "df.loc[df['Advertiser_parent_standarized'] == \"TEXELSE BIERBROUWERIJ OUDESCHILD\", 'Advertiser_parent_standarized'] = \"TEXELSE\"\n",
    "df.loc[df['Advertiser_parent_standarized'] == \"BROUWERIJ BOSTEELS BUGGENHOUT [BE]\", \n",
    "       'Advertiser_parent_standarized'] = \"ABI\"\n",
    "df.loc[df['Advertiser_parent_standarized'] == \"LIDL NEDERLAND HUIZEN\", 'Advertiser_parent_standarized'] = \"HUIZEN\"\n",
    "df.loc[df['Advertiser_parent_standarized'] == \"CAMDEN TOWN BREWERY LTD\", 'Advertiser_parent_standarized'] = \"ABI\"\n"
   ]
  },
  {
   "cell_type": "code",
   "execution_count": 17,
   "id": "e21c1c97",
   "metadata": {},
   "outputs": [],
   "source": [
    "#df['Advertiser_parent_standarized'].unique()"
   ]
  },
  {
   "cell_type": "markdown",
   "id": "87dc6dda",
   "metadata": {},
   "source": [
    "### Brand (standardized) "
   ]
  },
  {
   "cell_type": "code",
   "execution_count": 18,
   "id": "2c4d5858",
   "metadata": {},
   "outputs": [],
   "source": [
    "df[\"Brand_standarization\"] = df[\"Brand\"].copy() # Copy the brnad names to a new column to strd\n",
    "df[\"Brand_standarization\"] = df[\"Brand_standarization\"].str.strip()\n",
    "df[\"Brand_standarization\"] = df[\"Brand_standarization\"].str.replace('SPONSORSHIP', '')\n",
    "df[\"Brand_standarization\"] = df[\"Brand_standarization\"].str.replace('CORPORATE', '')\n",
    "df[\"Brand_standarization\"] = df[\"Brand_standarization\"].str.replace('COMPETITION', '')\n",
    "df[\"Brand_standarization\"] = df[\"Brand_standarization\"].str.replace('RUGBY', '')\n",
    "#df[\"Brand_standarization\"] = df[\"Brand_standarization\"].str.replace('(REG)', '')\n",
    "df[\"Brand_standarization\"] = df[\"Brand_standarization\"].str.replace('(BEER)', '')\n",
    "#df[\"Brand_standarization\"] = df[\"Brand_standarization\"].str.replace('(CERVEZA)', '')\n",
    "#df[\"Brand_standarization\"] = df[\"Brand_standarization\"].str.replace(\"(CERVECERIA)\", \"\")\n",
    "#df[\"Brand_standarization\"] = df[\"Brand_standarization\"].str.replace(\"(\", \"\")\n",
    "#df[\"Brand_standarization\"] = df[\"Brand_standarization\"].str.replace(\")\", \"\")\n",
    "df[\"Brand_standarization\"] = df[\"Brand_standarization\"].str.strip()\n",
    "df.loc[df['Brand_standarization'] == \"HEINEKEN 0 0\", 'Brand_standarization'] = \"HEINEKEN 0.0\"\n",
    "df.loc[df['Brand_standarization'] == \"HEINEKEN O.O LAGER\", 'Brand_standarization'] = \"HEINEKEN 0.0\"\n",
    "df.loc[df['Brand_standarization'] == \"HEINEKEN 0 0 A1PADEL PAYSPACE CAPE TOWN MASTER\", 'Brand_standarization'] = \"HEINEKEN 0.0\"\n",
    "df.loc[df['Brand_standarization'] == \"HEINEKEN O.O LAGER\", 'Brand_standarization'] = \"HEINEKEN 0.0\"\n",
    "df.loc[df['Brand_standarization'] == \"HEINEKEN 00\", 'Brand_standarization'] = \"HEINEKEN 0.0\"\n",
    "df.loc[df['Brand_standarization'] == \"HEINEKEN MEXICO\", 'Brand_standarization'] = \"HEINEKEN\"\n",
    "df.loc[df['Brand_standarization'] == \"HEINEKEN LAGER\", 'Brand_standarization'] = \"HEINEKEN\"\n",
    "df.loc[df['Brand_standarization'] == \"HEINEKEN ()\", 'Brand_standarization'] = \"HEINEKEN\"\n",
    "df.loc[df['Brand_standarization'] == 'UNITED BRANDS', 'Brand_standarization'] = \"HEINEKEN\" #Dominican Republic\n",
    "df.loc[df['Brand_standarization'] == \"GC/AMSTEL MALTA\", 'Brand_standarization'] = \"AMSTEL MALTA\"\n",
    "\n",
    "df.loc[df['Brand_standarization'] == \"HEINEKEN - EURO 2020\", 'Brand_standarization'] = \"HEINEKEN\"\n",
    "df.loc[df['Brand_standarization'] == \"HEINEKEN - CHAMPIONS LEAGUE\", 'Brand_standarization'] = \"HEINEKEN\"\n",
    "df.loc[df['Brand_standarization'] == \"HEINEKEN - UEFA CHAMPIONS LEAGUE\", 'Brand_standarization'] = \"HEINEKEN\"\n",
    "df.loc[df['Brand_standarization'] == \"BIRRA MORETTI - ZERO BEER\", 'Brand_standarization'] = \"BIRRA MORETTI 0.0\"\n",
    "df.loc[df['Brand_standarization'] == \"BIRRA MORETTI - BRAND BUILDING\", 'Brand_standarization'] = \"BIRRA MORETTI\"\n",
    "df.loc[df['Brand_standarization'] == \"HEINEKEN - HEINEKEN SILVER\", 'Brand_standarization'] = \"HEINEKEN SILVER\"\n",
    "df.loc[df['Brand_standarization'] == \"HEINEKEN - UEFA EUROPA LEAGUE SPONSOR\", 'Brand_standarization'] = \"HEINEKEN\"\n",
    "df.loc[df['Brand_standarization'] == \"HEINEKEN/TURKISH AIRLINES - UEFA CHAMPIONS LEAGUE\", 'Brand_standarization'] = \"HEINEKEN\"\n",
    "df.loc[df['Brand_standarization'] == \"HEINEKEN - BRAND BUILDING\", 'Brand_standarization'] = \"HEINEKEN\"\n",
    "df.loc[df['Brand_standarization'] == \"HEINEKEN - UEFA CHAMPIONS LEAGUE SPONSOR\", 'Brand_standarization'] = \"HEINEKEN\"\n",
    "df.loc[df['Brand_standarization'] == \"HEINEKEN/OPPO - UEFA CHAMPIONS LEAGUE\", 'Brand_standarization'] = \"HEINEKEN\"\n",
    "df.loc[df['Brand_standarization'] == \"HEINEKEN - UEFA WOMENS CHAMPIONS LEAGUE SPONSOR\", 'Brand_standarization'] = \"HEINEKEN\"\n",
    "df.loc[df['Brand_standarization'] == \"ASAHI UK LTD\", 'Brand_standarization'] = \"ASAHI\"\n",
    "\n",
    "df.loc[df['Brand_standarization'] == \"CARLSBERG - 00 ALCOHOL FREE LAGER\", 'Brand_standarization'] = \"CARLSBERG\"\n",
    "df.loc[df['Brand_standarization'] == \"CARLSBERG - LIVERPOOL FC SPONSOR\", 'Brand_standarization'] = \"CARLSBERG\"\n",
    "df.loc[df['Brand_standarization'] == \"CARLSBERG - DANISH PILSNER\", 'Brand_standarization'] = \"CARLSBERG\"\n",
    "df.loc[df['Brand_standarization'] == \"ASAHI UK LTD\", 'Brand_standarization'] = \"ASAHI\"\n",
    "\n",
    "df.loc[df['Brand_standarization'] == \"CORONA EXTRA - LAGER\", 'Brand_standarization'] = \"CORONA\"\n",
    "df.loc[df['Brand_standarization'] == \"STELLA ARTOIS - UNFILTERED\", 'Brand_standarization'] = \"STELLA ARTOIS\"\n",
    "df.loc[df['Brand_standarization'] == \"CORONA - BRAND BUILDING\", 'Brand_standarization'] = \"CORONA\"\n",
    "df.loc[df['Brand_standarization'] == \"CORONA - TROPICAL\", 'Brand_standarization'] = \"CORONA TROPICAL\"\n",
    "df.loc[df['Brand_standarization'] == \"LEFFE - BLONDE BEER\", 'Brand_standarization'] = \"LEFFE\"\n",
    "df.loc[df['Brand_standarization'] == \"CORONA - CERO\", 'Brand_standarization'] = \"CORONA CERO\"\n",
    "df.loc[df['Brand_standarization'] == \"BUDWEISER BEER - BRAND BUILDING\", 'Brand_standarization'] = \"BUDWEISER\"\n",
    "df.loc[df['Brand_standarization'] == \"BECKS - AUTONOMOUS\", 'Brand_standarization'] = \"BECKS\"\n"
   ]
  },
  {
   "cell_type": "code",
   "execution_count": 19,
   "id": "5fca2a4f",
   "metadata": {},
   "outputs": [],
   "source": [
    "## Other Brands including ABI\n",
    "df.loc[df['Brand_standarization'] == \"BRUGAL ()\", 'Brand_standarization'] = \"BRUGAL\"\n",
    "df.loc[df['Brand_standarization'] == \"CORONA.\", 'Brand_standarization'] = \"CORONA\" # 'ARGENTINA'\n",
    "df.loc[df['Brand_standarization'] == 'PACEÑA', 'Brand_standarization'] = \"PACENA\" # Bolivia\n",
    "df.loc[df['Brand_standarization'] == 'AUSTRAL (CERVEZA)', 'Brand_standarization'] = \"AUSTRAL\" #'CHILE'\n",
    "df.loc[df['Brand_standarization'] == 'CRISTAL (CERVEZA)', 'Brand_standarization'] = \"CRISTAL\"\n",
    "df.loc[df['Brand_standarization'] == 'PATAGONIA CERVEZA', 'Brand_standarization'] = \"PATAGONIA\"\n",
    "df.loc[df['Brand_standarization'] == 'PATAGONIA (CERVEZA)', 'Brand_standarization'] = \"PATAGONIA\"\n",
    "df.loc[df['Brand_standarization'] == 'SOL (CERVEZA)', 'Brand_standarization'] = \"SOL\"\n",
    "df.loc[df['Brand_standarization'] == 'ABINBEV INSTITUCIONAL', 'Brand_standarization'] = \"ABI\"\n",
    "df.loc[df['Brand_standarization'] == 'CORONA (CERVEZA)', 'Brand_standarization'] = \"CORONA\"\n",
    "df.loc[df['Brand_standarization'] == 'CUSQUEÑA', 'Brand_standarization'] = \"CUSQUENA\"\n",
    "df.loc[df['Brand_standarization'] == \"Snow Others\", 'Brand_standarization'] = \"SNOW\"  #'CHINA'\n",
    "df.loc[df['Brand_standarization'] == \"Others\", 'Brand_standarization'] = \"All Others\"\n",
    "df.loc[df['Brand_standarization'] == \"CORONITA\", 'Brand_standarization'] = \"CORONA\"  #'COLOMBIA'\n",
    "df.loc[df['Brand_standarization'] == \"COSTEÑA\", 'Brand_standarization'] = \"COSTENA\"\n",
    "df.loc[df['Brand_standarization'] == 'CERVECERIA NACIONAL DOMINICANA', 'Brand_standarization'] = \"CERVECERIA\" #'Dom Rep'\n",
    "df.loc[df['Brand_standarization'] == 'CIA. CERVEZAS NACIONALES', 'Brand_standarization'] = \"ABI\"  #'ECUADOR'\n",
    "df.loc[df['Brand_standarization'] == 'CASTLE LITE BEER', 'Brand_standarization'] = \"CASTLE LITE\" #'SOUTH AFRICA'\n",
    "df.loc[df['Brand_standarization'] == 'BRUTAL FRUIT SPRITZER', 'Brand_standarization'] = \"BRUTAL FRUIT\"\n",
    "df.loc[df['Brand_standarization'] == 'CARLING BLACK LABEL BEER', 'Brand_standarization'] = \"CARLING BLACK LABEL\"\n",
    "df.loc[df['Brand_standarization'] == 'CARLING BLACK LABEL BEER', 'Brand_standarization'] = \"CARLING BLACK LABEL\"\n",
    "df.loc[df['Brand_standarization'] == 'CARLING BLACK LABEL BEER SOCCER', 'Brand_standarization'] = \"CARLING BLACK LABEL\"\n",
    "df.loc[df['Brand_standarization'] == 'CASTLE LITE BEER', 'Brand_standarization'] = \"CASTLE LITE\"\n",
    "df.loc[df['Brand_standarization'] == 'FLYING FISH CHILL BEER', 'Brand_standarization'] = \"FLYING FISH\"\n",
    "#df.loc[df['Brand_standarization'] == 'FLYING FISH FLAVOUR CHILLAS', 'Brand_standarization'] = \"FLYING FISH\"\n",
    "#df.loc[df['Brand_standarization'] == 'FLYING FISH FLAVOUR CHILLAS', 'Brand_standarization'] = \"FLYING FISH FLAVOUR CHILLAS\"\n",
    "df.loc[df['Brand_standarization'] == 'FLYING FISH PREMIUM FLAVOURED BEER', 'Brand_standarization'] = \"FLYING FISH\"\n",
    "df.loc[df['Brand_standarization'] == 'FLYING FISH FLAVOUR CHILLAS', 'Brand_standarization'] = \"FLYING FISH FLAVOUR CHILLAS\"\n",
    "df.loc[df['Brand_standarization'] == 'FLYING FISH PREMIUM FLAVOURED BEER COMP', 'Brand_standarization'] = \"FLYING FISH\"\n",
    "#df.loc[df['Brand_standarization'] == 'FLYING FISH SELTZER', 'Brand_standarization'] = \"FLYING FISH\"\n",
    "df.loc[df['Brand_standarization'] == 'FLYING FISH SELTZER PROMOTION', 'Brand_standarization'] = \"FLYING FISH SELTZER\"\n",
    "df.loc[df['Brand_standarization'] == 'HUNTERS CIDER COMPETITION', 'Brand_standarization'] = \"HUNTERS\"\n",
    "df.loc[df['Brand_standarization'] == 'HUNTERS CIDER RANGE', 'Brand_standarization'] = \"HUNTERS\"\n",
    "df.loc[df['Brand_standarization'] == 'HUNTERS DRY CIDER', 'Brand_standarization'] = \"HUNTERS\"\n",
    "df.loc[df['Brand_standarization'] == 'HUNTERS REFRESH THE RULES OF IGRAND', 'Brand_standarization'] = \"HUNTERS\"\n",
    "df.loc[df['Brand_standarization'] == 'SAVANNA CIDER MUSIC', 'Brand_standarization'] = \"SAVANNA\"\n",
    "df.loc[df['Brand_standarization'] == 'SAVANNA CIDER RANGE', 'Brand_standarization'] = \"SAVANNA\"\n",
    "df.loc[df['Brand_standarization'] == 'SAVANNA COMICS AWARDS', 'Brand_standarization'] = \"SAVANNA\"\n",
    "df.loc[df['Brand_standarization'] == 'SAVANNA DRY CIDER', 'Brand_standarization'] = \"SAVANNA\"\n",
    "df.loc[df['Brand_standarization'] == 'SAVANNA DRY CIDER COMEDY', 'Brand_standarization'] = \"SAVANNA\"\n",
    "df.loc[df['Brand_standarization'] == 'HEINEKEN LAGER BEER', 'Brand_standarization'] = \"HEINEKEN\"\n",
    "df.loc[df['Brand_standarization'] == 'HEINEKEN LAGER BEER RUGBY', 'Brand_standarization'] = \"HEINEKEN\"\n",
    "df.loc[df['Brand_standarization'] == 'THREE SHIPS WHISKY', 'Brand_standarization'] = \"THREE SHIPS\"\n",
    "df.loc[df['Brand_standarization'] == 'THREE SHIPS WHISKY COMPETITION', 'Brand_standarization'] = \"THREE SHIPS\"\n",
    "df.loc[df['Brand_standarization'] == 'THREE SHIPS WHISKY PROMOTION', 'Brand_standarization'] = \"THREE SHIPS\"\n",
    "df.loc[df['Brand_standarization'] == 'JOHNNIE WALKER BLACK LABEL', 'Brand_standarization'] = \"JOHNNIE WALKER\"\n",
    "df.loc[df['Brand_standarization'] == 'JOHNNIE WALKER FLAVOURCODE', 'Brand_standarization'] = \"JOHNNIE WALKER\"\n",
    "df.loc[df['Brand_standarization'] == 'JOHNNIE WALKER GOLD LABEL RESERVE', 'Brand_standarization'] = \"JOHNNIE WALKER\"\n",
    "df.loc[df['Brand_standarization'] == 'JOHNNIE WALKER WHISKY RANGE', 'Brand_standarization'] = \"JOHNNIE WALKER\"\n",
    "df.loc[df['Brand_standarization'] == 'CORONA SUNSET FESTIVAL', 'Brand_standarization'] = \"CORONA\"\n",
    "df.loc[df['Brand_standarization'] == 'CORONA OPEN JBAY', 'Brand_standarization'] = \"CORONA\"\n",
    "df.loc[df['Brand_standarization'] == 'BLACK CROWN PREMIUM GIN & TONIC', 'Brand_standarization'] = \"BLACK CROWN\"\n",
    "df.loc[df['Brand_standarization'] == 'STELLA ARTOIS BEER', 'Brand_standarization'] = \"STELLA ARTOIS\"\n",
    "df.loc[df['Brand_standarization'] == 'STELLA ARTOIS PLAYERS CHAMPIONSHIP', 'Brand_standarization'] = \"STELLA ARTOIS\"\n",
    "df.loc[df['Brand_standarization'] == 'BUDWEISER BEER', 'Brand_standarization'] = \"BUDWEISER\"\n",
    "df.loc[df['Brand_standarization'] == 'CORONA CHASING SUNSETS', 'Brand_standarization'] = \"CORONA\"\n",
    "df.loc[df['Brand_standarization'] == 'CASTLE MILK STOUT MEDLEY PROMOTION', 'Brand_standarization'] = \"CASTLE MILK STOUT\"\n",
    "df.loc[df['Brand_standarization'] == 'Bud Light Corporate'.upper(), 'Brand_standarization'] = \"Bud Light\".upper() #USA \n",
    "df.loc[df['Brand_standarization'] == 'Bud Light Seltzer Corporate'.upper(), 'Brand_standarization'] = \"Bud Light Seltzer\".upper()\n",
    "df.loc[df['Brand_standarization'] == 'Budweiser Corporate'.upper(), 'Brand_standarization'] = \"Budweiser\".upper()\n",
    "#df.loc[df['Brand_standarization'] == 'Corona Extra'.upper(), 'Brand_standarization'] = \"Corona\".upper()\n",
    "#df.loc[df['Brand_standarization'] == 'Corona Extra Corporate'.upper(), 'Brand_standarization'] = \"Corona\".upper()\n",
    "df.loc[df['Brand_standarization'] == 'Dos Equis Corporate'.upper(), 'Brand_standarization'] = \"Dos Equis\".upper()\n",
    "df.loc[df['Brand_standarization'] == 'Michelob Ultra Corporate'.upper(), 'Brand_standarization'] = \"Michelob Ultra\".upper()\n",
    "df.loc[df['Brand_standarization'] == 'Miller Lite Corporate'.upper(), 'Brand_standarization'] = \"Miller Lite\".upper()\n",
    "df.loc[df['Brand_standarization'] == 'Modelo Corporate'.upper(), 'Brand_standarization'] = \"MODELO\"\n",
    "df.loc[df['Brand_standarization'] == 'Anheuser-Busch'.upper(), 'Brand_standarization'] = \"ABI\"\n",
    "df.loc[df['Brand_standarization'] == 'Anheuser-Busch Corporate'.upper(), 'Brand_standarization'] = \"ABI\"                                         \n",
    "df.loc[df['Brand_standarization'] == 'Budweiser Sponsorship'.upper(), 'Brand_standarization'] =  \"Budweiser\".upper()                                          \n",
    "df.loc[df['Brand_standarization'] == 'Bud Light Sponsorship'.upper(), 'Brand_standarization'] =  \"Bud Light\".upper()              \n",
    "df.loc[df['Brand_standarization'] == 'Cerveza Victoria'.upper(), 'Brand_standarization'] =  \"Victoria\".upper() \n",
    "# Ad-hoc chnages:\n",
    "df.loc[df['Brand_standarization'] == 'TIGER ()', 'Brand_standarization'] =  \"TIGER\"\n",
    "df.loc[df['Brand_standarization'] == 'HUDA ()', 'Brand_standarization'] =  \"HUDA\"\n",
    "df.loc[df['Brand_standarization'] ==  'KRONENBOURG 1664 BLANC ()', 'Brand_standarization'] =  \"KRONENBOURG 1664 BLANC\"\n",
    "df.loc[df['Brand_standarization'] == 'TUBORG ()', 'Brand_standarization'] =  \"TUBORG\"\n",
    "df.loc[df['Brand_standarization'] == 'CRISTAL ()', 'Brand_standarization'] =  \"CRISTAL\"\n",
    "#df.loc[df['Brand_standarization'] ==   'IMPERIAL ()', 'Brand_standarization'] =  \"IMPERIAL\"\n",
    "df.loc[df['Brand_standarization'] ==  'SOL (CERVEZA)', 'Brand_standarization'] =  \"SOL\"\n",
    "df.loc[df['Brand_standarization'] == 'BUDWEISER ()', 'Brand_standarization'] =  \"BUDWEISER\"\n",
    "df.loc[df['Brand_standarization'] == 'CRISTAL (CERVEZA)', 'Brand_standarization'] =  \"CRISTAL\"\n",
    "df.loc[df['Brand_standarization'] == 'IMPERIAL (CERVEZA)', 'Brand_standarization'] =  \"IMPERIAL\"\n",
    "df.loc[df['Brand_standarization'] == 'LOA,CERVEZA', 'Brand_standarization'] =  \"LOA\"\n",
    "df.loc[df['Brand_standarization'] == 'PATAGONIA CERVEZA', 'Brand_standarization'] =  \"PATAGONIA\"\n",
    "df.loc[df['Brand_standarization'] == 'AUSTRAL (CERVEZA)', 'Brand_standarization'] =  \"AUSTRAL\"\n",
    "df.loc[df['Brand_standarization'] == 'CORONA (CERVEZA)', 'Brand_standarization'] =  \"CORONA\"\n",
    "df.loc[df['Brand_standarization'] == 'EDELWEISS (CERVEZA)', 'Brand_standarization'] =  \"EDELWEISS\"\n",
    "df.loc[df['Brand_standarization'] == 'MILLER (CERVEZA)', 'Brand_standarization'] =  \"MILLER\"\n",
    "df.loc[df['Brand_standarization'] == 'PATAGONIA (CERVEZA)', 'Brand_standarization'] =  \"PATAGONIA\"\n",
    "df.loc[df['Brand_standarization'] == 'CORONA (CERVEZA)', 'Brand_standarization'] =  \"CORONA\"\n",
    "df.loc[df['Brand_standarization'] == 'CERVEZA BAJAMAR', 'Brand_standarization'] =  \"BAJAMAR\"\n",
    "df.loc[df['Brand_standarization'] == 'CERVEZA CAMINO DEL SOL', 'Brand_standarization'] =  \"CAMINO DEL SOL\"\n",
    "df.loc[df['Brand_standarization'] == 'CIA. CERVEZAS NACIONALES', 'Brand_standarization'] =  \"CIA. NACIONALES\"\n",
    "df.loc[df['Brand_standarization'] == 'CERVEZA DORADA DRAFT', 'Brand_standarization'] =  \"DORADA DRAFT\"\n",
    "df.loc[df['Brand_standarization'] == 'CERVEZA DORADA ICE', 'Brand_standarization'] =  \"DORADA ICE\"\n",
    "df.loc[df['Brand_standarization'] == 'CERVEZA GALLO', 'Brand_standarization'] =  \"GALLO\"\n",
    "df.loc[df['Brand_standarization'] == 'GALLO', 'Brand_standarization'] =  \"GALLO\"\n",
    "df.loc[df['Brand_standarization'] == 'CERVEZA TECATE', 'Brand_standarization'] =  \"TECATE\"\n",
    "df.loc[df['Brand_standarization'] == 'CERVEZA BARENA', 'Brand_standarization'] =  \"BARENA\"\n",
    "df.loc[df['Brand_standarization'] == 'CERVEZA CORONA', 'Brand_standarization'] =  \"CORONA\"\n",
    "df.loc[df['Brand_standarization'] == 'CERVEZA GROLSCH', 'Brand_standarization'] =  \"GROLSCH\"\n",
    "df.loc[df['Brand_standarization'] == 'CERVEZA HEINEKEN', 'Brand_standarization'] =  \"HEINEKEN\"\n",
    "df.loc[df['Brand_standarization'] == 'CERVEZA MICHELOB', 'Brand_standarization'] =  \"MICHELOB\"\n",
    "df.loc[df['Brand_standarization'] == 'CERVEZA MILLER', 'Brand_standarization'] =  \"MILLER\"\n",
    "df.loc[df['Brand_standarization'] == 'CERVEZA SALVA VIDA', 'Brand_standarization'] =  \"SALVA VIDA\"\n",
    "df.loc[df['Brand_standarization'] == 'BALBOA CERVEZA', 'Brand_standarization'] =  \"BALBOA\"\n",
    "df.loc[df['Brand_standarization'] == 'CERVEZA DORADA', 'Brand_standarization'] =  \"DORADA\"\n",
    "df.loc[df['Brand_standarization'] == 'CERVEZA CRISTAL', 'Brand_standarization'] =  \"CRISTAL\"\n",
    "df.loc[df['Brand_standarization'] == 'GALLO CERVEZA', 'Brand_standarization'] =  \"GALLO\"\n",
    "df.loc[df['Brand_standarization'] == 'CERVEZA IMPERIAL', 'Brand_standarization'] =  \"IMPERIAL\"\n",
    "df.loc[df['Brand_standarization'] == 'CERVEZA PALMA', 'Brand_standarization'] =  \"PALMA\"\n",
    "df.loc[df['Brand_standarization'] == 'PATAGONIA CERVEZA', 'Brand_standarization'] =  \"PATAGONIA\"\n",
    "df.loc[df['Brand_standarization'] == 'PRESIDENTE CERVEZA', 'Brand_standarization'] =  \"PRESIDENTE\"\n",
    "df.loc[df['Brand_standarization'] == 'CERVEZA RREY', 'Brand_standarization'] =  \"RREY\"\n",
    "df.loc[df['Brand_standarization'] == 'CERVEZA SALTA CAUTIVA', 'Brand_standarization'] =  \"SALTA CAUTIVA\"\n",
    "df.loc[df['Brand_standarization'] == 'CERVEZA VICTORIA', 'Brand_standarization'] =  \"VICTORIA\"\n",
    "df.loc[df['Brand_standarization'] == 'BIERE LARUE ()', 'Brand_standarization'] =  \"LARUE\"\n",
    "df.loc[df['Brand_standarization'] == 'HANOI ()', 'Brand_standarization'] =  \"HANOI\"\n",
    "df.loc[df['Brand_standarization'] == 'TRUC BACH ()', 'Brand_standarization'] =  \"TRUC BACH\"\n",
    "df.loc[df['Brand_standarization'] == 'SAO VANG ()', 'Brand_standarization'] =  \"SAO VANG\"\n",
    "df.loc[df['Brand_standarization'] == 'BUDWEISER (REG)', 'Brand_standarization'] =  \"BUDWEISER\"\n",
    "df.loc[df['Brand_standarization'] == 'CORONA (REG)', 'Brand_standarization'] =  \"CORONA\"\n",
    "df.loc[df['Brand_standarization'] == 'HEINEKEN (REG)', 'Brand_standarization'] =  \"HEINEKEN\"\n",
    "df.loc[df['Brand_standarization'] == 'CARLING BLACK LABEL BEER SOCCER', 'Brand_standarization'] = \"CARLING BLACK LABEL\" \n",
    "\n",
    "df.loc[df['Brand_standarization'] == 'GUINNESS - BRAND BUILDING', 'Brand_standarization'] = \"GUINNESS\"\n",
    "df.loc[df['Brand_standarization'] == 'BREWDOG - PUNK IPA', 'Brand_standarization'] = \"BREWDOG\" \n",
    "df.loc[df['Brand_standarization'] == 'TIMOTHY TAYLOR - HOPICAL STORM PALE', 'Brand_standarization'] = \"TIMOTHY TAYLOR\" \n",
    "df.loc[df['Brand_standarization'] == 'BEAVERTOWN BREWERY - CRAFT S & LAGER' , 'Brand_standarization'] = \"BEAVERTOWN BREWERY\"\n",
    "df.loc[df['Brand_standarization'] == 'ASAHI - SUPER DRY', 'Brand_standarization'] = \"ASAHI\"\n",
    "df.loc[df['Brand_standarization'] == 'COORS - FRESH COMEDY ON 4', 'Brand_standarization'] = \"COORS\" \n",
    "df.loc[df['Brand_standarization'] == 'MOLSON COORS BREWING - MADRI EXCEPCIONAL', 'Brand_standarization'] = \"MOLSON COORS\" \n",
    "df.loc[df['Brand_standarization'] == 'JACK DANIELS/COCA COLA - TENNESSEE WHISKEY MIXED WITH COCA COLA', \n",
    "       'Brand_standarization'] = \"JACK DANIELS\"\n",
    "\n",
    "## MODELO categorization for US, Mexico, DR, Guatemala\n",
    "df.loc[df['Brand_standarization'] == 'MODELO ESPECIAL', 'Brand_standarization'] = \"MODELO\"\n",
    "df.loc[df['Brand_standarization'] == 'MODELO ORO', 'Brand_standarization'] = \"MODELO\"\n",
    "df.loc[df['Brand_standarization'] == 'MODELO NEGRA', 'Brand_standarization'] = \"MODELO\"\n",
    "df.loc[df['Brand_standarization'] == 'MODELO NOCHE ESPECIAL', 'Brand_standarization'] = \"MODELO\"\n",
    "df.loc[df['Brand_standarization'] == 'MODELO LIGHT', 'Brand_standarization'] = \"MODELO\"\n",
    "df.loc[df['Brand_standarization'] == 'MODELO ESPECIAL CHELADA', 'Brand_standarization'] = \"MODELO\"\n",
    "df.loc[df['Brand_standarization'] == 'GRUPO MODELO', 'Brand_standarization'] = \"MODELO\"\n",
    "df.loc[df['Brand_standarization'] == 'MODELORAMA', 'Brand_standarization'] = \"MODELO\"\n",
    "df.loc[df['Brand_standarization'] == 'CERVEZA MODELO', 'Brand_standarization'] = \"MODELO\"\n",
    "\n",
    "# Ad-hoc updates\n",
    "df.loc[df['Brand_standarization'] == 'CORONA PREMIER', 'Brand_standarization'] =  \"CORONA\"\n",
    "#df.loc[df['Brand_standarization'] == 'CORONA PREMIER', 'Brand_standarization'] =  \"CORONA\"\n",
    "df.loc[df['Brand_standarization'] == 'XX', 'Brand_standarization'] =  \"DOS EQUIS\"\n",
    "df.loc[df['Brand_standarization'] == 'DOS EQUIS XX BIERE', 'Brand_standarization'] =  \"DOS EQUIS\"\n",
    "df.loc[df['Brand_standarization'] == 'MIKE S HARD', 'Brand_standarization'] =  \"MIKES\"\n",
    "df.loc[df['Brand_standarization'] == 'MIKES HARD', 'Brand_standarization'] =  \"MIKES\"\n",
    "df.loc[df['Brand_standarization'] == 'MIKES (REG)', 'Brand_standarization'] =  \"MIKES\"\n",
    "df.loc[df['Brand_standarization'] == 'MIKES HARDER LEMONADE', 'Brand_standarization'] =  \"MIKES\"\n",
    "df.loc[df['Brand_standarization'] == 'MIKES HARDER', 'Brand_standarization'] =  \"MIKES\"\n",
    "df.loc[df['Brand_standarization'] == 'AB INBEV', 'Brand_standarization'] =  \"ABI\"\n",
    "df.loc[df['Brand_standarization'] == 'BELGIUM', 'Brand_standarization'] =  \"ABI\"  ## What it is\n",
    "df.loc[df['Brand_standarization'] == 'HEINEKEN SILVER BIERE', 'Brand_standarization'] =  \"HEINEKEN SILVER\"\n",
    "df.loc[df['Brand_standarization'] == 'ABBAYE DE LEFFE BIERE', 'Brand_standarization'] =  \"LEFFE\"\n",
    "df.loc[df['Brand_standarization'] == 'BUD BIERE', 'Brand_standarization'] =  \"BUDWEISER\"\n",
    "df.loc[df['Brand_standarization'] == 'CORONA EXTRA BIERE', 'Brand_standarization'] =  \"CORONA\"\n",
    "df.loc[df['Brand_standarization'] == 'CORONA SUNSET BIERE', 'Brand_standarization'] =  \"CORONA\"\n",
    "df.loc[df['Brand_standarization'] == 'CORONA EXTRA', 'Brand_standarization'] =  \"CORONA\" ##\n",
    "df.loc[df['Brand_standarization'] == 'CORONA SUNSET BIERE', 'Brand_standarization'] =  \"CORONA\"\n",
    "df.loc[df['Brand_standarization'] == 'LEFFE BIERES', 'Brand_standarization'] =  \"LEFFE\"\n",
    "df.loc[df['Brand_standarization'] == 'HEINEKEN BIERE', 'Brand_standarization'] =  \"HEINEKEN\"\n",
    "df.loc[df['Brand_standarization'] == 'AMSTEL BIERE COLLECTIVITE', 'Brand_standarization'] =  \"AMSTEL\"\n",
    "df.loc[df['Brand_standarization'] == '1664 BLONDE', 'Brand_standarization'] =  \"#1664\"\n",
    "df.loc[df['Brand_standarization'] == '8 6 BIERE', 'Brand_standarization'] =  \"#86\"\n",
    "#df.loc[df['Brand_standarization'] == 'GALLIA PARIS BIERES', 'Brand_standarization'] =  \"GALLIA\"\n",
    "df.loc[df['Brand_standarization'] == 'TOURTEL TWIST FRUITS & PLANTES SANS ALCOOL ALLEGE', \n",
    "       'Brand_standarization'] =  \"TOURTEL\"\n",
    "df.loc[df['Brand_standarization'] == 'TOURTEL TWIST BIERE SANS ALCOOL', 'Brand_standarization'] =  \"TOURTEL\"\n",
    "#df.loc[df['Brand_standarization'] == 'DESPERADOS TROPICAL BIERE', 'Brand_standarization'] =  \"DESPERADOS TROPICAL\"\n",
    "df.loc[df['Brand_standarization'] == 'AFFLIGEM BIERE', 'Brand_standarization'] =  \"AFFLIGEM\"\n",
    "df.loc[df['Brand_standarization'] == 'GRIMBERGEN BRASSIN DE PRINTEMPS', 'Brand_standarization'] =  \"GRIMBERGEN\"\n",
    "\n",
    "#df.loc[df['Brand_standarization'] == 'DESPERADOS 0,0 PROZ.ALKOHOLFREI', 'Brand_standarization'] =  \"DESPERADOS 0.0\"\n",
    "#df.loc[df['Brand_standarization'] == 'DESPERADOS BIER RANGE', 'Brand_standarization'] =  \"DESPERADOS RANGE\"\n",
    "#df.loc[df['Brand_standarization'] == 'DESPERADOS SPECIAALBIER', 'Brand_standarization'] =  \"DESPERADOS\"\n",
    "#df.loc[df['Brand_standarization'] == 'DESPERADOS VIRGIN 0.0 ALCOHOLVRIJ SPECIAALBIER', \n",
    "#       'Brand_standarization'] =  \"DESPERADOS VIRGIN 0.0\"\n",
    "\n",
    "df.loc[df['Brand_standarization'] == 'HEINEKEN BIER', 'Brand_standarization'] =  \"HEINEKEN\"\n",
    "df.loc[df['Brand_standarization'] == 'HEINEKEN BIER 0,0 PROZENT', 'Brand_standarization'] =  \"HEINEKEN 0.0\"\n",
    "df.loc[df['Brand_standarization'] == 'HEINEKEN BIER RANGE', 'Brand_standarization'] =  \"HEINEKEN\"\n",
    "df.loc[df['Brand_standarization'] == 'CARLSBERG 0,0 ALKOHOLFREI', 'Brand_standarization'] =  \"CARLSBERG 0.0\"\n",
    "df.loc[df['Brand_standarization'] == 'CARLSBERG BEER IMAGE', 'Brand_standarization'] =  \"CARLSBERG\"\n",
    "df.loc[df['Brand_standarization'] == 'CARLSBERG BEER PILS', 'Brand_standarization'] =  \"CARLSBERG\"\n",
    "df.loc[df['Brand_standarization'] == 'CARLSBERG BRAUEREI BIER RANGE', 'Brand_standarization'] =  \"CARLSBERG\"\n",
    "df.loc[df['Brand_standarization'] == 'CARLSBERG PREMIUM LAGER BIER', 'Brand_standarization'] =  \"CARLSBERG\"\n",
    "df.loc[df['Brand_standarization'] == 'HEINEKEN 0.0 BIRRA ANALC.', 'Brand_standarization'] =  \"HEINEKEN\"\n",
    "df.loc[df['Brand_standarization'] == 'HEINEKEN BIRRA', 'Brand_standarization'] =  \"HEINEKEN\"\n",
    "df.loc[df['Brand_standarization'] == 'HEINEKEN LIN.BIRRA', 'Brand_standarization'] =  \"HEINEKEN\"\n",
    "df.loc[df['Brand_standarization'] == 'HEINEKEN SILVER BIRRA', 'Brand_standarization'] =  \"HEINEKEN SILVER\"\n",
    "df.loc[df['Brand_standarization'] == 'ICHNUSA BIRRA', 'Brand_standarization'] =  \"ICHNUSA\"\n",
    "df.loc[df['Brand_standarization'] == 'ICHNUSA BIRRA I.U.', 'Brand_standarization'] =  \"ICHNUSA\"\n",
    "df.loc[df['Brand_standarization'] == 'MESSINA BIRRA', 'Brand_standarization'] =  \"MESSINA\"\n",
    "df.loc[df['Brand_standarization'] == 'MORETTI BIRRA', 'Brand_standarization'] =  \"MORETTI\"\n",
    "df.loc[df['Brand_standarization'] == 'MORETTI BIRRA WWW', 'Brand_standarization'] =  \"MORETTI\"\n",
    "df.loc[df['Brand_standarization'] == 'MORETTI FILTRATA FREDDO BIRRA', 'Brand_standarization'] =  \"MORETTI\"\n",
    "df.loc[df['Brand_standarization'] == 'MORETTI LIN.BIRRA', 'Brand_standarization'] =  \"MORETTI\"\n",
    "df.loc[df['Brand_standarization'] == 'PERONI NASTRO AZZ.STILE CAPRI', 'Brand_standarization'] =  \"PERONI NASTRO\"\n",
    "df.loc[df['Brand_standarization'] == 'PERONI NASTRO AZZURRO BIRRA', 'Brand_standarization'] =  \"PERONI NASTRO\"\n",
    "df.loc[df['Brand_standarization'] == 'KOZEL BIRRA', 'Brand_standarization'] =  \"KOZEL\"\n",
    "df.loc[df['Brand_standarization'] == 'CARLSBERG (T)', 'Brand_standarization'] =  \"CARLSBERG\"\n",
    "df.loc[df['Brand_standarization'] == 'CARLSBERG BIRRA', 'Brand_standarization'] =  \"CARLSBERG\"\n",
    "df.loc[df['Brand_standarization'] == 'GRIMBERGEN BIRRA', 'Brand_standarization'] =  \"GRIMBERGEN\"\n",
    "df.loc[df['Brand_standarization'] == 'PORETTI 4 LUPPOLI BIRRA', 'Brand_standarization'] =  \"GRIMBERGEN\"\n",
    "df.loc[df['Brand_standarization'] == 'PORETTI BIRRA', 'Brand_standarization'] =  \"GRIMBERGEN\"\n",
    "df.loc[df['Brand_standarization'] == 'PORETTI LIN.BIRRA', 'Brand_standarization'] =  \"GRIMBERGEN\"\n",
    "df.loc[df['Brand_standarization'] == 'CERES BIRRA', 'Brand_standarization'] =  \"CERES\"\n",
    "df.loc[df['Brand_standarization'] == 'CERES PRO.BIRRA', 'Brand_standarization'] =  \"CERES\"\n",
    "\n",
    "df.loc[df['Brand_standarization'] == \"BECK'S BIRRA\", 'Brand_standarization'] =  \"BECKS\"\n",
    "df.loc[df['Brand_standarization'] == 'CORONA BIRRA', 'Brand_standarization'] =  \"CORONA\"\n",
    "df.loc[df['Brand_standarization'] == 'CORONA BIER RANGE', 'Brand_standarization'] =  \"CORONA\"\n",
    "df.loc[df['Brand_standarization'] == 'CORONA BIER RANGE              VB', 'Brand_standarization'] =  \"CORONA\"\n",
    "\n",
    "df.loc[df['Brand_standarization'] == 'CORONA EXTRA BIRRA', 'Brand_standarization'] =  \"CORONA\"\n",
    "df.loc[df['Brand_standarization'] == 'CORONA SUNSETS FESTIVAL EVENTI', 'Brand_standarization'] =  \"CORONA\"\n",
    "df.loc[df['Brand_standarization'] == 'LEFFE BIRRA', 'Brand_standarization'] =  \"LEFFE\"\n",
    "df.loc[df['Brand_standarization'] == 'LEFFE CO.BIRRA', 'Brand_standarization'] =  \"LEFFE\"\n",
    "\n",
    "df.loc[df['Brand_standarization'] == 'AFFLIGEM BLOND 0.0% ALCOHOLVRIJ SPECIAALBIER', 'Brand_standarization'] =  \"AFFLIGEM 0.0\"\n",
    "df.loc[df['Brand_standarization'] == 'AFFLIGEM BLOND SPECIAALBIER', 'Brand_standarization'] =  \"AFFLIGEM\"\n",
    "df.loc[df['Brand_standarization'] == 'AFFLIGEM SPECIAALBIER ALGEMEEN', 'Brand_standarization'] =  \"AFFLIGEM\"\n",
    "\n",
    "df.loc[df['Brand_standarization'] == 'AMSTEL 0.0 ALCOHOLVRIJ BIER', 'Brand_standarization'] =  \"AMSTEL 0.0\"\n",
    "df.loc[df['Brand_standarization'] == 'AMSTEL BIER PILS', 'Brand_standarization'] =  \"AMSTEL\"\n",
    "df.loc[df['Brand_standarization'] == 'AMSTEL RADLER', 'Brand_standarization'] =  \"AMSTEL\"\n",
    "df.loc[df['Brand_standarization'] == 'AMSTEL RADLER 0.0% ALCOHOLVRIJ BIER', 'Brand_standarization'] =  \"AMSTEL 0.0\"\n",
    "\n",
    "df.loc[df['Brand_standarization'] == 'BIRRA MORETTI BIER PILS', 'Brand_standarization'] =  \"MORETTI\"\n",
    "df.loc[df['Brand_standarization'] == 'BIRRA MORETTI SALE DI MARE SPECIAALBIER', 'Brand_standarization'] =  \"MORETTI\"\n",
    "\n",
    "df.loc[df['Brand_standarization'] == 'HEINEKEN (ADV.) PRODUCTEN ALGEMEEN', 'Brand_standarization'] =  \"HEINEKEN\"\n",
    "df.loc[df['Brand_standarization'] == 'HEINEKEN 0.0 ALCOHOLVRIJ BIER', 'Brand_standarization'] =  \"HEINEKEN 0.0\"\n",
    "df.loc[df['Brand_standarization'] == 'HEINEKEN BIER PILS', 'Brand_standarization'] =  \"HEINEKEN\"\n",
    "df.loc[df['Brand_standarization'] == 'HEINEKEN PROMOTIE', 'Brand_standarization'] =  \"HEINEKEN\"\n",
    "df.loc[df['Brand_standarization'] == 'HEINEKEN SILVER BIER PILS', 'Brand_standarization'] =  \"HEINEKEN SILVER\"\n",
    "\n",
    "df.loc[df['Brand_standarization'] == 'BUD BIER PILS', 'Brand_standarization'] =  \"BUDWEISER\"\n",
    "df.loc[df['Brand_standarization'] == 'BUDWEISER BUDVAR BIER PILS', 'Brand_standarization'] =  \"BUDWEISER\"\n",
    "df.loc[df['Brand_standarization'] == 'HERTOG JAN BIER PILS', 'Brand_standarization'] =  \"HERTOG JAN\"\n",
    "df.loc[df['Brand_standarization'] == 'HERTOG JAN BOCKBIER SEIZOENSBIER', 'Brand_standarization'] =  \"HERTOG JAN\"\n",
    "df.loc[df['Brand_standarization'] == 'HERTOG JAN GRAND PILSENER BIER PILS', 'Brand_standarization'] =  \"HERTOG JAN\"\n",
    "\n",
    "df.loc[df['Brand_standarization'] == 'TRIPEL KARMELIET SPECIAALBIER', 'Brand_standarization'] =  \"TRIPEL KARMELIET\"\n",
    "df.loc[df['Brand_standarization'] == 'KORDAAT PILSENER BIER', 'Brand_standarization'] =  \"PILSENER\"\n",
    "df.loc[df['Brand_standarization'] == 'DUVEL SPECIAALBIEREN', 'Brand_standarization'] =  \"DUVEL\"\n",
    "df.loc[df['Brand_standarization'] == 'KONINKLIJKE GROLSCH ENSCHEDE', 'Brand_standarization'] =  \"GROLSCH\"\n",
    "\n",
    "df.loc[df['Brand_standarization'] == 'OTHERS', 'Brand_standarization'] =  \"All Others\"\n",
    "\n"
   ]
  },
  {
   "cell_type": "code",
   "execution_count": 20,
   "id": "8d0cc871",
   "metadata": {},
   "outputs": [],
   "source": [
    "#Code Test\n",
    "#brands = df['Brand_standarization'].value_counts().to_frame()\n",
    "#brands = brands.reset_index()"
   ]
  },
  {
   "cell_type": "markdown",
   "id": "eb6a5119",
   "metadata": {},
   "source": [
    "### Focused Brand Competitors"
   ]
  },
  {
   "cell_type": "code",
   "execution_count": 21,
   "id": "309111cc",
   "metadata": {},
   "outputs": [
    {
     "data": {
      "text/plain": [
       "array(['All Others', 'HEINEKEN', 'AMSTEL', 'AMSTEL ULTRA', 'HEINEKEN 0.0',\n",
       "       'HEINEKEN SILVER', 'AMSTEL ULTRA SELTZER', 'AMSTEL LAGER',\n",
       "       'AMSTEL MALTA', 'AMSTEL LIGHT'], dtype=object)"
      ]
     },
     "execution_count": 21,
     "metadata": {},
     "output_type": "execute_result"
    }
   ],
   "source": [
    "## Focus brand for the market:  It woudl be constant throughout the year\n",
    "\n",
    "focus_brands = ['HEINEKEN', \"HEINEKEN SILVER\", \"HEINEKEN 0.0\", \"AMSTEL\", \"AMSTEL ULTRA\", \n",
    "               \"AMSTEL ULTRA SELTZER\", \"AMSTEL LAGER\", \"AMSTEL MALTA\", \"AMSTEL LIGHT\"]\n",
    "\n",
    "df[\"Focused_Brand_Competitors\"] = df[\"Brand_standarization\"].copy()\n",
    "\n",
    "# Assign most values in the 'Top_Brand_Competitors_and_ABI' column as 'Other' except for specific values\n",
    "df['Focused_Brand_Competitors'] = np.where(df['Focused_Brand_Competitors'].isin(focus_brands), \n",
    "                                              df['Focused_Brand_Competitors'], 'All Others')\n",
    "df['Focused_Brand_Competitors'].unique()"
   ]
  },
  {
   "cell_type": "markdown",
   "id": "e3579611",
   "metadata": {},
   "source": [
    "### Media Summary"
   ]
  },
  {
   "cell_type": "code",
   "execution_count": 22,
   "id": "ab81a53e",
   "metadata": {},
   "outputs": [],
   "source": [
    "#df.Media_type.unique()"
   ]
  },
  {
   "cell_type": "code",
   "execution_count": 23,
   "id": "4bd73bc7",
   "metadata": {},
   "outputs": [
    {
     "data": {
      "text/plain": [
       "array(['TV', 'Radio', 'Print', 'Digital', 'OOH'], dtype=object)"
      ]
     },
     "execution_count": 23,
     "metadata": {},
     "output_type": "execute_result"
    }
   ],
   "source": [
    "# Standarize Media Summary column\n",
    "df[\"Media_Summary\"] = df[\"Media_type\"].copy() \n",
    "\n",
    "tv = ['Tv', 'Cable TV', 'PAY TV', 'Span Lang Net TV', 'TVPagada', 'CABLE', 'LOCAL TV', 'Network TV', 'Open TV', 'OPEN TV', \n",
    "      'OTV', 'Television', 'Advertising Broadcasts', 'PAID TV (CABLE)',\n",
    "       'PTV', 'Spot TV', 'TELEVISION', 'TV', 'tv', 'TV ABIERTA', 'TV Abierta', 'TV ABIERTA ', 'TV CABLE',\n",
    "      'TV Capital', 'TV Interior', 'TV PAGADA', 'TV Cable', 'Syndication']\n",
    "radio = ['Natl Spot Radio', 'Radio AM', 'Local Radio', 'Network Radio', 'RADIO', 'Radio', 'Radio FM', 'Radios', 'RD']\n",
    "print_ = ['Diarios Capital', 'NEWSPAPER', 'NEWSPAPERS', 'Newspapers', 'PRESS', 'REVISTAS', 'B-to-B Magazines', 'DIARIOS', \n",
    "          'Diarios Interior', 'Hispanic Newspapers', 'Local Magazines', 'Local Media', 'MAGAZINE', 'Magazine', 'Magazines',\n",
    "          'METRO', 'Newspaper', 'NP', 'Prensa', 'PRENSA', 'Prensa Escrita', 'PRINT', 'Revista', 'Revistas', 'Suplemento',\n",
    "         'Press', 'Door Drops', 'PRESSE', 'Trade Journals', 'Trade press']\n",
    "ooh = ['Outdoor', 'EXTERIORES', 'OOH', 'OUT OF HOME', 'VIA PUBLICA', 'Vía Pública', 'Cinema', 'CINEMA', 'VP', '(D)OOH', \n",
    "      'Poster', 'Transport Media', 'OutOfHome', 'Out Of Home', 'Ambient Media']\n",
    "digital = ['INTERNET', 'Internet', 'Internet - Display', 'Internet - Search', 'Digital', 'Programmatic', \n",
    "           'DIGITAL', 'META', 'Mobile App', 'Mobile Web', 'Mobile Web Video', 'Online Video', 'Paid Social', 'Social',\n",
    "           'Youtube', 'AVOD', 'Search', 'IN-HOME ADVERTISING', 'Internet Display Ag.', 'Mobile', 'Desktop', 'Retail Media',\n",
    "          'DigitalMed', 'Online display']\n",
    "\n",
    "df['Media_Summary'] = df['Media_Summary'].replace(tv, \"TV\")\n",
    "df['Media_Summary'] = df['Media_Summary'].replace(radio, \"Radio\")\n",
    "df['Media_Summary'] = df['Media_Summary'].replace(print_, \"Print\")\n",
    "df['Media_Summary'] = df['Media_Summary'].replace(ooh, \"OOH\")\n",
    "df['Media_Summary'] = df['Media_Summary'].replace(digital, \"Digital\")\n",
    "\n",
    "df['Media_Summary'].unique()"
   ]
  },
  {
   "cell_type": "markdown",
   "id": "f44d3ef4",
   "metadata": {},
   "source": [
    "### Media Type (Standardized)"
   ]
  },
  {
   "cell_type": "code",
   "execution_count": 24,
   "id": "63d82531",
   "metadata": {},
   "outputs": [
    {
     "data": {
      "text/plain": [
       "array(['Cable TV', 'FM Radio', 'TV Interior', 'Newspapers', 'AM Radio',\n",
       "       'TV Capital', 'Magazines', 'Internet', 'OOH', 'Print', 'Cinema',\n",
       "       'Digital', 'Radio', 'TV', 'Meta', 'Youtube', 'Programmatic',\n",
       "       'Local Media', 'Open TV', 'Paid TV', 'Social', 'Free TV',\n",
       "       'Internet Display', 'Trade Magazines', 'Mobile', 'Desktop',\n",
       "       'Local TV', 'Online display', 'Mobile App', 'Mobile Web Video',\n",
       "       'Mobile Web', 'Natl Spot Radio', 'Local Radio', 'Spot TV',\n",
       "       'Online Video', 'Paid Social', 'Internet Search', 'AVOD',\n",
       "       'B-to-B Magazines', 'Network TV', 'Span Lang Net TV',\n",
       "       'Hispanic Newspapers', 'Local Magazines', 'Syndication',\n",
       "       'Network Radio'], dtype=object)"
      ]
     },
     "execution_count": 24,
     "metadata": {},
     "output_type": "execute_result"
    }
   ],
   "source": [
    "# Media Type (Standardized)\n",
    "df[\"Media_type_standarized\"] = df[\"Media_type\"].copy() \n",
    "\n",
    "cable_tv = ['Cable TV', 'CABLE', 'PAID TV (CABLE)', 'TV CABLE', 'TV Cable']\n",
    "open_tv = ['OPEN TV', 'OTV', 'Open TV']\n",
    "paid_tv = ['PAY TV', 'TVPagada', 'PTV', 'TV PAGADA', 'PAID TV (CABLE)']\n",
    "free_tv = ['TV ABIERTA', 'TV Abierta', 'TV ABIERTA ']\n",
    "spot_tv = [ 'Spot TV']\n",
    "tv = ['TELEVISION', 'TV', 'tv', 'Tv', 'Advertising Broadcasts', 'Television']\n",
    "am_radio = ['Radio AM']\n",
    "fm_radio = [ 'Radio FM']\n",
    "local_radio = [ 'Local Radio']\n",
    "natl_spot_radio = ['Natl Spot Radio']\n",
    "network_radio = [ 'Network Radio']\n",
    "radio = ['RADIO', 'Radio', 'Radios', 'RD']\n",
    "cinema = ['Cinema', 'CINEMA']\n",
    "ooh = ['Outdoor', 'EXTERIORES', 'OOH', 'OUT OF HOME', 'VIA PUBLICA', 'Vía Pública',  'VP', '(D)OOH', 'Poster', \n",
    "       'Transport Media', 'Ambient Media','Retail Media', 'OutOfHome', 'Out Of Home']\n",
    "print_ = ['PRESS', 'Prensa', 'PRENSA', 'Prensa Escrita', 'PRINT', 'Press', 'PRESSE']\n",
    "newspapers = ['Diarios Capital', 'NEWSPAPER', 'NEWSPAPERS', 'Newspapers', 'Diarios Interior',\n",
    "              'METRO', 'Newspaper', 'NP', 'Suplemento', 'DIARIOS', 'Trade press']\n",
    "magazines = ['REVISTAS', 'MAGAZINE', 'Magazine', 'Magazines', 'Revista', \n",
    "             'Revistas', 'Door Drops']\n",
    "digital = ['Digital', 'DIGITAL', 'Search', 'IN-HOME ADVERTISING', 'DigitalMed']\n",
    "syndication = ['Syndication']\n",
    "\n",
    "\n",
    "avod = ['AVOD']\n",
    "internet = ['Internet', 'INTERNET']\n",
    "internet_display = ['Internet - Display', 'Internet Display Ag.']\n",
    "internet_search = ['Internet - Search']\n",
    "meta = ['META']\n",
    "\n",
    "mobile = ['Mobile']\n",
    "desktop = ['Desktop']\n",
    "mobile_app = [ 'Mobile App']    \n",
    "mobile_web = ['Mobile Web']\n",
    "mobile_web_video = ['Mobile Web Video']\n",
    "online_video = ['Online Video']\n",
    "paid_social = ['Paid Social']\n",
    "programmatic = ['Programmatic']\n",
    "social = ['Social']\n",
    "yt = ['Youtube']\n",
    "search = ['Search']\n",
    "bb_magazines = ['B-to-B Magazines']\n",
    "trade_magazines = ['Trade Journals']\n",
    "hispanic_newspapers = ['Hispanic Newspapers']\n",
    "local_magazines = ['Local Magazines'] \n",
    "local_media = ['Local Media']\n",
    "local_tv = ['LOCAL TV'] \n",
    "span_lang_net_tv = ['Span Lang Net TV']\n",
    "tv_capital = ['TV Capital']\n",
    "tv_interior = ['TV Interior']\n",
    "\n",
    "df['Media_type_standarized'] = df['Media_type_standarized'].replace(avod, \"AVOD\")\n",
    "df['Media_type_standarized'] = df['Media_type_standarized'].replace(internet, \"Internet\")\n",
    "df['Media_type_standarized'] = df['Media_type_standarized'].replace(internet_display, \"Internet Display\")\n",
    "df['Media_type_standarized'] = df['Media_type_standarized'].replace(internet_search, \"Internet Search\")\n",
    "df['Media_type_standarized'] = df['Media_type_standarized'].replace(meta, \"Meta\")\n",
    "df['Media_type_standarized'] = df['Media_type_standarized'].replace(mobile_app, \"Mobile App\")\n",
    "df['Media_type_standarized'] = df['Media_type_standarized'].replace(mobile, \"Mobile\")\n",
    "df['Media_type_standarized'] = df['Media_type_standarized'].replace(desktop, \"Desktop\")\n",
    "df['Media_type_standarized'] = df['Media_type_standarized'].replace(mobile_web, \"Mobile Web\")\n",
    "df['Media_type_standarized'] = df['Media_type_standarized'].replace(mobile_web_video, \"Mobile Web Video\")\n",
    "df['Media_type_standarized'] = df['Media_type_standarized'].replace(online_video, \"Online Video\")\n",
    "df['Media_type_standarized'] = df['Media_type_standarized'].replace(paid_social, \"Paid Social\")\n",
    "df['Media_type_standarized'] = df['Media_type_standarized'].replace(programmatic, \"Programmatic\")\n",
    "df['Media_type_standarized'] = df['Media_type_standarized'].replace(social, \"Social\")\n",
    "df['Media_type_standarized'] = df['Media_type_standarized'].replace(yt, \"Youtube\")\n",
    "df['Media_type_standarized'] = df['Media_type_standarized'].replace(search, \"Search\")\n",
    "df['Media_type_standarized'] = df['Media_type_standarized'].replace(bb_magazines, \"B-to-B Magazines\")\n",
    "df['Media_type_standarized'] = df['Media_type_standarized'].replace(trade_magazines, \"Trade Magazines\")\n",
    "df['Media_type_standarized'] = df['Media_type_standarized'].replace(hispanic_newspapers, \"Hispanic Newspapers\")\n",
    "df['Media_type_standarized'] = df['Media_type_standarized'].replace(local_magazines, \"Local Magazines\")\n",
    "df['Media_type_standarized'] = df['Media_type_standarized'].replace(local_media, \"Local Media\")\n",
    "df['Media_type_standarized'] = df['Media_type_standarized'].replace(local_tv, \"Local TV\")\n",
    "df['Media_type_standarized'] = df['Media_type_standarized'].replace(span_lang_net_tv, \"Span Lang Net TV\")\n",
    "df['Media_type_standarized'] = df['Media_type_standarized'].replace(syndication, \"Syndication\")\n",
    "df['Media_type_standarized'] = df['Media_type_standarized'].replace(tv_capital, \"TV Capital\")\n",
    "df['Media_type_standarized'] = df['Media_type_standarized'].replace(tv_interior, \"TV Interior\")\n",
    "\n",
    "df['Media_type_standarized'] = df['Media_type_standarized'].replace(cable_tv, \"Cable TV\")\n",
    "df['Media_type_standarized'] = df['Media_type_standarized'].replace(open_tv, \"Open TV\")\n",
    "df['Media_type_standarized'] = df['Media_type_standarized'].replace(paid_tv, \"Paid TV\")\n",
    "df['Media_type_standarized'] = df['Media_type_standarized'].replace(free_tv, \"Free TV\")\n",
    "df['Media_type_standarized'] = df['Media_type_standarized'].replace(spot_tv, \"Spot TV\")\n",
    "df['Media_type_standarized'] = df['Media_type_standarized'].replace(tv, \"TV\")\n",
    "df['Media_type_standarized'] = df['Media_type_standarized'].replace(am_radio, \"AM Radio\")\n",
    "df['Media_type_standarized'] = df['Media_type_standarized'].replace(fm_radio, \"FM Radio\")\n",
    "df['Media_type_standarized'] = df['Media_type_standarized'].replace(local_radio, \"Local Radio\")\n",
    "df['Media_type_standarized'] = df['Media_type_standarized'].replace(natl_spot_radio, \"Natl Spot Radio\")\n",
    "df['Media_type_standarized'] = df['Media_type_standarized'].replace(network_radio, \"Network Radio\")\n",
    "df['Media_type_standarized'] = df['Media_type_standarized'].replace(radio, \"Radio\")\n",
    "df['Media_type_standarized'] = df['Media_type_standarized'].replace(cinema, \"Cinema\")\n",
    "df['Media_type_standarized'] = df['Media_type_standarized'].replace(print_, \"Print\")\n",
    "df['Media_type_standarized'] = df['Media_type_standarized'].replace(newspapers, \"Newspapers\")\n",
    "df['Media_type_standarized'] = df['Media_type_standarized'].replace(magazines, \"Magazines\")\n",
    "df['Media_type_standarized'] = df['Media_type_standarized'].replace(ooh, \"OOH\")\n",
    "df['Media_type_standarized'] = df['Media_type_standarized'].replace(digital, \"Digital\")\n",
    "\n",
    "df['Media_type_standarized'].unique()"
   ]
  },
  {
   "cell_type": "markdown",
   "id": "78721bc9",
   "metadata": {},
   "source": [
    "### Month (Number)"
   ]
  },
  {
   "cell_type": "code",
   "execution_count": 25,
   "id": "6d775b65",
   "metadata": {},
   "outputs": [
    {
     "data": {
      "text/plain": [
       "array([6, 2, 4, 5, 1, 3, 'April', 'May', 'March', 'January', 'February',\n",
       "       'June', 'APR', 'FEB', 'JAN', 'JUN', 'MAR', 'MAY', 'JUNIO', 'ABRIL',\n",
       "       'MAYO', 'FEBRERO', 'MARZO', 'ENERO', 'ABR', 'ENE', 'Enero',\n",
       "       'Febrero', 'Marzo', 'Abril', 'Mayo', 'Junio', 'Julio', 'enero',\n",
       "       'febrero', 'marzo', 'abril', 'mayo', 'junio', 'julio',\n",
       "       'March 2023', 'April 2023', 'May 2023', 'January 2023',\n",
       "       'February 2023', 'June 2023', 'Jan', 'Feb', 'Mar', 'Apr', 'Jun',\n",
       "       'Jul', Timestamp('2023-01-01 00:00:00'),\n",
       "       Timestamp('2023-02-01 00:00:00'), Timestamp('2023-03-01 00:00:00'),\n",
       "       Timestamp('2023-04-01 00:00:00'), Timestamp('2023-05-01 00:00:00'),\n",
       "       Timestamp('2023-06-01 00:00:00'), 'Ene', 'Abr', 'mar', 'APRIL',\n",
       "       'JUNE', 'JANUARY', 'FEBRUARY', 'MARCH', 'JUn'], dtype=object)"
      ]
     },
     "execution_count": 25,
     "metadata": {},
     "output_type": "execute_result"
    }
   ],
   "source": [
    "# Month (Number)\n",
    "df[\"Month_number\"] = df[\"Month\"].copy()\n",
    "df[\"Month_number\"].unique()"
   ]
  },
  {
   "cell_type": "code",
   "execution_count": 26,
   "id": "dcc67eee",
   "metadata": {},
   "outputs": [
    {
     "data": {
      "text/plain": [
       "array([6, 2, 4, 5, 1, 3, 7], dtype=object)"
      ]
     },
     "execution_count": 26,
     "metadata": {},
     "output_type": "execute_result"
    }
   ],
   "source": [
    "\n",
    "df.loc[df['Month_number'] == \"Jan\", 'Month_number'] = 1\n",
    "df.loc[df['Month_number'] == \"JAN\", 'Month_number'] = 1\n",
    "df.loc[df['Month_number'] == \"JANUARY\", 'Month_number'] = 1\n",
    "df.loc[df['Month_number'] == \"January\", 'Month_number'] = 1\n",
    "df.loc[df['Month_number'] == \"Ene\", 'Month_number'] = 1\n",
    "df.loc[df['Month_number'] == \"enero\", 'Month_number'] = 1\n",
    "df.loc[df['Month_number'] == \"Enero\", 'Month_number'] = 1\n",
    "df.loc[df['Month_number'] == \"January 2023\", 'Month_number'] = 1\n",
    "\n",
    "df.loc[df['Month_number'] == \"FEB\", 'Month_number'] = 2\n",
    "df.loc[df['Month_number'] == \"Feb\", 'Month_number'] = 2\n",
    "df.loc[df['Month_number'] == \"Febrero\", 'Month_number'] = 2\n",
    "df.loc[df['Month_number'] == \"febrero\", 'Month_number'] = 2\n",
    "df.loc[df['Month_number'] == \"FEBRUARY\", 'Month_number'] = 2\n",
    "df.loc[df['Month_number'] == \"February\", 'Month_number'] = 2\n",
    "df.loc[df['Month_number'] == \"February 2023\", 'Month_number'] = 2\n",
    "\n",
    "df.loc[df['Month_number'] == \"MAR\", 'Month_number'] = 3\n",
    "df.loc[df['Month_number'] == \"Mar\", 'Month_number'] = 3\n",
    "df.loc[df['Month_number'] == \"mar\", 'Month_number'] = 3\n",
    "df.loc[df['Month_number'] == \"MARCH\", 'Month_number'] = 3\n",
    "df.loc[df['Month_number'] == \"March\", 'Month_number'] = 3\n",
    "df.loc[df['Month_number'] == \"Marzo\", 'Month_number'] = 3\n",
    "df.loc[df['Month_number'] == \"marzo\", 'Month_number'] = 3\n",
    "df.loc[df['Month_number'] == \"March 2023\", 'Month_number'] = 3\n",
    "\n",
    "df.loc[df['Month_number'] == \"April 2023\", 'Month_number'] = 4\n",
    "df.loc[df['Month_number'] == \"ABR\", 'Month_number'] = 4\n",
    "df.loc[df['Month_number'] == \"Abr\", 'Month_number'] = 4\n",
    "df.loc[df['Month_number'] == \"Abril\", 'Month_number'] = 4\n",
    "df.loc[df['Month_number'] == \"abril\", 'Month_number'] = 4\n",
    "df.loc[df['Month_number'] == \"ABRIL\", 'Month_number'] = 4\n",
    "df.loc[df['Month_number'] == \"Apr\", 'Month_number'] = 4\n",
    "df.loc[df['Month_number'] == \"APR\", 'Month_number'] = 4\n",
    "df.loc[df['Month_number'] == \"April\", 'Month_number'] = 4\n",
    "df.loc[df['Month_number'] == \"APRIL\", 'Month_number'] = 4\n",
    "\n",
    "df.loc[df['Month_number'] == \"MAY\", 'Month_number'] = 5\n",
    "df.loc[df['Month_number'] == \"May\", 'Month_number'] = 5\n",
    "df.loc[df['Month_number'] == \"Mayo\", 'Month_number'] = 5\n",
    "df.loc[df['Month_number'] == \"mayo\", 'Month_number'] = 5\n",
    "df.loc[df['Month_number'] == \"MAYO\", 'Month_number'] = 5\n",
    "df.loc[df['Month_number'] == \"May 2023\", 'Month_number'] = 5\n",
    "\n",
    "df.loc[df['Month_number'] == \"Jun\", 'Month_number'] = 6\n",
    "df.loc[df['Month_number'] == \"June\", 'Month_number'] = 6\n",
    "df.loc[df['Month_number'] == \"JUNIO\", 'Month_number'] = 6\n",
    "df.loc[df['Month_number'] == \"Junio\", 'Month_number'] = 6\n",
    "df.loc[df['Month_number'] == \"junio\", 'Month_number'] = 6\n",
    "df.loc[df['Month_number'] == \"JUN\", 'Month_number'] = 6\n",
    "df.loc[df['Month_number'] == \"JUNE\", 'Month_number'] = 6\n",
    "df.loc[df['Month_number'] == \"JUn\", 'Month_number'] = 6\n",
    "df.loc[df['Month_number'] == \"June 2023\", 'Month_number'] = 6\n",
    "\n",
    "df.loc[df['Month_number'] == \"Julio\", 'Month_number'] = 7\n",
    "df.loc[df['Month_number'] == \"julio\", 'Month_number'] = 7\n",
    "df.loc[df['Month_number'] == \"Jul\", 'Month_number'] = 7\n",
    "\n",
    "df.loc[df['Month_number'] == \"FEBRERO\", 'Month_number'] = 2\n",
    "df.loc[df['Month_number'] == \"MARZO\", 'Month_number'] = 3\n",
    "df.loc[df['Month_number'] == \"ENERO\", 'Month_number'] = 1\n",
    "df.loc[df['Month_number'] == \"ENE\", 'Month_number'] = 1\n",
    "\n",
    "df.loc[df['Month_number'] == pd.Timestamp('2023-01-01 00:00:00'), 'Month_number'] = pd.to_datetime('2023-01-01 00:00:00').month\n",
    "df.loc[df['Month_number'] == pd.Timestamp('2023-02-01 00:00:00'), 'Month_number'] = pd.to_datetime('2023-02-01 00:00:00').month\n",
    "df.loc[df['Month_number'] == pd.Timestamp('2023-03-01 00:00:00'), 'Month_number'] = pd.to_datetime('2023-03-01 00:00:00').month\n",
    "df.loc[df['Month_number'] == pd.Timestamp('2023-04-01 00:00:00'), 'Month_number'] = pd.to_datetime('2023-04-01 00:00:00').month\n",
    "df.loc[df['Month_number'] == pd.Timestamp('2023-05-01 00:00:00'), 'Month_number'] = pd.to_datetime('2023-05-01 00:00:00').month\n",
    "df.loc[df['Month_number'] == pd.Timestamp('2023-06-01 00:00:00'), 'Month_number'] = pd.to_datetime('2023-06-01 00:00:00').month\n",
    " \n",
    "df[\"Month_number\"].unique()"
   ]
  },
  {
   "cell_type": "markdown",
   "id": "39b9eae9",
   "metadata": {},
   "source": [
    "### Month (Standardized)"
   ]
  },
  {
   "cell_type": "code",
   "execution_count": 27,
   "id": "8c995073",
   "metadata": {},
   "outputs": [],
   "source": [
    "df['Month_standarization'] = pd.to_datetime(df['Year'].astype(str) + '-' + df['Month_number'].astype(str))"
   ]
  },
  {
   "cell_type": "markdown",
   "id": "41829d07",
   "metadata": {},
   "source": [
    "### Top Brand Competitors + ABI"
   ]
  },
  {
   "cell_type": "code",
   "execution_count": 28,
   "id": "17b72792",
   "metadata": {},
   "outputs": [],
   "source": [
    "## Null - Not requried\n"
   ]
  },
  {
   "cell_type": "markdown",
   "id": "32552676",
   "metadata": {},
   "source": [
    "#### Creating Dataframes Market Wise"
   ]
  },
  {
   "cell_type": "code",
   "execution_count": 29,
   "id": "ce3c6908",
   "metadata": {},
   "outputs": [
    {
     "name": "stdout",
     "output_type": "stream",
     "text": [
      "The Number of markets for Competitive Analysis: 29\n",
      "\n",
      "The number of data points for country: ['Argentina']\t\t:175765\n",
      "The number of data points for country: ['Bolivia']\t\t:6578\n",
      "The number of data points for country: ['Brazil']\t\t:445\n",
      "The number of data points for country: ['Canada']\t\t:1772\n",
      "The number of data points for country: ['Chile']\t\t:296\n",
      "The number of data points for country: ['China']\t\t:273\n",
      "The number of data points for country: ['Colombia']\t\t:780\n",
      "The number of data points for country: ['Dominican Republic']\t\t:66398\n",
      "The number of data points for country: ['Ecuador']\t\t:441\n",
      "The number of data points for country: ['El Salvador']\t\t:5711\n",
      "The number of data points for country: ['Guatemala']\t\t:79229\n",
      "The number of data points for country: ['Honduras']\t\t:5277\n",
      "The number of data points for country: ['India']\t\t:162\n",
      "The number of data points for country: ['Japan']\t\t:234\n",
      "The number of data points for country: ['Mexico']\t\t:23358\n",
      "The number of data points for country: ['Panama']\t\t:185\n",
      "The number of data points for country: ['Paraguay']\t\t:21\n",
      "The number of data points for country: ['Peru']\t\t:933\n",
      "The number of data points for country: ['South Africa']\t\t:840\n",
      "The number of data points for country: ['South Korea']\t\t:230\n",
      "The number of data points for country: ['Uruguay']\t\t:378\n",
      "The number of data points for country: ['US']\t\t:109286\n",
      "The number of data points for country: ['UK']\t\t:360\n",
      "The number of data points for country: ['Vietnam']\t\t:228\n",
      "The number of data points for country: ['Belgium']\t\t:195\n",
      "The number of data points for country: ['France']\t\t:4284\n",
      "The number of data points for country: ['Germany']\t\t:10864\n",
      "The number of data points for country: ['Italy']\t\t:201\n",
      "The number of data points for country: ['Netherlands']\t\t:262\n"
     ]
    }
   ],
   "source": [
    "# Its requried to create number of filtered dataframes for each country to use \n",
    "# pivot table to find top competetor, top 10 markets\n",
    "\n",
    "df_argentina = df[df['Country'] == 'Argentina']\n",
    "df_bolivia = df[df['Country'] == 'Bolivia']\n",
    "df_brazil = df[df['Country'] == 'Brazil']\n",
    "df_canada = df[df['Country'] == 'Canada']\n",
    "df_chile = df[df['Country'] == 'Chile']\n",
    "df_china = df[df['Country'] == 'China']\n",
    "df_colombia = df[df['Country'] == 'Colombia']\n",
    "df_dom_rep = df[df['Country'] == 'Dominican Republic']\n",
    "df_ecuador = df[df['Country'] == 'Ecuador']\n",
    "df_el_salvador = df[df['Country'] == 'El Salvador']\n",
    "df_guatemala = df[df['Country'] == 'Guatemala']\n",
    "df_honduras = df[df['Country'] == 'Honduras']\n",
    "df_india = df[df['Country'] == 'India']\n",
    "df_japan = df[df['Country'] == 'Japan']\n",
    "df_mexico = df[df['Country'] == 'Mexico']\n",
    "df_panama = df[df['Country'] == 'Panama']\n",
    "df_paraguay = df[df['Country'] == 'Paraguay']\n",
    "df_peru = df[df['Country'] == 'Peru']\n",
    "df_south_africa = df[df['Country'] == 'South Africa']\n",
    "df_south_korea = df[df['Country'] == 'South Korea']\n",
    "df_uruguay = df[df['Country'] == 'Uruguay']\n",
    "df_us = df[df['Country'] == 'US']\n",
    "df_uk = df[df['Country'] == 'UK']\n",
    "df_vietnam = df[df['Country'] == 'Vietnam']\n",
    "\n",
    "df_be = df[df['Country'] == 'Belgium']\n",
    "df_fr = df[df['Country'] == 'France']\n",
    "df_de = df[df['Country'] == 'Germany']\n",
    "df_it = df[df['Country'] == 'Italy']\n",
    "df_nl = df[df['Country'] == 'Netherlands']\n",
    "\n",
    "\n",
    "markets = [df_argentina, df_bolivia, df_brazil, df_canada, df_chile, df_china, df_colombia, df_dom_rep, df_ecuador, \n",
    "           df_el_salvador, df_guatemala, df_honduras, df_india, df_japan, df_mexico, df_panama, df_paraguay, df_peru, \n",
    "           df_south_africa, df_south_korea, df_uruguay, df_us, df_uk, df_vietnam, df_be, df_fr, df_de, df_it, df_nl]\n",
    "\n",
    "print(\"The Number of markets for Competitive Analysis: {}\\n\".format(len(markets)))\n",
    "\n",
    "for market in markets:\n",
    "    print(\"The number of data points for country: {}\\t\\t:{}\".format(market[\"Country\"].unique(), market.shape[0]))"
   ]
  },
  {
   "cell_type": "markdown",
   "id": "a8904358",
   "metadata": {},
   "source": [
    "### Parent Competitors (Pivots)"
   ]
  },
  {
   "cell_type": "code",
   "execution_count": 30,
   "id": "3f7e887c",
   "metadata": {},
   "outputs": [
    {
     "name": "stdout",
     "output_type": "stream",
     "text": [
      "\n",
      "\n",
      "['Argentina']:['All Others' 'ABI' 'CCU SA (Heineken Parent)' 'CEPAS']\n",
      "\n",
      "\n",
      "['Bolivia']:['All Others' 'ABI']\n",
      "\n",
      "\n",
      "['Brazil']:['ABI' 'HEINEKEN' 'All Others' 'PETROPOLIS']\n",
      "\n",
      "\n",
      "['Canada']:['MOLSON COORS' 'HEINEKEN' 'All Others' 'MARK ANTHONY BREWING' 'ABI']\n",
      "\n",
      "\n",
      "['Chile']:['ABI' 'All Others' 'CCU (Heineken Parent)']\n",
      "\n",
      "\n",
      "['China']:['ABI' 'All Others' 'CARLSBERG' 'CR Beer (Heineken Parent)' 'TSINGTAO'\n",
      " 'YANJING']\n",
      "\n",
      "\n",
      "['Colombia']:['All Others' 'ABI' 'CCC (Heineken Parent)']\n",
      "\n",
      "\n",
      "['Dominican Republic']:['All Others' 'ABI' 'CERVECERIA CENTRO AMERICANA CABLE PANREGIONAL'\n",
      " 'HEINEKEN' 'COMPAÑIA CERVECERA DE NICARAGUA CABLE PANREGIONAL']\n",
      "\n",
      "\n",
      "['Ecuador']:['ABI' 'HEINEKEN' 'All Others']\n",
      "\n",
      "\n",
      "['El Salvador']:['CERVECERIA CENTROAMERICANA' 'ABI' 'CADEJO' 'All Others'\n",
      " 'CERVECERIA SALVADOREÑA']\n",
      "\n",
      "\n",
      "['Guatemala']:['HEINEKEN' 'All Others' 'ABI']\n",
      "\n",
      "\n",
      "['Honduras']:['DISTRIBUIDORA SOLIS' 'ABI' 'CERVECERIA CENTROAMERICANA' 'All Others']\n",
      "\n",
      "\n",
      "['India']:['UNITED BREWERIES' 'CARLSBERG' 'ABI' 'All Others']\n",
      "\n",
      "\n",
      "['Japan']:['KIRIN' 'SAPPORO' 'ASAHI' 'SUNTORY' 'All Others']\n",
      "\n",
      "\n",
      "['Mexico']:['ABI' 'HEINEKEN']\n",
      "\n",
      "\n",
      "['Panama']:['ABI' 'HEINEKEN' 'FEDURO']\n",
      "\n",
      "\n",
      "['Paraguay']:['All Others' 'BEBIDAS DEL PARAGUAY' 'EMBOTELLADORA CENTRAL'\n",
      " 'MÓNACO COMERCIAL']\n",
      "\n",
      "\n",
      "['Peru']:['All Others' 'HEINEKEN' 'ABI']\n",
      "\n",
      "\n",
      "['South Africa']:['All Others' 'ABI' 'HEINEKEN']\n",
      "\n",
      "\n",
      "['South Korea']:['ABI' 'All Others' 'HITE JINRO']\n",
      "\n",
      "\n",
      "['Uruguay']:['All Others' 'ABI' 'HEINEKEN' 'REGIONAL SUR']\n",
      "\n",
      "\n",
      "['US']:['All Others' 'ABI' 'BOSTON BEER CO' 'MOLSON COORS' 'CONSTELLATION'\n",
      " 'HEINEKEN']\n",
      "\n",
      "\n",
      "['UK']:['ABI' 'ASAHI' 'All Others' 'DIAGEO' 'HEINEKEN' 'BREWDOG' 'MOLSON COORS'\n",
      " 'BEAVERTOWN BREWERY' 'BROWN FORMAN']\n",
      "\n",
      "\n",
      "['Vietnam']:['VBL (Heineken Parent)' 'CARLSBERG' 'HABECO' 'All Others' 'SABECO']\n",
      "\n",
      "\n",
      "['Belgium']:['DUVEL' 'All Others' 'SOCIETE COMMERCIALE DE BRASSERIE' 'ABI' 'HEINEKEN']\n",
      "\n",
      "\n",
      "['France']:['HEINEKEN' 'CARLSBERG' 'ABI' 'All Others' 'BAVARIA']\n",
      "\n",
      "\n",
      "['Germany']:['All Others' 'FRIESISCHES' 'KROMBACHER' 'PAULANER' 'RADEBERGER' 'VELTINS'\n",
      " 'WARSTEINER']\n",
      "\n",
      "\n",
      "['Italy']:['All Others' 'ABI' 'CARLSBERG' 'CERES SPA MILANO' 'HEINEKEN'\n",
      " 'PERONI SPA BIRRA PERONI ROMA']\n",
      "\n",
      "\n",
      "['Netherlands']:['All Others' 'TEXELSE' 'HEINEKEN' 'HUIZEN' 'KONINKLIJKE GROLSCH ENSCHEDE'\n",
      " 'ABI' 'DUVEL']\n"
     ]
    }
   ],
   "source": [
    "## Excluding Other Alcohol category for Competitive analysis of Beer\n",
    "\n",
    "## Operation steps : \n",
    "# 1. filerter datframe by excluding Other Alcohol category\n",
    "# 2. Use groupby fuction by adv. parent with aggregation with percentage applying lambda fucntion\n",
    "# 3. Sort values in descending\n",
    "# 4. Spend_US_Currency column in pivot table would be in percentage\n",
    "\n",
    "## Function to find top 5 parent competitor in a market in beer category given their ad spend market share in above 5%\n",
    "\n",
    "def parent_competitors_std(df):\n",
    "    competitors_df = df[(df['Category_Standardized'] != 'Other Alcohol')]\n",
    "    competitors_df_gb = competitors_df.groupby([ 'Advertiser_parent_standarized']).agg({'Spend_US_Currency': lambda x: \n",
    "                                                                                      round(x.sum()/competitors_df[\"Spend_US_Currency\"].sum()*100,\n",
    "                                                                                            2)}).sort_values('Spend_US_Currency', \n",
    "                                                                                                             ascending = False)\n",
    "    competitors_df_gb = competitors_df_gb.reset_index()\n",
    "    competitors_df_gb = (competitors_df_gb[(competitors_df_gb[\"Spend_US_Currency\"] >= \n",
    "                                            5) | (competitors_df_gb[\"Advertiser_parent_standarized\"].str.startswith('(ABI)|(HEINEKEN)|(AMSTEL)|(CCU (Heineken Parent))'))])\n",
    "    \n",
    "    exceptions = competitors_df_gb[\"Advertiser_parent_standarized\"].tolist()\n",
    "    # Add new column and copy data from adv parent std; except exceptions - rest of the company are as All Others\n",
    "    df['Parent_competitor'] = df['Advertiser_parent_standarized'].copy()\n",
    "    df['Parent_competitor'] = np.where(df['Parent_competitor'].isin(exceptions), \n",
    "                                                   df['Parent_competitor'], \"All Others\")\n",
    "    print(\"\\n\")\n",
    "    return df['Parent_competitor'].unique()\n",
    "\n",
    "# Apply The function to all the market dfs\n",
    "for market in markets:\n",
    "    print(\"{}:{}\".format(market.Country.unique(), parent_competitors_std(market)))"
   ]
  },
  {
   "cell_type": "markdown",
   "id": "5df659f0",
   "metadata": {},
   "source": [
    "### Top 10 Brands by Market"
   ]
  },
  {
   "cell_type": "code",
   "execution_count": 31,
   "id": "e6534f94",
   "metadata": {},
   "outputs": [
    {
     "name": "stdout",
     "output_type": "stream",
     "text": [
      "\n",
      "\n",
      "['Argentina']:['All Others' 'HEINEKEN' 'IMPERIAL' 'BRAHMA' 'ANDES' 'SANTA FE' 'QUILMES'\n",
      " 'AMSTEL' 'STELLA ARTOIS' 'NORTE' 'DR LEMON']\n",
      "\n",
      "\n",
      "['Bolivia']:['BURGUESA' 'HUARI' 'PACENA' 'GOLDEN' 'POTOSINA' 'REAL' 'MALTIN' 'UYUNI'\n",
      " 'All Others']\n",
      "\n",
      "\n",
      "['Brazil']:['All Others' 'BRAHMA' 'BUDWEISER' 'BUDWEISER ZERO' 'CORONA' 'SKOL'\n",
      " 'SPATEN' 'AMSTEL' 'HEINEKEN' 'HEINEKEN 0.0' 'ITAIPAVA']\n",
      "\n",
      "\n",
      "['Canada']:['All Others' 'COORS LIGHT' 'MOLSON PARTNERSHIP' 'MOLSON ULTRA LOW CARB'\n",
      " 'HEINEKEN' 'WHITE CLAW' 'BLACK FLY COOLERS' 'BUD LIGHT' 'BUDWEISER'\n",
      " 'MICHELOB ULTRA' 'STELLA ARTOIS']\n",
      "\n",
      "\n",
      "['Chile']:['All Others' 'AUSTRAL' 'COORS' 'CRISTAL' 'ESCUDO' 'HEINEKEN'\n",
      " 'ROYAL GUARD' 'SOL' 'STONES' 'BECKER' 'CUSQUENA']\n",
      "\n",
      "\n",
      "['China']:['BUDWEISER' 'All Others' 'HARBIN' 'BLUE GIRL' 'TUBORG' 'WUSU' 'HEINEKEN'\n",
      " 'SNOW' 'TSINGTAO' 'YANJING']\n",
      "\n",
      "\n",
      "['Colombia']:['All Others' 'AGUILA' 'BUDWEISER' 'CLUB COLOMBIA' 'CORONA' 'COSTENA'\n",
      " 'HEINEKEN' 'POKER' 'ANDINA' 'MILLER' 'AMSTEL']\n",
      "\n",
      "\n",
      "['Dominican Republic']:['REPUBLICA' 'All Others' 'CLUB COLOMBIA' 'BUDWEISER' 'AGUILA' 'HEINEKEN'\n",
      " 'GALLO' 'DORADA' 'TOÑA' 'MONTE CARLO' 'COORS']\n",
      "\n",
      "\n",
      "['Ecuador']:['PILSENER' 'CORONA' 'PILSENER LIGHT' 'CLUB' 'All Others' 'HEINEKEN'\n",
      " 'AMSTEL' 'BIELA' 'LATITUD CERO' 'ROYAL DUTCH' 'STELLA ARTOIS']\n",
      "\n",
      "\n",
      "['El Salvador']:['GALLO' 'CORONA' 'LA CONSTANCIA' 'GOLDEN' 'PILSENER' 'CADEJO' 'HEINEKEN'\n",
      " 'REGIA' 'MICHELOB ULTRA' 'SUPREMA' 'All Others']\n",
      "\n",
      "\n",
      "['Guatemala']:['DORADA' 'All Others' 'GALLO' 'CORONA' 'BUDWEISER' 'CABRO' 'MONTE CARLO'\n",
      " 'AMBEV' 'EL ZAPOTE' 'MODELO' 'STELLA ARTOIS']\n",
      "\n",
      "\n",
      "['Honduras']:['MILLER' 'CERVECERIA HONDUREÑA' 'COORS' 'DORADA ICE' 'SALVA VIDA'\n",
      " 'All Others' 'HEINEKEN' 'CORONA' 'GALLO' 'BARENA' 'MICHELOB']\n",
      "\n",
      "\n",
      "['India']:['KINGFISHER' 'TUBORG' 'BUDWEISER' 'BIRA' 'CARLSBERG' 'All Others'\n",
      " 'HEINEKEN']\n",
      "\n",
      "\n",
      "['Japan']:['ICHIBAN SHIBORI' 'EBISU' 'SAPPORO KURO RABEL' 'ASAHI SUPER DRY'\n",
      " 'PREMIUM MARTS' 'ASAHI NAMA' 'SUNTORY PERFECT SUNTORY  PSB' 'All Others'\n",
      " 'KIRIN HOME TAP' 'CLEAR ASAHI' 'GOLD STAR']\n",
      "\n",
      "\n",
      "['Mexico']:['CORONA' 'PACIFICO' 'AMSTEL ULTRA' 'HEINEKEN SILVER' 'All Others'\n",
      " 'HEINEKEN' 'MODELO' 'VICTORIA' 'TECATE' 'DOS EQUIS' 'TECATE 0.0']\n",
      "\n",
      "\n",
      "['Panama']:['LAS GOLDEN' 'ATLAS' 'All Others' 'PANAMA' 'CRISTAL' 'SOBERANA'\n",
      " 'PMA LIGHT' 'HEINEKEN' 'AMSTEL ULTRA' 'COORS LIGHT' 'MILLER LITE']\n",
      "\n",
      "\n",
      "['Paraguay']:['ARTURO' 'KAISER' 'AMSTEL' 'HEINEKEN' 'MILLER' 'MAHOU' 'MUNICH' 'CONTI']\n",
      "\n",
      "\n",
      "['Peru']:['All Others' 'HOFBRAU' 'AMSTEL' 'HEINEKEN' 'PUM PUM' 'AREQUIPENA'\n",
      " 'CORONA' 'CRISTAL' 'CUSQUENA' 'GOLDEN' 'PILSEN CALLAO']\n",
      "\n",
      "\n",
      "['South Africa']:['All Others' 'CORONA' 'AMSTEL LAGER' 'HEINEKEN' 'WINDHOEK RANGE'\n",
      " 'HEINEKEN SILVER' 'CARLING BLACK LABEL' 'CASTLE DOUBLE MALT'\n",
      " 'CASTLE LAGER' 'CASTLE LITE' 'SAB MILLER']\n",
      "\n",
      "\n",
      "['South Korea']:['CASS' 'HANMAC' 'All Others' 'KRONENBERG 1664' 'TERRA' 'KELLY' 'KLOUD'\n",
      " 'BLUEMOON' 'ASAHI' 'ERDINGER' 'HITE']\n",
      "\n",
      "\n",
      "['Uruguay']:['All Others' 'PILSEN' 'CORONA' 'HEINEKEN' 'PATRICIA' 'STELLA' 'ZILLERTAL'\n",
      " 'SCHNEIDER' 'CERVEZAS' 'SMITH 44' 'VALENCIANA']\n",
      "\n",
      "\n",
      "['US']:['All Others' 'BUD LIGHT' 'MICHELOB ULTRA' 'COORS LIGHT' 'MILLER LITE'\n",
      " 'CORONA' 'MODELO' 'HEINEKEN' 'WHITE CLAW' 'BUSCH LIGHT' 'HEINEKEN SILVER']\n",
      "\n",
      "\n",
      "['UK']:['All Others' 'CARLSBERG' 'GUINNESS' 'BREWDOG' 'TIMOTHY TAYLOR'\n",
      " 'BEAVERTOWN BREWERY' 'ASAHI' 'BIRRA MORETTI - LAUTENTICA' 'COORS'\n",
      " 'MOLSON COORS' 'JACK DANIELS']\n",
      "\n",
      "\n",
      "['Vietnam']:['TIGER' 'HEINEKEN' 'All Others' 'HUDA' 'KRONENBOURG 1664 BLANC' 'TUBORG'\n",
      " 'HANOI' 'HANOI BOLD & LIGHT' '333' 'SAIGON' 'BIA VIET']\n",
      "\n",
      "\n",
      "['Belgium']:['DUVEL' 'All Others' 'ABI' 'SUPER 8' 'LA CHOUFFE' 'KWAK'\n",
      " 'TRIPEL KARMELIET' 'LEFFE' 'DESPERADOS' 'CRISTAL ALKEN' 'JUPILER']\n",
      "\n",
      "\n",
      "['France']:['All Others' 'DESPERADOS VIRGIN 0 0% FRESH BERRY SANS ALCOOL' 'TOURTEL'\n",
      " 'HEINEKEN SILVER' 'GRIMBERGEN' 'AFFLIGEM' 'LEFFE' '#86'\n",
      " 'GALLIA PARIS BIERES' '#1664' 'DESPERADOS TROPICAL BIERE']\n",
      "\n",
      "\n",
      "['Germany']:['All Others' 'PERONI NASTRO AZZURRO LAGERBIER' 'KROMBACHER PILS SP'\n",
      " 'KROMBACHER PILS' 'VELTINS PILSENER'\n",
      " 'JEVER FUN ALKOHOLFREI                 VB' 'VELTINS HELLES PUELLEKEN'\n",
      " 'WARSTEINER PILSENER' 'WARSTEINER BRAUEREI IMAGE'\n",
      " 'PAULANER MUENCHNER HELL BIER' 'SCHOEFFERHOFER GRAPEFRUIT BIER RANGE  VB']\n",
      "\n",
      "\n",
      "['Italy']:['All Others' 'LEFFE' 'GRIMBERGEN' 'CERES' 'HEINEKEN SILVER' 'ICHNUSA'\n",
      " 'MESSINA' 'MORETTI' 'KOZEL' 'PERONI NASTRO' 'FORST 0 0 BIRRA ANALC.']\n",
      "\n",
      "\n",
      "['Netherlands']:['All Others' 'TEXELS SPECIAAL BIER ALGEMEEN' 'AMSTEL' 'MORETTI'\n",
      " 'PILSENER' 'HEINEKEN SILVER' 'PERONI BIER PILS' 'GROLSCH BIER PILS'\n",
      " 'TRIPEL KARMELIET' 'DUVEL' 'AFFLIGEM']\n"
     ]
    }
   ],
   "source": [
    "def top_10_brands(df):\n",
    "    beer_df = df[(df['Category_Standardized'] != 'Other Alcohol')]\n",
    "    top10_df = beer_df.groupby([ 'Brand_standarization']).agg({'Spend_US_Currency': \n",
    "                                                                            \"sum\"}).sort_values('Spend_US_Currency',\n",
    "                                                                                                ascending = False).head(10)\n",
    "    top10_df = top10_df.reset_index()\n",
    "        \n",
    "    exceptions = top10_df[\"Brand_standarization\"].tolist()\n",
    "    # Add new column and copy data from adv parent std; except exceptions - rest of the company are as All Others\n",
    "    df['Top10_Brands_by_Market'] = df['Brand_standarization'].copy()\n",
    "    df['Top10_Brands_by_Market'] = np.where(df['Top10_Brands_by_Market'].isin(exceptions), \n",
    "                                                   df['Top10_Brands_by_Market'], \"All Others\")\n",
    "    \n",
    "  \n",
    "    print(\"\\n\")\n",
    "    return df['Top10_Brands_by_Market'].unique()\n",
    "\n",
    "# Apply The function to all the market dfs\n",
    "for market in markets:\n",
    "    print(\"{}:{}\".format(market.Country.unique(), top_10_brands(market)))"
   ]
  },
  {
   "cell_type": "markdown",
   "id": "b5a863fe",
   "metadata": {},
   "source": [
    "### Merging all the files back to main datafram"
   ]
  },
  {
   "cell_type": "code",
   "execution_count": 32,
   "id": "ae576e81",
   "metadata": {},
   "outputs": [],
   "source": [
    "df_ = pd.DataFrame()\n",
    "for market in markets:\n",
    "    df_ = df_.append(market)"
   ]
  },
  {
   "cell_type": "markdown",
   "id": "12e71a04",
   "metadata": {},
   "source": [
    "### Global Focus Brand"
   ]
  },
  {
   "cell_type": "code",
   "execution_count": 33,
   "id": "1e8844e5",
   "metadata": {},
   "outputs": [
    {
     "data": {
      "text/plain": [
       "array(['All Others', 'HEINEKEN', 'AMSTEL ULTRA', 'HEINEKEN 0.0',\n",
       "       'HEINEKEN SILVER', 'AMSTEL ULTRA SELTZER', 'AMSTEL LAGER',\n",
       "       'AMSTEL MALTA', 'AMSTEL LIGHT'], dtype=object)"
      ]
     },
     "execution_count": 33,
     "metadata": {},
     "output_type": "execute_result"
    }
   ],
   "source": [
    "df_['Focused_Global_Brand'] = df_['Brand_standarization'].copy()\n",
    "global_brands = ['AMSTEL LAGER', 'AMSTEL LIGHT', 'AMSTEL MALTA', 'AMSTEL ULTRA', 'AMSTEL ULTRA SELTZER', 'HEINEKEN',\n",
    "                 'HEINEKEN 0.0', 'HEINEKEN SILVER']\n",
    "\n",
    " \n",
    "df_['Focused_Global_Brand'] = np.where(df_['Focused_Global_Brand'].isin(global_brands), \n",
    "                                                   df_['Focused_Global_Brand'], \"All Others\")\n",
    "df_['Focused_Global_Brand'].unique()"
   ]
  },
  {
   "cell_type": "markdown",
   "id": "faf04935",
   "metadata": {},
   "source": [
    "### Global Parent"
   ]
  },
  {
   "cell_type": "code",
   "execution_count": 34,
   "id": "9ce32e37",
   "metadata": {},
   "outputs": [],
   "source": [
    "df_[\"Global_Parent\"] = df_['Parent_competitor'].copy()"
   ]
  },
  {
   "cell_type": "code",
   "execution_count": 35,
   "id": "9da2d039",
   "metadata": {},
   "outputs": [
    {
     "data": {
      "text/plain": [
       "array(['All Others', 'ABI', 'HEINEKEN', 'CEPAS', 'PETROPOLIS',\n",
       "       'MOLSON COORS', 'MARK ANTHONY BREWING', 'CARLSBERG', 'TSINGTAO',\n",
       "       'YANJING', 'CERVECERIA CENTRO AMERICANA CABLE PANREGIONAL',\n",
       "       'COMPAÑIA CERVECERA DE NICARAGUA CABLE PANREGIONAL',\n",
       "       'CERVECERIA CENTROAMERICANA', 'CADEJO', 'CERVECERIA SALVADOREÑA',\n",
       "       'DISTRIBUIDORA SOLIS', 'UNITED BREWERIES', 'KIRIN', 'SAPPORO',\n",
       "       'ASAHI', 'SUNTORY', 'FEDURO', 'BEBIDAS DEL PARAGUAY',\n",
       "       'EMBOTELLADORA CENTRAL', 'MÓNACO COMERCIAL', 'HITE JINRO',\n",
       "       'REGIONAL SUR', 'BOSTON BEER CO', 'CONSTELLATION', 'DIAGEO',\n",
       "       'BREWDOG', 'BEAVERTOWN BREWERY', 'BROWN FORMAN', 'HABECO',\n",
       "       'SABECO', 'DUVEL', 'SOCIETE COMMERCIALE DE BRASSERIE', 'BAVARIA',\n",
       "       'FRIESISCHES', 'KROMBACHER', 'PAULANER', 'RADEBERGER', 'VELTINS',\n",
       "       'WARSTEINER', 'CERES SPA MILANO', 'PERONI SPA BIRRA PERONI ROMA',\n",
       "       'TEXELSE', 'HUIZEN', 'KONINKLIJKE GROLSCH ENSCHEDE'], dtype=object)"
      ]
     },
     "execution_count": 35,
     "metadata": {},
     "output_type": "execute_result"
    }
   ],
   "source": [
    " ## NEED TO DISCUSS WITH BOB\n",
    "\n",
    "df_.loc[df_[\"Global_Parent\"] == \"CCU SA (Heineken Parent)\", \"Global_Parent\"] = \"HEINEKEN\"\n",
    "df_.loc[df_[\"Global_Parent\"] == \"CCU (Heineken Parent)\", \"Global_Parent\"] = \"HEINEKEN\"\n",
    "df_.loc[df_[\"Global_Parent\"] == \"CR Beer (Heineken Parent)\", \"Global_Parent\"] = \"HEINEKEN\"\n",
    "df_.loc[df_[\"Global_Parent\"] == \"CCC (Heineken Parent)\", \"Global_Parent\"] = \"HEINEKEN\"\n",
    "df_.loc[df_[\"Global_Parent\"] == \"VBL (Heineken Parent)\", \"Global_Parent\"] = \"HEINEKEN\"\n",
    "df_[\"Global_Parent\"].unique()"
   ]
  },
  {
   "cell_type": "markdown",
   "id": "6d553adc",
   "metadata": {},
   "source": [
    "### ABI Parent SOS"
   ]
  },
  {
   "cell_type": "code",
   "execution_count": 36,
   "id": "7636c574",
   "metadata": {},
   "outputs": [
    {
     "data": {
      "text/plain": [
       "array(['All Others', 'ABI'], dtype=object)"
      ]
     },
     "execution_count": 36,
     "metadata": {},
     "output_type": "execute_result"
    }
   ],
   "source": [
    "df_['ABI_Parent_SOS'] = df_[\"Global_Parent\"].copy()\n",
    "abi = ['ABI']\n",
    "df_['ABI_Parent_SOS'] = np.where(df_['ABI_Parent_SOS'].isin(abi), df_['ABI_Parent_SOS'], \"All Others\")\n",
    "df_['ABI_Parent_SOS'].unique()"
   ]
  },
  {
   "cell_type": "markdown",
   "id": "47c9ca80",
   "metadata": {},
   "source": [
    "### Heineken Brand SOS"
   ]
  },
  {
   "cell_type": "code",
   "execution_count": 37,
   "id": "5a76ff01",
   "metadata": {},
   "outputs": [
    {
     "data": {
      "text/plain": [
       "All Others              468284\n",
       "AMSTEL ULTRA             12454\n",
       "HEINEKEN                  6283\n",
       "HEINEKEN SILVER           5348\n",
       "HEINEKEN 0.0              2077\n",
       "AMSTEL ULTRA SELTZER       496\n",
       "AMSTEL LAGER                24\n",
       "AMSTEL LIGHT                14\n",
       "AMSTEL MALTA                 6\n",
       "Name: Heineken_Brand_SOS, dtype: int64"
      ]
     },
     "execution_count": 37,
     "metadata": {},
     "output_type": "execute_result"
    }
   ],
   "source": [
    "df_['Heineken_Brand_SOS'] = df_['Focused_Global_Brand'].copy()\n",
    "df_['Heineken_Brand_SOS'].value_counts()"
   ]
  },
  {
   "cell_type": "code",
   "execution_count": 38,
   "id": "bce78dc0",
   "metadata": {},
   "outputs": [
    {
     "data": {
      "text/plain": [
       "All Others    481278\n",
       "HEINEKEN       13708\n",
       "Name: Heineken_Brand_SOS, dtype: int64"
      ]
     },
     "execution_count": 38,
     "metadata": {},
     "output_type": "execute_result"
    }
   ],
   "source": [
    "df_['Heineken_Brand_SOS'] = df_['Heineken_Brand_SOS'].str.contains('HEINEKEN')\n",
    "df_.loc[df_['Heineken_Brand_SOS'] == True, 'Heineken_Brand_SOS'] = 'HEINEKEN'\n",
    "df_.loc[df_['Heineken_Brand_SOS'] == False, 'Heineken_Brand_SOS'] = 'All Others'\n",
    "df_['Heineken_Brand_SOS'].value_counts()"
   ]
  },
  {
   "cell_type": "markdown",
   "id": "187edc81",
   "metadata": {},
   "source": [
    "### Amstel Brand SOS"
   ]
  },
  {
   "cell_type": "code",
   "execution_count": 39,
   "id": "6d2bb4a5",
   "metadata": {},
   "outputs": [
    {
     "data": {
      "text/plain": [
       "All Others              468284\n",
       "AMSTEL ULTRA             12454\n",
       "HEINEKEN                  6283\n",
       "HEINEKEN SILVER           5348\n",
       "HEINEKEN 0.0              2077\n",
       "AMSTEL ULTRA SELTZER       496\n",
       "AMSTEL LAGER                24\n",
       "AMSTEL LIGHT                14\n",
       "AMSTEL MALTA                 6\n",
       "Name: Amstel_Brand_SOS, dtype: int64"
      ]
     },
     "execution_count": 39,
     "metadata": {},
     "output_type": "execute_result"
    }
   ],
   "source": [
    "df_[\"Amstel_Brand_SOS\"] = df_['Focused_Global_Brand'].copy()\n",
    "df_[\"Amstel_Brand_SOS\"].value_counts()"
   ]
  },
  {
   "cell_type": "code",
   "execution_count": 40,
   "id": "2bd5e75a",
   "metadata": {},
   "outputs": [
    {
     "data": {
      "text/plain": [
       "All Others    481992\n",
       "AMSTEL         12994\n",
       "Name: Amstel_Brand_SOS, dtype: int64"
      ]
     },
     "execution_count": 40,
     "metadata": {},
     "output_type": "execute_result"
    }
   ],
   "source": [
    "df_[\"Amstel_Brand_SOS\"] = df_[\"Amstel_Brand_SOS\"].str.contains(\"AMSTEL\")\n",
    "df_.loc[df_[\"Amstel_Brand_SOS\"] == True, \"Amstel_Brand_SOS\"] = \"AMSTEL\"\n",
    "df_.loc[df_[\"Amstel_Brand_SOS\"] == False, \"Amstel_Brand_SOS\"] = 'All Others'\n",
    "df_[\"Amstel_Brand_SOS\"].value_counts()"
   ]
  },
  {
   "cell_type": "markdown",
   "id": "373f8ec5",
   "metadata": {},
   "source": [
    "### Digital / Traditional"
   ]
  },
  {
   "cell_type": "code",
   "execution_count": 41,
   "id": "f6b5f637",
   "metadata": {},
   "outputs": [
    {
     "data": {
      "text/plain": [
       "TV         259669\n",
       "Radio      145096\n",
       "Digital     75017\n",
       "OOH         13518\n",
       "Print        1686\n",
       "Name: Digital_Traditional, dtype: int64"
      ]
     },
     "execution_count": 41,
     "metadata": {},
     "output_type": "execute_result"
    }
   ],
   "source": [
    "df_[\"Digital_Traditional\"] = df_[\"Media_Summary\"].copy()\n",
    "df_[\"Digital_Traditional\"].value_counts()"
   ]
  },
  {
   "cell_type": "code",
   "execution_count": 42,
   "id": "3a56ccd3",
   "metadata": {},
   "outputs": [
    {
     "data": {
      "text/plain": [
       "Traditional    419969\n",
       "Digital         75017\n",
       "Name: Digital_Traditional, dtype: int64"
      ]
     },
     "execution_count": 42,
     "metadata": {},
     "output_type": "execute_result"
    }
   ],
   "source": [
    "## Except digital media summrary, rest catagorize as Traditional\n",
    "digital = [\"Digital\"]\n",
    "df_[\"Digital_Traditional\"] = np.where(df_[\"Digital_Traditional\"].isin(digital), df_[\"Digital_Traditional\"], \"Traditional\") \n",
    "df_[\"Digital_Traditional\"].value_counts()"
   ]
  },
  {
   "cell_type": "markdown",
   "id": "b8eecd5f",
   "metadata": {},
   "source": [
    "### Heineken Parent SOS"
   ]
  },
  {
   "cell_type": "code",
   "execution_count": 43,
   "id": "ebb080b3",
   "metadata": {},
   "outputs": [
    {
     "data": {
      "text/plain": [
       "All Others    374496\n",
       "HEINEKEN      120490\n",
       "Name: Heineken_Parent_SOS, dtype: int64"
      ]
     },
     "execution_count": 43,
     "metadata": {},
     "output_type": "execute_result"
    }
   ],
   "source": [
    "df_[\"Heineken_Parent_SOS\"] = df_[\"Global_Parent\"].copy()\n",
    "#df_[\"Heineken_Parent_SOS\"].value_counts()\n",
    "exception = [\"HEINEKEN\"]\n",
    "df_[\"Heineken_Parent_SOS\"] = np.where(df_[\"Heineken_Parent_SOS\"].isin(exception), df_[\"Heineken_Parent_SOS\"], \"All Others\")\n",
    "df_[\"Heineken_Parent_SOS\"].value_counts()"
   ]
  },
  {
   "cell_type": "markdown",
   "id": "a8228884",
   "metadata": {},
   "source": [
    "### Market Group"
   ]
  },
  {
   "cell_type": "code",
   "execution_count": 44,
   "id": "a38e28ec",
   "metadata": {},
   "outputs": [
    {
     "data": {
      "text/plain": [
       "Group I     329077\n",
       "Group II    165909\n",
       "Name: Market_Group, dtype: int64"
      ]
     },
     "execution_count": 44,
     "metadata": {},
     "output_type": "execute_result"
    }
   ],
   "source": [
    "# Groups as per markets\n",
    "group_I = ['Argentina', 'Brazil', 'Canada', 'China', 'Colombia', 'India', 'Mexico', 'South Africa', 'South Korea', 'US',\n",
    "          \"Belgium\", \"France\", \"Germany\", \"Ireland\", \"Italy\", \"Netherlands\", \"UK\"]\n",
    "group_II = [\"Bolivia\", \"Chile\", 'Dominican Republic', 'Ecuador', 'El Salvador', 'Guatemala', 'Honduras', 'Japan', 'Panama',\n",
    "            'Paraguay', 'Peru', 'Uruguay', \"Ukraine\", 'Vietnam', ]\n",
    "\n",
    "df_[\"Market_Group\"] = df_[\"Country\"].copy()\n",
    "\n",
    "# Catgorize markets in two groups\n",
    "categorize = lambda x: \"Group I\" if x in group_I else \"Group II\"\n",
    "df_[\"Market_Group\"] = df_[\"Market_Group\"].apply(categorize)\n",
    "df_[\"Market_Group\"].value_counts()"
   ]
  },
  {
   "cell_type": "markdown",
   "id": "83a3c94b",
   "metadata": {},
   "source": [
    "### Brand Rank by Country"
   ]
  },
  {
   "cell_type": "code",
   "execution_count": 45,
   "id": "cdaf800c",
   "metadata": {},
   "outputs": [],
   "source": [
    "brand_beer = df_.loc[df_[\"Category_Standardized\"] != \"Other Alcohol\"]\n",
    "beer_pivot = brand_beer.groupby([\"Country\", \"Brand_standarization\"]).agg({'Spend_US_Currency': \"sum\"})\n",
    "beer_pivot = beer_pivot.reset_index()\n",
    "\n",
    "beer_pivot_all = pd.DataFrame()\n",
    "for country in beer_pivot.Country.unique():\n",
    "    beer_pivot_each = beer_pivot.loc[beer_pivot[\"Country\"] == country]\n",
    "    beer_pivot_each_ = beer_pivot_each.sort_values(\"Spend_US_Currency\", ascending = False)\n",
    "    beer_pivot_each_ = beer_pivot_each_.reset_index()\n",
    "    beer_pivot_each_.drop('index', axis = 1, inplace = True)\n",
    "\n",
    "    beer_pivot_each_ = beer_pivot_each_.assign(Brand_Rank_by_Country = \n",
    "                                           beer_pivot_each_[\"Spend_US_Currency\"].rank(ascending = False))\n",
    "    \n",
    "    beer_pivot_all = beer_pivot_all.append(beer_pivot_each_)\n",
    "\n",
    "beer_pivot_all[\"Brand_Rank_by_Country\"] = beer_pivot_all[\"Brand_Rank_by_Country\"].astype(int)\n",
    "beer_pivot_all[\"Brand_Rank_by_Country\"] = beer_pivot_all[\"Brand_Rank_by_Country\"].apply(lambda x: 11 if x > 10 else x)\n",
    "#beer_pivot_all\n",
    "\n",
    "# Craete another column by combining country & Brand standarised\n",
    "beer_pivot_all[\"Country_and_Brand\"] = beer_pivot_all[\"Country\"] + \"_\" + beer_pivot_all[\"Brand_standarization\"]\n",
    "\n",
    "# Only considering top 10 brand ranks rest can be catagorize as 11 later\n",
    "beer_pivot_all = beer_pivot_all.loc[beer_pivot_all[\"Brand_Rank_by_Country\"] < 11]\n",
    "beer_pivot_all = beer_pivot_all[[\"Country_and_Brand\", \"Brand_Rank_by_Country\"]]\n",
    "\n",
    "#Create unique column by merge country & Brand standarised\n",
    "df_[\"Country_and_Brand\"] = df_[\"Country\"] + \"_\" + df_[\"Brand_standarization\"]\n",
    "\n",
    "## Work on the master datafram, vlookup - by merge function left join:\n",
    "df_rank = pd.merge(df_, beer_pivot_all, on = \"Country_and_Brand\", how = \"left\") \n",
    "\n",
    "## if NaN values in the Brand_Rank_by_Country_y column, replace the values as 11th rank i.e. 11\n",
    "df_rank[\"Brand_Rank_by_Country_y\"] = df_rank[\"Brand_Rank_by_Country_y\"].fillna(11)\n",
    "df_rank[\"Brand_Rank_by_Country_y\"] = df_rank[\"Brand_Rank_by_Country_y\"].astype(int) # Convert rank into int from float\n",
    "\n",
    "df_rank.drop(['Brand_Rank_by_Country_x', 'Country_and_Brand'], axis = 1, inplace = True)\n",
    "df_rank = df_rank.rename(columns = {'Brand_Rank_by_Country_y': 'Brand_Rank_by_Country'})\n"
   ]
  },
  {
   "cell_type": "code",
   "execution_count": 46,
   "id": "c07c26d7",
   "metadata": {},
   "outputs": [],
   "source": [
    "df_final = df_rank[['Country', 'Data_Source', 'Advertiser_parent_company', 'Brand',\n",
    "       'Category', 'Media_type', 'Year', 'Month', 'Spend_Local_Currency',\n",
    "       'Exchange_Rate', 'Spend_US_Currency', 'Category_Standardized',\n",
    "       'Advertiser_parent_standarized', 'Brand_standarization',\n",
    "       'Parent_competitor', 'Top_Brand_Competitors_and_ABI',\n",
    "       'Focused_Brand_Competitors', 'Top10_Brands_by_Market', 'Media_Summary',\n",
    "       'Media_type_standarized', 'Month_number', 'Month_standarization',\n",
    "       'Focused_Global_Brand', 'Global_Parent', 'ABI_Parent_SOS',\n",
    "       'Heineken_Brand_SOS', 'Amstel_Brand_SOS', 'Digital_Traditional',\n",
    "       'Heineken_Parent_SOS', 'Brand_Rank_by_Country', 'Market_Group']]"
   ]
  },
  {
   "cell_type": "code",
   "execution_count": 47,
   "id": "62147d24",
   "metadata": {},
   "outputs": [],
   "source": [
    "### Dividing data into two fiels based on Groups:\n",
    "df_final_1 = df_final[df_final[\"Market_Group\"] == \"Group I\"]\n",
    "df_final_2 = df_final[df_final[\"Market_Group\"] == \"Group II\"]"
   ]
  },
  {
   "cell_type": "code",
   "execution_count": 48,
   "id": "38b796ac",
   "metadata": {},
   "outputs": [
    {
     "name": "stdout",
     "output_type": "stream",
     "text": [
      "(494986, 11)\n",
      "(494986, 31)\n",
      "(329077, 31)\n",
      "(165909, 31)\n"
     ]
    }
   ],
   "source": [
    "# Initial Dataframe, Final dataframe shape\n",
    "print(df_initial.shape)\n",
    "print(df_final.shape)\n",
    "print(df_final_1.shape)\n",
    "print(df_final_2.shape)"
   ]
  },
  {
   "cell_type": "markdown",
   "id": "c2e5c6f7",
   "metadata": {},
   "source": [
    "**** DO NOT EXECUTE CODE AFTER THIS LINE***"
   ]
  },
  {
   "cell_type": "markdown",
   "id": "8ab931c5",
   "metadata": {},
   "source": [
    "### CODE TESTING"
   ]
  },
  {
   "cell_type": "code",
   "execution_count": 49,
   "id": "f5688827",
   "metadata": {},
   "outputs": [
    {
     "name": "stdout",
     "output_type": "stream",
     "text": [
      "C:\\ABI\\Q2_Competitive\\Ad_Spend\\Processed Data\n",
      "Elapsed time: 429.23363971710205 seconds\n",
      "Elapsed time: 7.153893995285034 minutes\n"
     ]
    }
   ],
   "source": [
    "os.chdir(r\"C:\\ABI\\Q2_Competitive\\Ad_Spend\\Processed Data\")\n",
    "print(os.getcwd())\n",
    "#df_final.to_excel(\"Q2-Competitive Ad Spend-V4.xlsx\", index=False)\n",
    "\n",
    "#df_final.to_excel(\"Q2-Competitive Ad Spend-Adv test.xlsx\", index=False) # test\n",
    "\n",
    "df_final_1.to_excel(\"Q2-Competitive Ad Spend-Group I.xlsx\", index=False)\n",
    "df_final_2.to_excel(\"Q2-Competitive Ad Spend-Group II.xlsx\", index=False)\n",
    "\n",
    "# End the timer\n",
    "end_time = time.time()\n",
    "\n",
    "# Calculate the elapsed time\n",
    "elapsed_time = end_time - start_time\n",
    "\n",
    "# Print the elapsed time\n",
    "print(f\"Elapsed time: {elapsed_time} seconds\")\n",
    "print(f\"Elapsed time: {elapsed_time/60} minutes\")"
   ]
  },
  {
   "cell_type": "code",
   "execution_count": 50,
   "id": "b3abf1b4",
   "metadata": {},
   "outputs": [],
   "source": [
    "## 700+ lines of code\n",
    "## the whole Code excecution take 10 - 25 min apx"
   ]
  },
  {
   "cell_type": "code",
   "execution_count": null,
   "id": "f62f5844",
   "metadata": {},
   "outputs": [],
   "source": []
  }
 ],
 "metadata": {
  "kernelspec": {
   "display_name": "Python 3 (ipykernel)",
   "language": "python",
   "name": "python3"
  },
  "language_info": {
   "codemirror_mode": {
    "name": "ipython",
    "version": 3
   },
   "file_extension": ".py",
   "mimetype": "text/x-python",
   "name": "python",
   "nbconvert_exporter": "python",
   "pygments_lexer": "ipython3",
   "version": "3.9.7"
  }
 },
 "nbformat": 4,
 "nbformat_minor": 5
}
