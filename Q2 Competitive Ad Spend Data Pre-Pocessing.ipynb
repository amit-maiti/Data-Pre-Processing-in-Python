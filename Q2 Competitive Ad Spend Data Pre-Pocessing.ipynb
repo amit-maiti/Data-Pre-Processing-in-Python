{
 "cells": [
  {
   "cell_type": "code",
   "execution_count": 1,
   "id": "b6bc5275",
   "metadata": {},
   "outputs": [],
   "source": [
    "# Import Libraries:\n",
    "import datetime\n",
    "import os\n",
    "import re\n",
    "import openpyxl\n",
    "import numpy as np\n",
    "import pandas as pd\n",
    "import matplotlib.pyplot as plt"
   ]
  },
  {
   "cell_type": "code",
   "execution_count": 2,
   "id": "e00b91ee",
   "metadata": {},
   "outputs": [
    {
     "data": {
      "text/plain": [
       "'C:\\\\ABI\\\\Q2_Competitive\\\\Ad_Spend\\\\Raw Data'"
      ]
     },
     "execution_count": 2,
     "metadata": {},
     "output_type": "execute_result"
    }
   ],
   "source": [
    "# Setting up directory:\n",
    "path = os.chdir(r\"C:\\ABI\\Q2_Competitive\\Ad_Spend\\Raw Data\")\n",
    "path_ = os.getcwd()\n",
    "path_"
   ]
  },
  {
   "cell_type": "code",
   "execution_count": 3,
   "id": "11f18676",
   "metadata": {},
   "outputs": [
    {
     "name": "stdout",
     "output_type": "stream",
     "text": [
      "The number of markets 23\n"
     ]
    },
    {
     "data": {
      "text/plain": [
       "['Argentina_Q2_2023 Competitive Request_Group I.xlsx',\n",
       " 'Bolivia_Q2_2023 Competitive Request_Group II.xlsx',\n",
       " 'Brazil_Q2_2023 Competitive Request_Group I.xlsx',\n",
       " 'Canada_Q2_2023 Competitive Request _Group I - New.xlsx',\n",
       " 'Chile_Q2_2023 Competitive Request_Group II.xlsx',\n",
       " 'China_Q2_2023 Competitive Request_Group I.xlsx',\n",
       " 'Colombia_Q2_2023 ABI Global Competitive_Group I - New.xlsx',\n",
       " 'DR_Q2_2023 Competitive Request_Group II.xlsx',\n",
       " 'Ecuador_Q2_2023 Competitive Request_Group II.xlsx',\n",
       " 'El Salvador_Q2_2023 Competitive Request_Group II.xlsx',\n",
       " 'Guatemala_Q2_2023 Competitive Request_Group II.xlsx',\n",
       " 'Hondurus_Q2_2023 Competitive Request_group II.xlsx',\n",
       " 'India_Q2_2023 Competitive Request_Group I.xlsx',\n",
       " 'Japan_Q2_2023 Competitive Request_Group II.xlsx',\n",
       " 'Mexico_Q2 _2023 Competitive Request_Group I New.xlsx',\n",
       " 'Panama_Q2_2023 Competitive Request_Group II.xlsx',\n",
       " 'Paraguay_Q2_2023 Competitive Request_Group II.xlsx',\n",
       " 'Peru_Q2_2023 Competitive Request_Group II.xlsx',\n",
       " 'South Africa_Q2_2023 Competitive Request_Group I.xlsx',\n",
       " 'South Korea_Q2_2023 Competitive Request_Group I.xlsx',\n",
       " 'Uruguay_Q2_2023 Competitive Request_Group II.xlsx',\n",
       " 'USA_Q2_2023 Competitive Request_Group I.xlsx',\n",
       " 'Vietnam_Q2_2023 Competitive_Group II.xlsx']"
      ]
     },
     "execution_count": 3,
     "metadata": {},
     "output_type": "execute_result"
    }
   ],
   "source": [
    "# Obtaining the files:\n",
    "files = os.listdir(path_)\n",
    "print(\"The number of markets\",len(files))\n",
    "files"
   ]
  },
  {
   "cell_type": "code",
   "execution_count": 4,
   "id": "39162c33",
   "metadata": {},
   "outputs": [],
   "source": [
    "## Initialize Empty dataframe:\n",
    "df = pd.DataFrame()\n",
    "for f in files:\n",
    "    data = pd.read_excel(f)\n",
    "    df = df.append(data)"
   ]
  },
  {
   "cell_type": "code",
   "execution_count": 5,
   "id": "f12c8116",
   "metadata": {},
   "outputs": [
    {
     "data": {
      "text/html": [
       "<div>\n",
       "<style scoped>\n",
       "    .dataframe tbody tr th:only-of-type {\n",
       "        vertical-align: middle;\n",
       "    }\n",
       "\n",
       "    .dataframe tbody tr th {\n",
       "        vertical-align: top;\n",
       "    }\n",
       "\n",
       "    .dataframe thead th {\n",
       "        text-align: right;\n",
       "    }\n",
       "</style>\n",
       "<table border=\"1\" class=\"dataframe\">\n",
       "  <thead>\n",
       "    <tr style=\"text-align: right;\">\n",
       "      <th></th>\n",
       "      <th>Country</th>\n",
       "      <th>Data Source</th>\n",
       "      <th>Advertiser (parent company)</th>\n",
       "      <th>Brand</th>\n",
       "      <th>Category</th>\n",
       "      <th>Media type</th>\n",
       "      <th>Year</th>\n",
       "      <th>Month</th>\n",
       "      <th>Spend (Local Currency)</th>\n",
       "      <th>Exchange Rate</th>\n",
       "      <th>Spend (US Currency)</th>\n",
       "    </tr>\n",
       "  </thead>\n",
       "  <tbody>\n",
       "    <tr>\n",
       "      <th>0</th>\n",
       "      <td>ARGENTINA</td>\n",
       "      <td>IBOPE - AdMedia</td>\n",
       "      <td>PEPSI COLA</td>\n",
       "      <td>GATORADE.</td>\n",
       "      <td>ENERGY DRINK</td>\n",
       "      <td>TV Cable</td>\n",
       "      <td>2023</td>\n",
       "      <td>6</td>\n",
       "      <td>3181.423507</td>\n",
       "      <td>253.93</td>\n",
       "      <td>12.528742</td>\n",
       "    </tr>\n",
       "    <tr>\n",
       "      <th>1</th>\n",
       "      <td>ARGENTINA</td>\n",
       "      <td>IBOPE - AdMedia</td>\n",
       "      <td>AGUAS DANONE</td>\n",
       "      <td>VILLAVICENCIO</td>\n",
       "      <td>AGUAS MINERALES Y MINERALIZADA</td>\n",
       "      <td>TV Cable</td>\n",
       "      <td>2023</td>\n",
       "      <td>2</td>\n",
       "      <td>2268.824968</td>\n",
       "      <td>253.93</td>\n",
       "      <td>8.934844</td>\n",
       "    </tr>\n",
       "    <tr>\n",
       "      <th>2</th>\n",
       "      <td>ARGENTINA</td>\n",
       "      <td>IBOPE - AdMedia</td>\n",
       "      <td>AGUAS DANONE</td>\n",
       "      <td>VILLAVICENCIO</td>\n",
       "      <td>AGUAS MINERALES Y MINERALIZADA</td>\n",
       "      <td>TV Cable</td>\n",
       "      <td>2023</td>\n",
       "      <td>2</td>\n",
       "      <td>4537.649935</td>\n",
       "      <td>253.93</td>\n",
       "      <td>17.869688</td>\n",
       "    </tr>\n",
       "    <tr>\n",
       "      <th>3</th>\n",
       "      <td>ARGENTINA</td>\n",
       "      <td>IBOPE - AdMedia</td>\n",
       "      <td>AGUAS DANONE</td>\n",
       "      <td>VILLAVICENCIO</td>\n",
       "      <td>AGUAS MINERALES Y MINERALIZADA</td>\n",
       "      <td>TV Cable</td>\n",
       "      <td>2023</td>\n",
       "      <td>2</td>\n",
       "      <td>5834.121345</td>\n",
       "      <td>253.93</td>\n",
       "      <td>22.975313</td>\n",
       "    </tr>\n",
       "    <tr>\n",
       "      <th>4</th>\n",
       "      <td>ARGENTINA</td>\n",
       "      <td>IBOPE - AdMedia</td>\n",
       "      <td>AGUAS DANONE</td>\n",
       "      <td>VILLAVICENCIO</td>\n",
       "      <td>AGUAS MINERALES Y MINERALIZADA</td>\n",
       "      <td>TV Cable</td>\n",
       "      <td>2023</td>\n",
       "      <td>2</td>\n",
       "      <td>2106.766041</td>\n",
       "      <td>253.93</td>\n",
       "      <td>8.296641</td>\n",
       "    </tr>\n",
       "  </tbody>\n",
       "</table>\n",
       "</div>"
      ],
      "text/plain": [
       "     Country      Data Source Advertiser (parent company)          Brand  \\\n",
       "0  ARGENTINA  IBOPE - AdMedia                  PEPSI COLA      GATORADE.   \n",
       "1  ARGENTINA  IBOPE - AdMedia                AGUAS DANONE  VILLAVICENCIO   \n",
       "2  ARGENTINA  IBOPE - AdMedia                AGUAS DANONE  VILLAVICENCIO   \n",
       "3  ARGENTINA  IBOPE - AdMedia                AGUAS DANONE  VILLAVICENCIO   \n",
       "4  ARGENTINA  IBOPE - AdMedia                AGUAS DANONE  VILLAVICENCIO   \n",
       "\n",
       "                         Category Media type  Year Month  \\\n",
       "0                    ENERGY DRINK   TV Cable  2023     6   \n",
       "1  AGUAS MINERALES Y MINERALIZADA   TV Cable  2023     2   \n",
       "2  AGUAS MINERALES Y MINERALIZADA   TV Cable  2023     2   \n",
       "3  AGUAS MINERALES Y MINERALIZADA   TV Cable  2023     2   \n",
       "4  AGUAS MINERALES Y MINERALIZADA   TV Cable  2023     2   \n",
       "\n",
       "   Spend (Local Currency)  Exchange Rate  Spend (US Currency)  \n",
       "0             3181.423507         253.93            12.528742  \n",
       "1             2268.824968         253.93             8.934844  \n",
       "2             4537.649935         253.93            17.869688  \n",
       "3             5834.121345         253.93            22.975313  \n",
       "4             2106.766041         253.93             8.296641  "
      ]
     },
     "execution_count": 5,
     "metadata": {},
     "output_type": "execute_result"
    }
   ],
   "source": [
    "df.head()"
   ]
  },
  {
   "cell_type": "code",
   "execution_count": 6,
   "id": "81c1963b",
   "metadata": {},
   "outputs": [
    {
     "data": {
      "text/plain": [
       "(471079, 11)"
      ]
     },
     "execution_count": 6,
     "metadata": {},
     "output_type": "execute_result"
    }
   ],
   "source": [
    "df.shape"
   ]
  },
  {
   "cell_type": "code",
   "execution_count": 7,
   "id": "2d89e3d3",
   "metadata": {},
   "outputs": [
    {
     "data": {
      "text/plain": [
       "Index(['Country', 'Data Source', 'Advertiser (parent company)', 'Brand',\n",
       "       'Category', 'Media type', 'Year', 'Month', 'Spend (Local Currency)',\n",
       "       'Exchange Rate', 'Spend (US Currency)'],\n",
       "      dtype='object')"
      ]
     },
     "execution_count": 7,
     "metadata": {},
     "output_type": "execute_result"
    }
   ],
   "source": [
    "df.columns"
   ]
  },
  {
   "cell_type": "code",
   "execution_count": 8,
   "id": "b69654db",
   "metadata": {},
   "outputs": [],
   "source": [
    "#os.chdir(r\"C:\\ABI\\Q2_Competitive\\Ad_Spend\\Processed Data\")\n",
    "#print(os.getcwd())\n",
    "#df.to_excel(\"test output.xlsx\", index=False)"
   ]
  },
  {
   "cell_type": "code",
   "execution_count": 9,
   "id": "c76f4b2f",
   "metadata": {},
   "outputs": [
    {
     "data": {
      "text/plain": [
       "Index(['Country', 'Data_Source', 'Advertiser_parent_company', 'Brand',\n",
       "       'Category', 'Media_type', 'Year', 'Month', 'Spend_Local_Currency',\n",
       "       'Exchange_Rate', 'Spend_US_Currency'],\n",
       "      dtype='object')"
      ]
     },
     "execution_count": 9,
     "metadata": {},
     "output_type": "execute_result"
    }
   ],
   "source": [
    "# Renameing features: for easy indexing in python\n",
    "new_columns = ['Country', 'Data_Source', 'Advertiser_parent_company', 'Brand',\n",
    "       'Category', 'Media_type', 'Year', 'Month', 'Spend_Local_Currency',\n",
    "       'Exchange_Rate', 'Spend_US_Currency']\n",
    "df.columns = new_columns\n",
    "df.columns"
   ]
  },
  {
   "cell_type": "code",
   "execution_count": 10,
   "id": "fab81af9",
   "metadata": {},
   "outputs": [],
   "source": [
    "## Making the String in upper case:\n",
    "for col in df.columns[:-7]:\n",
    "    #print(col)\n",
    "    df[col] = df[col].str.upper()"
   ]
  },
  {
   "cell_type": "markdown",
   "id": "190e9e5a",
   "metadata": {},
   "source": [
    "### Available Markets"
   ]
  },
  {
   "cell_type": "code",
   "execution_count": 11,
   "id": "615c7673",
   "metadata": {},
   "outputs": [
    {
     "data": {
      "text/plain": [
       "array(['ARGENTINA', 'BOLIVIA', 'BRAZIL', 'CANADA', 'CHILE', 'CHINA',\n",
       "       'COLOMBIA', 'DOMINICAN REPUBLIC', 'ECUADOR', 'EL SALVADOR',\n",
       "       'GUATEMALA', 'HONDURAS', 'INDIA', 'JAPAN', 'MEXICO', 'PANAMA',\n",
       "       'PARAGUAY', 'PERU', 'SOUTH AFRICA', 'SOUTH KOREA', 'URUGUAY', 'US',\n",
       "       'VIETNAM'], dtype=object)"
      ]
     },
     "execution_count": 11,
     "metadata": {},
     "output_type": "execute_result"
    }
   ],
   "source": [
    "df['Country'].unique()"
   ]
  },
  {
   "cell_type": "code",
   "execution_count": 12,
   "id": "c27106f5",
   "metadata": {},
   "outputs": [],
   "source": [
    "## Creating requried columns with null values\n",
    "df[\"Category_Standardized\"] = np.nan\n",
    "df[\"Advertiser_parent_standarized\"] = np.nan\n",
    "df[\"Brand_standarization\"] = np.nan\n",
    "df['Parent_competitor'] = np.nan\n",
    "\n",
    "df[\"Top_Brand_Competitors_and_ABI\"] = np.nan\n",
    "df[\"Focused_Brand_Competitors\"] = np.nan\n",
    "\n",
    "df['Top10_Brands_by_Market'] = np.nan\n",
    "\n",
    "df[\"Media_Summary\"] = np.nan\n",
    "df[\"Media_type_standarized\"] = np.nan\n",
    "df[\"Month_number\"] = np.nan\n",
    "df['Month_standarization'] = np.nan\n",
    "\n",
    "df[\"Focused_Global_Brand\"] = np.nan\n",
    "df[\"Global_Parent\"] = np.nan\n",
    "df[\"ABI_Parent_SOS\"] = np.nan\n",
    "df[\"Heineken_Brand_SOS\"] = np.nan\n",
    "df[\"Amstel_Brand_SOS\"] = np.nan\n",
    "df[\"Digital_Traditional\"] = np.nan\n",
    "df[\"Heineken_Parent_SOS\"] = np.nan\n",
    "df[\"Brand_Rank_by_Country\"] = np.nan\n",
    "df[\"Market_Group\"] = np.nan"
   ]
  },
  {
   "cell_type": "markdown",
   "id": "cbbb72ec",
   "metadata": {},
   "source": [
    "### Category (standardized)"
   ]
  },
  {
   "cell_type": "code",
   "execution_count": 13,
   "id": "81b34d0e",
   "metadata": {},
   "outputs": [],
   "source": [
    "#df['Category'].unique()"
   ]
  },
  {
   "cell_type": "code",
   "execution_count": 14,
   "id": "538a5974",
   "metadata": {},
   "outputs": [
    {
     "data": {
      "text/plain": [
       "array(['Other Alcohol', 'Beer', 'Beyond Beer', 'Non Alcoholic Beer'],\n",
       "      dtype=object)"
      ]
     },
     "execution_count": 14,
     "metadata": {},
     "output_type": "execute_result"
    }
   ],
   "source": [
    "# Drink Categorization:\n",
    "beer = [\"MALTAS\", \"BEER\", \"BEER - OTHER\", \"CERVEZA\", \"CERVEZAS\", \"CERVEZAS ABI\", \n",
    "        \"CERVEZAS ARTESANALES\", \"CERVEZAS CCC\", \"CERVEZAS RESTANTES\", \"EVENTS DRINKS\", \"INST. BAVARIA\", 'BEER RANGES',\n",
    "       'Light & Low Alcohol Beer & Ale', 'Regular Beer & Ale', 'Cerveza']\n",
    "\n",
    "beyond_beer = [\"SELTZER\", 'beyond Beer', \"COOLERS, READY TO DRINK\"]\n",
    "\n",
    "non_alcoholic_beer = ['Non Alc']\n",
    "\n",
    "other_alcohol = [\"ENERGY DRINK\", \"COLAS\", \"E-COMMERCE\", \"FERNETS\", \"GIN\", \"INSTITUC BEBIDAS ALCOHOLICAS\", \n",
    "                 \"JUGOS NATURALES\", \"LIMON DIET\", \"LINEA SABORES\", \"MANZANA\", \"NARANJA\", \"SIDRAS\",\" VINOS ALTA GAMA\", \n",
    "                 \"VINOS BAJA GAMA\", \"VINOS ESPUMANTES\", \"VINOS MEDIA GAMA\", \"Liqueur\", \"LIQUEURS\",\" Non-Beer\", \n",
    "                 \"OTHER\", \"Other Alcoholic Drinks\", \"OTHER LIQUORS\", \"OTROS LICORES\", \"RON\", \"RTD ALCOHOLIC BEVERAGES\",\n",
    "                 \"RTD MIXES\", \"RUM\", \"Soda\", \"SODAS\", \"SPIRITS\", \"SPIRITS - OTHER\", \"UVA\", \"VINO\", \"VINOS\", \n",
    "                 \"VINOS FRIZZANTE\", \"VODKA\", \"WHISKY\", \"WHISKYS\", \"WINE\", \"WINE - OTHER\", \"WINE/SPARKLING WINE\",\n",
    "                 \"AGUAS MINERALES Y MINERALIZADA\", \"AGUAS SABORIZADAS CON GAS\", \"AGUAS SABORIZADAS LINEA\",\n",
    "                 \"AGUAS SABORIZADAS SIN GAS\", \"ALCOHOLIC BEVERAGES\", \"CAMPAÑAS DE CONSUMO ALCOHOLIC\", \"CHAMPAGNE\",\n",
    "                 \"Destilled Spirit\", \"INSTITUC BEBIDAS SIN ALCOHOL\", \"LICORES\", \"LIMA LIMON, CITRUS\",\n",
    "                 \"LINEA BEBIDAS ALCOHOLICAS\", \"LINEA BEBIDAS SIN ALCOHOL\", \"APERITIV SIN ALCOHOL Y VEGETAL\",\n",
    "                 \"BEBIDAS ALCOHOLICAS PREPARADAS\", \"BEBIDAS ALCOHOLICAS SABORIZADAS\", \"DISTRIBUID BEBIDAS ALCOHOLICAS\",\n",
    "                 \"FLAVORED ALCOHOLIC BEVERAGES\", \"GRAPAS\", \"IND. LICORERA\", \"AGUARDIENTE\", \"ALCOPOPS\", \"APERITIVOS\",\n",
    "                 \"BEBIDAS DE SOJA\", \"CIDER\", \"CIDER - OTHER\", \"COCTELES\", \"COLAS DIET\", \"EMBOTELLADORAS\", \"FRUTAS\",\n",
    "                 \"JUGOS EN POLVO PARA PREPARAR\", 'VINOS ALTA GAMA', 'NON-BEER', 'LIQUEUR', 'DESTILLED SPIRIT', \n",
    "                 'OTHER ALCOHOLIC DRINKS', 'SODA', 'Cider', 'Wine', 'Alcoholic Beverages: Comb Copy & NEC', 'Non-Beer']\n",
    "\n",
    "df[\"Category_Standardized\"] = df['Category'].copy()\n",
    "df[\"Category_Standardized\"] = df[\"Category_Standardized\"].replace(beer, \"Beer\")\n",
    "df[\"Category_Standardized\"] = df[\"Category_Standardized\"].replace(beyond_beer, \"Beyond Beer\")\n",
    "df[\"Category_Standardized\"] = df[\"Category_Standardized\"].replace(other_alcohol, \"Other Alcohol\")\n",
    "df[\"Category_Standardized\"] = df[\"Category_Standardized\"].replace(non_alcoholic_beer, \"Non Alcoholic Beer\")\n",
    "df['Category_Standardized'].unique()"
   ]
  },
  {
   "cell_type": "markdown",
   "id": "b129ff9b",
   "metadata": {},
   "source": [
    "### Advertiser (standardized)"
   ]
  },
  {
   "cell_type": "code",
   "execution_count": 15,
   "id": "cd14bb16",
   "metadata": {},
   "outputs": [],
   "source": [
    "df[\"Advertiser_parent_standarized\"] = df[\"Advertiser_parent_company\"].copy()"
   ]
  },
  {
   "cell_type": "code",
   "execution_count": 16,
   "id": "b5d1bd7f",
   "metadata": {},
   "outputs": [],
   "source": [
    "# Codes needs to be optimized using map function and using dictionary\n",
    "\n",
    "\n",
    "## Argentina:\n",
    "df.loc[df['Advertiser_parent_standarized'] == \"CCU SA\", 'Advertiser_parent_standarized'] = \"CCU SA (Heineken Parent)\"\n",
    "df.loc[df['Advertiser_parent_standarized'] == \"QUILMES\", 'Advertiser_parent_standarized'] = \"ABI\"\n",
    "df.loc[df['Advertiser_parent_standarized'] == \"ANHEUSER-BUSCH INBEV\", 'Advertiser_parent_standarized'] = \"ABI\"\n",
    "df.loc[df['Advertiser_parent_standarized'] == \"GOOSE ISLAND BEER COMPANY\", 'Advertiser_parent_standarized'] = \"ABI\"\n",
    "\n",
    "#Bolivia\n",
    "df.loc[df['Advertiser_parent_standarized'] == \"ABINVEB\", 'Advertiser_parent_standarized'] = \"ABI\"\n",
    "\n",
    "\n",
    "##Chile\n",
    "df.loc[df['Advertiser_parent_standarized'] == \"CERVECERIA CHILE\", 'Advertiser_parent_standarized'] = \"ABI\"\n",
    "df.loc[df['Advertiser_parent_standarized'] == \"CCU\", 'Advertiser_parent_standarized'] = \"CCU (Heineken Parent)\"\n",
    "df.loc[df['Advertiser_parent_standarized'] == \"PATAGONIA (CERVEZA)\", 'Advertiser_parent_standarized'] = \"ABI\"\n",
    "df.loc[df['Advertiser_parent_standarized'] == \"MOLSON COORS CHILE\", 'Advertiser_parent_standarized'] = \"MOLSON COORS\"\n",
    "\n",
    "##China\n",
    "df.loc[df['Advertiser_parent_standarized'] == \"Carlsberg Group\".upper(), 'Advertiser_parent_standarized'] = \"CARLSBERG\"\n",
    "df.loc[df['Advertiser_parent_standarized'] == \"CR Beer\".upper(), 'Advertiser_parent_standarized'] = \"CR BEER (Heineken Parent)\"\n",
    "\n",
    "\n",
    "##Colombia\n",
    "# In 2005, Bavaria Brewery became a subsidiary of SABMiller. SABMiller is subsidiary of ABI\n",
    "df.loc[df['Advertiser_parent_standarized'] == \"BAVARIA\", 'Advertiser_parent_standarized'] = \"ABI\" ## QURIED the market\n",
    "df.loc[df['Advertiser_parent_standarized'] == \"ABINBEV\", 'Advertiser_parent_standarized'] = \"ABI\"\n",
    "df.loc[df['Advertiser_parent_standarized'] == \"CCC\", 'Advertiser_parent_standarized'] = \"CCC (Heineken Parent)\"\n",
    "df.loc[df['Advertiser_parent_standarized'] == \"HEINEKEN INT\", 'Advertiser_parent_standarized'] = \"HEINEKEN\"\n",
    "df.loc[df['Advertiser_parent_standarized'] == \"CCA INT\", 'Advertiser_parent_standarized'] = \"CCA\"\n",
    "\n",
    "\n",
    "#'DOMINICAN REPUBLIC':\n",
    "df.loc[df['Advertiser_parent_standarized'] == \"CERVECERIA NACIONAL DOMINICANA\", 'Advertiser_parent_standarized'] = \"ABI\"\n",
    "df.loc[df['Advertiser_parent_standarized'] == \"UNITED BRANDS\", 'Advertiser_parent_standarized'] = \"HEINEKEN\"\n",
    "df.loc[df['Advertiser_parent_standarized'] == \"HEINEKEN CABLE PANREGIONAL\", 'Advertiser_parent_standarized'] = \"HEINEKEN\"\n",
    "df.loc[df['Advertiser_parent_standarized'] == \"CCU CABLE PANREGIONAL\", 'Advertiser_parent_standarized'] = \"CCU (Heineken Parent)\"\n",
    "df.loc[df['Advertiser_parent_standarized'] == \"BUDWEISER CABLE PANREGIONAL\", 'Advertiser_parent_standarized'] = \"ABI\"\n",
    "df.loc[df['Advertiser_parent_standarized'] == \"CLUB COLOMBIA CABLE PANREGIONAL\", 'Advertiser_parent_standarized'] = \"ABI\"\n",
    "df.loc[df['Advertiser_parent_standarized'] == \"QUILMES CABLE PANREGIONALL\", 'Advertiser_parent_standarized'] = \"ABI\"\n",
    "df.loc[df['Advertiser_parent_standarized'] == \"MIKES HARD CABLE PANREGIONAL\", 'Advertiser_parent_standarized'] = \"ABI\"\n",
    "df.loc[df['Advertiser_parent_standarized'] == \"AGUILA CABLE PANREGIONAL\", 'Advertiser_parent_standarized'] = \"ABI\"\n",
    "\n",
    "\n",
    "\n",
    "#'ECUADOR'\n",
    "df.loc[df['Advertiser_parent_standarized'] == \"CIA. DE CERVEZAS NACIONALES\", 'Advertiser_parent_standarized'] = \"ABI\"\n",
    "df.loc[df['Advertiser_parent_standarized'] == \"STELLA ARTOIS\", 'Advertiser_parent_standarized'] = \"ABI\"\n",
    "df.loc[df['Advertiser_parent_standarized'] == \"Heineken\", 'Advertiser_parent_standarized'] = \"HEINEKEN\"\n",
    "\n",
    "#'EL SALVADOR'\n",
    "df.loc[df['Advertiser_parent_standarized'] == \"INDUSTRIAS LA CONSTANCIA SA DE CV\", 'Advertiser_parent_standarized'] = \"ABI\"\n",
    "df.loc[df['Advertiser_parent_standarized'] == \"DISAL\", 'Advertiser_parent_standarized'] = \"HEINEKEN\"\n",
    "\n",
    "#'GUATEMALA'\n",
    "df.loc[df['Advertiser_parent_standarized'] == \"AMBEV CENTROAMERICA\", 'Advertiser_parent_standarized'] = \"ABI\"\n",
    "df.loc[df['Advertiser_parent_standarized'] == \"ANHEUSER-BUSCH CABLE PANREGIONAL\", 'Advertiser_parent_standarized'] = \"ABI\"\n",
    "df.loc[df['Advertiser_parent_standarized'] == \"GRUPO MODELO CABLE PANREGIONAL\", 'Advertiser_parent_standarized'] = \"ABI\"\n",
    "df.loc[df['Advertiser_parent_standarized'] == \"MIKES HARD LEMONADE CABLE PANREGIONAL\", 'Advertiser_parent_standarized'] = \"ABI\"\n",
    "df.loc[df['Advertiser_parent_standarized'] == \"CERVECERIA CENTRO AMERICANA\", 'Advertiser_parent_standarized'] = \"HEINEKEN\"\n",
    "df.loc[df['Advertiser_parent_standarized'] == \"CCU CABLE PANREGIONAL\", 'Advertiser_parent_standarized'] = \"CCU (Heineken Parent)\"\n",
    "\n",
    "#'HONDURAS'\n",
    "df.loc[df['Advertiser_parent_standarized'] == \"CERVECERIA HONDUREÑA\", 'Advertiser_parent_standarized'] = \"ABI\"\n",
    "df.loc[df['Advertiser_parent_standarized'] == \"DISTRIBUIDORA ISTMANIA\", 'Advertiser_parent_standarized'] = \"HEINEKEN\"\n",
    "\n",
    "#'INDIA'\n",
    "df.loc[df['Advertiser_parent_standarized'] == \"Pernod Ricard india private limited\", 'Advertiser_parent_standarized'] = \"Pernod Ricard\".upper()\n",
    "df.loc[df['Advertiser_parent_standarized'] == \"bacardi martini india\", 'Advertiser_parent_standarized'] = \"Bacardi\".upper()\n",
    "df.loc[df['Advertiser_parent_standarized'] == \"CROWN BEERS INDIA LTD\", 'Advertiser_parent_standarized'] = \"ABI\"\n",
    "df.loc[df['Advertiser_parent_standarized'] == \"Carlsberg Beer\".upper(), 'Advertiser_parent_standarized'] = \"Carlsberg\".upper()\n",
    "df.loc[df['Advertiser_parent_standarized'] == \"united spirits limited\", 'Advertiser_parent_standarized'] = \"United Spirits\".upper()\n",
    "df.loc[df['Advertiser_parent_standarized'] == \"Heineken N.V.\", 'Advertiser_parent_standarized'] = \"HEINEKEN\"\n",
    "\n",
    "#'JAPAN' - na\n",
    "#'MEXICO' -na\n",
    "\n",
    "#'PARAGUAY'\n",
    "df.loc[df['Advertiser_parent_standarized'] == \"Bebidas del Paraguay\", 'Advertiser_parent_standarized'] = \"HEINEKEN\"\n",
    "df.loc[df['Advertiser_parent_standarized'] == \"Distribuidora Gloria\", 'Advertiser_parent_standarized'] = \"MOLSON COORS\"\n",
    "\n",
    "\n",
    "\n",
    "#'PANAMA' ## is FEDURO should be Molson Coors - Ask Bob \n",
    "df.loc[df['Advertiser_parent_standarized'] == \"CERVECERIA PANAMA\", 'Advertiser_parent_standarized'] = \"HEINEKEN\"\n",
    "df.loc[df['Advertiser_parent_standarized'] == \"DIST COMERCIAL GROUP\", 'Advertiser_parent_standarized'] = \"ABI\"\n",
    "\n",
    "#'PERU'\n",
    "df.loc[df['Advertiser_parent_standarized'] == \"UCP BACKUS Y JOHNSTON S.A.A.\", 'Advertiser_parent_standarized'] = \"ABI\"\n",
    "df.loc[df['Advertiser_parent_standarized'] == \"LIMBA SERVICES SAC\", 'Advertiser_parent_standarized'] = \"HEINEKEN\"\n",
    "df.loc[df['Advertiser_parent_standarized'] == \"DESTILERIA PERUANA\", 'Advertiser_parent_standarized'] = \"BACARDI\"\n",
    "\n",
    "#'SOUTH AFRICA'\n",
    "df.loc[df['Advertiser_parent_standarized'] == \"ANHEUSER-BUSCH INBEV\", 'Advertiser_parent_standarized'] = \"ABI\"\n",
    "df.loc[df['Advertiser_parent_standarized'] == \"SAB MILLER\", 'Advertiser_parent_standarized'] = \"ABI\"\n",
    "df.loc[df['Advertiser_parent_standarized'] == \"HEINEKEN INTERNATIONAL\", 'Advertiser_parent_standarized'] = \"HEINEKEN\"\n",
    "df.loc[df['Advertiser_parent_standarized'] == \"HEINEKEN SOUTH AFRICA\", 'Advertiser_parent_standarized'] = \"HEINEKEN\"\n",
    "df.loc[df['Advertiser_parent_standarized'] == \"CERVECERIA MODELO\", 'Advertiser_parent_standarized'] = \"ABI\"\n",
    "df.loc[df['Advertiser_parent_standarized'] == \"BELGIUM BEER COMPANY\", 'Advertiser_parent_standarized'] = \"ABI\"\n",
    "df.loc[df['Advertiser_parent_standarized'] == \"ANHEUSER BUSCH INC\", 'Advertiser_parent_standarized'] = \"ABI\"\n",
    "df.loc[df['Advertiser_parent_standarized'] == \"CORONA CHASING SUNSETS\", 'Advertiser_parent_standarized'] = \"ABI\"\n",
    "\n",
    "#'SOUTH KOREA'\n",
    "df.loc[df['Advertiser_parent_standarized'] == \"ABInBev\", 'Advertiser_parent_standarized'] = \"ABI\"\n",
    "df.loc[df['Advertiser_parent_standarized'] == \"GOLDEN BLUE\", 'Advertiser_parent_standarized'] = \"GOLDEN BLUE (MOLSON COORS)\"\n",
    "\n",
    "#'URUGUAY'\n",
    "df.loc[df['Advertiser_parent_standarized'] == \"FNC\", 'Advertiser_parent_standarized'] = \"ABI\"\n",
    "df.loc[df['Advertiser_parent_standarized'] == \"FABRICAS NACIONALES DE CERVEZA\", 'Advertiser_parent_standarized'] = \"ABI\"\n",
    "df.loc[df['Advertiser_parent_standarized'] == \"CORONA\", 'Advertiser_parent_standarized'] = \"ABI\"\n",
    "df.loc[df['Advertiser_parent_standarized'] == \"PILSEN\", 'Advertiser_parent_standarized'] = \"ABI\"\n",
    "df.loc[df['Advertiser_parent_standarized'] == \"COMPANIA CERVECERIAS UNIDAS\", 'Advertiser_parent_standarized'] = \"CCU (Heineken Parent)\"\n",
    "df.loc[df['Advertiser_parent_standarized'] == \"CCU\", 'Advertiser_parent_standarized'] = \"CCU (Heineken Parent)\"\n",
    "\n",
    "#'VIETNAM'\n",
    "df.loc[df['Advertiser_parent_standarized'] == \"CARLSBERG VIETNAM\", 'Advertiser_parent_standarized'] = \"CARLSBERG\"\n",
    "df.loc[df['Advertiser_parent_standarized'] == \"VBL\", 'Advertiser_parent_standarized'] = \"VBL (Heineken Parent)\"\n",
    "\n",
    "# USA\n",
    "df.loc[df['Advertiser_parent_standarized'] == \"Anheuser-Busch InBev\", 'Advertiser_parent_standarized'] = \"ABI\"\n",
    "df.loc[df['Advertiser_parent_standarized'] == 'MOLSON COORS BREWING CO', 'Advertiser_parent_standarized'] = \"MOLSON COORS\"\n",
    "df.loc[df['Advertiser_parent_standarized'] == \"HEINEKEN NV\", 'Advertiser_parent_standarized'] = \"HEINEKEN\"\n",
    "\n",
    "#Bolivia\n",
    "df.loc[df['Advertiser_parent_standarized'] == \"CERVECERIA BOLIVIANA NACIONAL S.A.\", 'Advertiser_parent_standarized'] = \"ABI\"\n",
    "\n",
    "#df[\"Advertiser_parent_standarized\"].unique()"
   ]
  },
  {
   "cell_type": "markdown",
   "id": "87dc6dda",
   "metadata": {},
   "source": [
    "### Brand (standardized) "
   ]
  },
  {
   "cell_type": "code",
   "execution_count": 17,
   "id": "2c4d5858",
   "metadata": {},
   "outputs": [
    {
     "name": "stderr",
     "output_type": "stream",
     "text": [
      "C:\\Users\\amimaiti\\AppData\\Local\\Temp/ipykernel_13976/66319622.py:12: FutureWarning: The default value of regex will change from True to False in a future version. In addition, single character regular expressions will *not* be treated as literal strings when regex=True.\n",
      "  df[\"Brand_standarization\"] = df[\"Brand_standarization\"].str.replace(\"(\", \"\")\n",
      "C:\\Users\\amimaiti\\AppData\\Local\\Temp/ipykernel_13976/66319622.py:13: FutureWarning: The default value of regex will change from True to False in a future version. In addition, single character regular expressions will *not* be treated as literal strings when regex=True.\n",
      "  df[\"Brand_standarization\"] = df[\"Brand_standarization\"].str.replace(\")\", \"\")\n"
     ]
    }
   ],
   "source": [
    "df[\"Brand_standarization\"] = df[\"Brand\"].copy() # Copy the brnad names to a new column to strd\n",
    "\n",
    "df[\"Brand_standarization\"] = df[\"Brand_standarization\"].str.strip()\n",
    "df[\"Brand_standarization\"] = df[\"Brand_standarization\"].str.replace('SPONSORSHIP', '')\n",
    "df[\"Brand_standarization\"] = df[\"Brand_standarization\"].str.replace('CORPORATE', '')\n",
    "df[\"Brand_standarization\"] = df[\"Brand_standarization\"].str.replace('COMPETITION', '')\n",
    "df[\"Brand_standarization\"] = df[\"Brand_standarization\"].str.replace('RUGBY', '')\n",
    "df[\"Brand_standarization\"] = df[\"Brand_standarization\"].str.replace('REG', '')\n",
    "df[\"Brand_standarization\"] = df[\"Brand_standarization\"].str.replace('BEER'.upper(), '')\n",
    "df[\"Brand_standarization\"] = df[\"Brand_standarization\"].str.replace('CERVEZA', '')\n",
    "df[\"Brand_standarization\"] = df[\"Brand_standarization\"].str.replace(\"CERVECERIA\", \"\")\n",
    "df[\"Brand_standarization\"] = df[\"Brand_standarization\"].str.replace(\"(\", \"\")\n",
    "df[\"Brand_standarization\"] = df[\"Brand_standarization\"].str.replace(\")\", \"\")\n",
    "\n",
    "df[\"Brand_standarization\"] = df[\"Brand_standarization\"].str.strip()\n",
    "\n",
    "df.loc[df['Brand_standarization'] == \"HEINEKEN 0 0\", 'Brand_standarization'] = \"HEINEKEN 0.0\"\n",
    "df.loc[df['Brand_standarization'] == \"HEINEKEN O.O LAGER\", 'Brand_standarization'] = \"HEINEKEN 0.0\"\n",
    "df.loc[df['Brand_standarization'] == \"HEINEKEN 0 0 A1PADEL PAYSPACE CAPE TOWN MASTER\", 'Brand_standarization'] = \"HEINEKEN 0.0\"\n",
    "df.loc[df['Brand_standarization'] == \"HEINEKEN O.O LAGER\", 'Brand_standarization'] = \"HEINEKEN 0.0\"\n",
    "df.loc[df['Brand_standarization'] == \"HEINEKEN 00\", 'Brand_standarization'] = \"HEINEKEN 0.0\"\n",
    "df.loc[df['Brand_standarization'] == \"HEINEKEN MEXICO\", 'Brand_standarization'] = \"HEINEKEN\"\n",
    "df.loc[df['Brand_standarization'] == \"HEINEKEN ()\", 'Brand_standarization'] = \"HEINEKEN\"\n",
    "\n",
    "\n",
    "\n",
    "df.loc[df['Brand_standarization'] == 'UNITED BRANDS', 'Brand_standarization'] = \"HEINEKEN\" #Dominican Republic\n",
    "\n",
    "df.loc[df['Brand_standarization'] == \"GC/AMSTEL MALTA\", 'Brand_standarization'] = \"AMSTEL MALTA\"\n",
    "\n",
    "\n"
   ]
  },
  {
   "cell_type": "code",
   "execution_count": 18,
   "id": "5fca2a4f",
   "metadata": {},
   "outputs": [],
   "source": [
    "## Other Brands including ABI\n",
    "\n",
    "\n",
    "df.loc[df['Brand_standarization'] == \"BRUGAL ()\", 'Brand_standarization'] = \"BRUGAL\"\n",
    "df.loc[df['Brand_standarization'] == \"CORONA.\", 'Brand_standarization'] = \"CORONA\" # 'ARGENTINA'\n",
    "df.loc[df['Brand_standarization'] == 'PACEÑA', 'Brand_standarization'] = \"PACENA\" # Bolivia\n",
    "df.loc[df['Brand_standarization'] == 'AUSTRAL (CERVEZA)', 'Brand_standarization'] = \"AUSTRAL\" #'CHILE'\n",
    "df.loc[df['Brand_standarization'] == 'CRISTAL (CERVEZA)', 'Brand_standarization'] = \"CRISTAL\"\n",
    "df.loc[df['Brand_standarization'] == 'PATAGONIA CERVEZA', 'Brand_standarization'] = \"PATAGONIA\"\n",
    "df.loc[df['Brand_standarization'] == 'PATAGONIA (CERVEZA)', 'Brand_standarization'] = \"PATAGONIA\"\n",
    "df.loc[df['Brand_standarization'] == 'SOL (CERVEZA)', 'Brand_standarization'] = \"SOL\"\n",
    "df.loc[df['Brand_standarization'] == 'ABINBEV INSTITUCIONAL', 'Brand_standarization'] = \"ABI\"\n",
    "df.loc[df['Brand_standarization'] == 'CORONA (CERVEZA)', 'Brand_standarization'] = \"CORONA\"\n",
    "df.loc[df['Brand_standarization'] == 'CUSQUEÑA', 'Brand_standarization'] = \"CUSQUENA\"\n",
    "df.loc[df['Brand_standarization'] == \"Snow Others\", 'Brand_standarization'] = \"SNOW\"  #'CHINA'\n",
    "df.loc[df['Brand_standarization'] == \"Others\", 'Brand_standarization'] = \"All Others\"\n",
    "df.loc[df['Brand_standarization'] == \"CORONITA\", 'Brand_standarization'] = \"CORONA\"  #'COLOMBIA'\n",
    "df.loc[df['Brand_standarization'] == \"COSTEÑA\", 'Brand_standarization'] = \"COSTENA\"\n",
    "df.loc[df['Brand_standarization'] == 'CERVECERIA NACIONAL DOMINICANA', 'Brand_standarization'] = \"CERVECERIA\" #'Dom Rep'\n",
    "df.loc[df['Brand_standarization'] == 'CIA. CERVEZAS NACIONALES', 'Brand_standarization'] = \"ABI\"  #'ECUADOR'\n",
    "df.loc[df['Brand_standarization'] == 'CASTLE LITE BEER', 'Brand_standarization'] = \"CASTLE LITE\" #'SOUTH AFRICA'\n",
    "df.loc[df['Brand_standarization'] == 'BRUTAL FRUIT SPRITZER', 'Brand_standarization'] = \"BRUTAL FRUIT\"\n",
    "df.loc[df['Brand_standarization'] == 'CARLING BLACK LABEL BEER', 'Brand_standarization'] = \"CARLING BLACK LABEL\"\n",
    "df.loc[df['Brand_standarization'] == 'CARLING BLACK LABEL BEER COMPETITION', 'Brand_standarization'] = \"CARLING BLACK LABEL\"\n",
    "df.loc[df['Brand_standarization'] == 'CARLING BLACK LABEL BEER SOCCER SPONSORSHIP', 'Brand_standarization'] = \"CARLING BLACK LABEL\"\n",
    "df.loc[df['Brand_standarization'] == 'CASTLE LITE BEER COMPETITION', 'Brand_standarization'] = \"CASTLE LITE\"\n",
    "df.loc[df['Brand_standarization'] == 'FLYING FISH CHILL BEER', 'Brand_standarization'] = \"FLYING FISH\"\n",
    "df.loc[df['Brand_standarization'] == 'FLYING FISH FLAVOUR CHILLAS', 'Brand_standarization'] = \"FLYING FISH\"\n",
    "df.loc[df['Brand_standarization'] == 'FLYING FISH FLAVOUR CHILLAS COMPETITION', 'Brand_standarization'] = \"FLYING FISH\"\n",
    "df.loc[df['Brand_standarization'] == 'FLYING FISH PREMIUM FLAVOURED BEER', 'Brand_standarization'] = \"FLYING FISH\"\n",
    "df.loc[df['Brand_standarization'] == 'FLYING FISH FLAVOUR CHILLAS COMPETITION', 'Brand_standarization'] = \"FLYING FISH\"\n",
    "df.loc[df['Brand_standarization'] == 'FLYING FISH PREMIUM FLAVOURED BEER COMP', 'Brand_standarization'] = \"FLYING FISH\"\n",
    "df.loc[df['Brand_standarization'] == 'FLYING FISH SELTZER', 'Brand_standarization'] = \"FLYING FISH\"\n",
    "df.loc[df['Brand_standarization'] == 'FLYING FISH SELTZER PROMOTION', 'Brand_standarization'] = \"FLYING FISH\"\n",
    "df.loc[df['Brand_standarization'] == 'HUNTERS CIDER COMPETITION', 'Brand_standarization'] = \"HUNTERS\"\n",
    "df.loc[df['Brand_standarization'] == 'HUNTERS CIDER RANGE', 'Brand_standarization'] = \"HUNTERS\"\n",
    "df.loc[df['Brand_standarization'] == 'HUNTERS DRY CIDER', 'Brand_standarization'] = \"HUNTERS\"\n",
    "df.loc[df['Brand_standarization'] == 'HUNTERS REFRESH THE RULES OF IGRAND', 'Brand_standarization'] = \"HUNTERS\"\n",
    "df.loc[df['Brand_standarization'] == 'SAVANNA CIDER MUSIC SPONSORSHIP', 'Brand_standarization'] = \"SAVANNA\"\n",
    "df.loc[df['Brand_standarization'] == 'SAVANNA CIDER RANGE', 'Brand_standarization'] = \"SAVANNA\"\n",
    "df.loc[df['Brand_standarization'] == 'SAVANNA COMICS AWARDS', 'Brand_standarization'] = \"SAVANNA\"\n",
    "df.loc[df['Brand_standarization'] == 'SAVANNA DRY CIDER', 'Brand_standarization'] = \"SAVANNA\"\n",
    "df.loc[df['Brand_standarization'] == 'SAVANNA DRY CIDER COMEDY SPONSORSHIP', 'Brand_standarization'] = \"SAVANNA\"\n",
    "df.loc[df['Brand_standarization'] == 'THREE SHIPS WHISKY', 'Brand_standarization'] = \"THREE SHIPS\"\n",
    "df.loc[df['Brand_standarization'] == 'THREE SHIPS WHISKY COMPETITION', 'Brand_standarization'] = \"THREE SHIPS\"\n",
    "df.loc[df['Brand_standarization'] == 'THREE SHIPS WHISKY PROMOTION', 'Brand_standarization'] = \"THREE SHIPS\"\n",
    "df.loc[df['Brand_standarization'] == 'JOHNNIE WALKER BLACK LABEL', 'Brand_standarization'] = \"JOHNNIE WALKER\"\n",
    "df.loc[df['Brand_standarization'] == 'JOHNNIE WALKER FLAVOURCODE', 'Brand_standarization'] = \"JOHNNIE WALKER\"\n",
    "df.loc[df['Brand_standarization'] == 'JOHNNIE WALKER GOLD LABEL RESERVE', 'Brand_standarization'] = \"JOHNNIE WALKER\"\n",
    "df.loc[df['Brand_standarization'] == 'JOHNNIE WALKER WHISKY RANGE', 'Brand_standarization'] = \"JOHNNIE WALKER\"\n",
    "df.loc[df['Brand_standarization'] == 'CORONA SUNSET FESTIVAL', 'Brand_standarization'] = \"CORONA\"\n",
    "df.loc[df['Brand_standarization'] == 'CORONA OPEN JBAY', 'Brand_standarization'] = \"CORONA\"\n",
    "df.loc[df['Brand_standarization'] == 'BLACK CROWN PREMIUM GIN & TONIC', 'Brand_standarization'] = \"BLACK CROWN\"\n",
    "df.loc[df['Brand_standarization'] == 'STELLA ARTOIS BEER', 'Brand_standarization'] = \"STELLA ARTOIS\"\n",
    "df.loc[df['Brand_standarization'] == 'STELLA ARTOIS PLAYERS CHAMPIONSHIP', 'Brand_standarization'] = \"STELLA ARTOIS\"\n",
    "df.loc[df['Brand_standarization'] == 'BUDWEISER BEER', 'Brand_standarization'] = \"BUDWEISER\"\n",
    "df.loc[df['Brand_standarization'] == 'CORONA CHASING SUNSETS', 'Brand_standarization'] = \"CORONA\"\n",
    "df.loc[df['Brand_standarization'] == 'CASTLE MILK STOUT MEDLEY PROMOTION', 'Brand_standarization'] = \"CASTLE MILK STOUT\"\n",
    "df.loc[df['Brand_standarization'] == 'Bud Light Corporate'.upper(), 'Brand_standarization'] = \"Bud Light\".upper() #USA \n",
    "df.loc[df['Brand_standarization'] == 'Bud Light Seltzer Corporate'.upper(), 'Brand_standarization'] = \"Bud Light Seltzer\".upper()\n",
    "df.loc[df['Brand_standarization'] == 'Budweiser Corporate'.upper(), 'Brand_standarization'] = \"Budweiser\".upper()\n",
    "df.loc[df['Brand_standarization'] == 'Corona Extra'.upper(), 'Brand_standarization'] = \"Corona\".upper()\n",
    "df.loc[df['Brand_standarization'] == 'Corona Extra Corporate'.upper(), 'Brand_standarization'] = \"Corona\".upper()\n",
    "df.loc[df['Brand_standarization'] == 'Dos Equis Corporate'.upper(), 'Brand_standarization'] = \"Dos Equis\".upper()\n",
    "df.loc[df['Brand_standarization'] == 'Michelob Ultra Corporate'.upper(), 'Brand_standarization'] = \"Michelob Ultra\".upper()\n",
    "df.loc[df['Brand_standarization'] == 'Miller Lite Corporate'.upper(), 'Brand_standarization'] = \"Miller Lite\".upper()\n",
    "df.loc[df['Brand_standarization'] == 'Modelo Corporate'.upper(), 'Brand_standarization'] = \"Modelo Especial\".upper()\n",
    "df.loc[df['Brand_standarization'] == 'Anheuser-Busch'.upper(), 'Brand_standarization'] = \"ABI\"\n",
    "df.loc[df['Brand_standarization'] == 'Anheuser-Busch Corporate'.upper(), 'Brand_standarization'] = \"ABI\"                                         \n",
    "df.loc[df['Brand_standarization'] == 'Budweiser Sponsorship'.upper(), 'Brand_standarization'] =  \"Budweiser\".upper()                                          \n",
    "df.loc[df['Brand_standarization'] == 'Bud Light Sponsorship'.upper(), 'Brand_standarization'] =  \"Bud Light\".upper()              \n",
    "df.loc[df['Brand_standarization'] == 'Cerveza Victoria'.upper(), 'Brand_standarization'] =  \"Victoria\".upper() \n",
    "                                           "
   ]
  },
  {
   "cell_type": "code",
   "execution_count": 19,
   "id": "8d0cc871",
   "metadata": {},
   "outputs": [],
   "source": [
    "#Code Test\n",
    "#brands = df['Brand_standarization'].value_counts().to_frame()\n",
    "#brands = brands.reset_index()"
   ]
  },
  {
   "cell_type": "markdown",
   "id": "eb6a5119",
   "metadata": {},
   "source": [
    "### Focused Brand Competitors"
   ]
  },
  {
   "cell_type": "code",
   "execution_count": 20,
   "id": "309111cc",
   "metadata": {},
   "outputs": [
    {
     "data": {
      "text/plain": [
       "array(['All Others', 'HEINEKEN', 'AMSTEL', 'AMSTEL ULTRA', 'HEINEKEN 0.0',\n",
       "       'HEINEKEN SILVER', 'AMSTEL ULTRA SELTZER', 'AMSTEL LAGER',\n",
       "       'AMSTEL MALTA', 'HEINEKEN LAGER', 'AMSTEL LIGHT'], dtype=object)"
      ]
     },
     "execution_count": 20,
     "metadata": {},
     "output_type": "execute_result"
    }
   ],
   "source": [
    "## Focus brand for the market:  It woudl be constant throughout the year\n",
    "\n",
    "focus_brands = ['HEINEKEN', \"HEINEKEN SILVER\", \"HEINEKEN 0.0\", \"HEINEKEN LAGER\", \"AMSTEL\", \"AMSTEL ULTRA\", \n",
    "               \"AMSTEL ULTRA SELTZER\", \"AMSTEL LAGER\", \"AMSTEL MALTA\", \"AMSTEL LIGHT\"]\n",
    "\n",
    "df[\"Focused_Brand_Competitors\"] = df[\"Brand_standarization\"].copy()\n",
    "\n",
    "# Assign most values in the 'Top_Brand_Competitors_and_ABI' column as 'Other' except for specific values\n",
    "df['Focused_Brand_Competitors'] = np.where(df['Focused_Brand_Competitors'].isin(focus_brands), \n",
    "                                              df['Focused_Brand_Competitors'], 'All Others')\n",
    "df['Focused_Brand_Competitors'].unique()"
   ]
  },
  {
   "cell_type": "markdown",
   "id": "e3579611",
   "metadata": {},
   "source": [
    "### Media Summary"
   ]
  },
  {
   "cell_type": "code",
   "execution_count": 21,
   "id": "ab81a53e",
   "metadata": {},
   "outputs": [],
   "source": [
    "#df.Media_type.unique()"
   ]
  },
  {
   "cell_type": "code",
   "execution_count": 23,
   "id": "4bd73bc7",
   "metadata": {},
   "outputs": [
    {
     "data": {
      "text/plain": [
       "array(['TV', 'Radio', 'Print', 'Digital', 'OOH'], dtype=object)"
      ]
     },
     "execution_count": 23,
     "metadata": {},
     "output_type": "execute_result"
    }
   ],
   "source": [
    "# Standarize Media Summary column\n",
    "df[\"Media_Summary\"] = df[\"Media_type\"].copy() \n",
    "\n",
    "tv = ['Cable TV', 'PAY TV', 'Span Lang Net TV', 'TVPagada', 'CABLE', 'LOCAL TV', 'Network TV', 'OPEN TV', 'OTV', \n",
    "      'PAID TV (CABLE)', 'PTV', 'Spot TV', 'TELEVISION', 'TV', 'tv', 'TV ABIERTA', 'TV Abierta', 'TV ABIERTA ', 'TV CABLE',\n",
    "      'TV Capital', 'TV Interior', 'TV PAGADA', 'TV Cable', 'Syndication']\n",
    "radio = ['Natl Spot Radio', 'Radio AM', 'Local Radio', 'Network Radio', 'RADIO', 'Radio', 'Radio FM', 'Radios', 'RD']\n",
    "print_ = ['Diarios Capital', 'NEWSPAPER', 'NEWSPAPERS', 'Newspapers', 'PRESS', 'REVISTAS', 'B-to-B Magazines', 'DIARIOS', \n",
    "          'Diarios Interior', 'Hispanic Newspapers', 'Local Magazines', 'Local Media', 'MAGAZINE', 'Magazine', 'Magazines',\n",
    "          'METRO', 'Newspaper', 'NP', 'Prensa', 'PRENSA', 'Prensa Escrita', 'PRINT', 'Revista', 'Revistas', 'Suplemento']\n",
    "ooh = ['Outdoor', 'EXTERIORES', 'OOH', 'OUT OF HOME', 'VIA PUBLICA', 'Vía Pública', 'Cinema', 'CINEMA', 'VP', 'Search']\n",
    "digital = ['INTERNET', 'Internet', 'Internet - Display', 'Internet - Search', 'Digital', 'Programmatic', \n",
    "           'DIGITAL', 'META', 'Mobile App', 'Mobile Web', 'Mobile Web Video', 'Online Video', 'Paid Social', 'Social',\n",
    "           'Youtube', 'AVOD']\n",
    "\n",
    "df['Media_Summary'] = df['Media_Summary'].replace(tv, \"TV\")\n",
    "df['Media_Summary'] = df['Media_Summary'].replace(radio, \"Radio\")\n",
    "df['Media_Summary'] = df['Media_Summary'].replace(print_, \"Print\")\n",
    "df['Media_Summary'] = df['Media_Summary'].replace(ooh, \"OOH\")\n",
    "df['Media_Summary'] = df['Media_Summary'].replace(digital, \"Digital\")\n",
    "\n",
    "df['Media_Summary'].unique()"
   ]
  },
  {
   "cell_type": "markdown",
   "id": "f44d3ef4",
   "metadata": {},
   "source": [
    "### Media Type (Standardized)"
   ]
  },
  {
   "cell_type": "code",
   "execution_count": 24,
   "id": "63d82531",
   "metadata": {},
   "outputs": [
    {
     "data": {
      "text/plain": [
       "array(['Cable TV', 'FM Radio', 'TV', 'Newspapers', 'AM Radio',\n",
       "       'Magazines', 'Digital', 'OOH', 'Print', 'Open TV', 'Paid TV',\n",
       "       'Radio', 'Cinema', 'Free TV', 'Sports Radio', 'Local Radio',\n",
       "       'Spot TV', 'Network TV', 'Network Radio'], dtype=object)"
      ]
     },
     "execution_count": 24,
     "metadata": {},
     "output_type": "execute_result"
    }
   ],
   "source": [
    "# Media Type (Standardized)\n",
    "df[\"Media_type_standarized\"] = df[\"Media_type\"].copy() \n",
    "\n",
    "cable_tv = ['Cable TV', 'CABLE', 'PAID TV (CABLE)', 'TV CABLE', 'TV Cable']\n",
    "open_tv = ['OPEN TV', 'OTV']\n",
    "paid_tv = ['PAY TV', 'TVPagada', 'PTV', 'TV PAGADA']\n",
    "free_tv = ['TV ABIERTA', 'TV Abierta', 'TV ABIERTA ']\n",
    "spot_tv = [ 'Spot TV']\n",
    "tv = ['Span Lang Net TV', 'AVOD', 'TELEVISION', 'TV', 'tv', 'TV Capital', 'TV Interior', 'LOCAL TV', 'Syndication']\n",
    "am_radio = ['Radio AM']\n",
    "fm_radio = [ 'Radio FM']\n",
    "local_radio = [ 'Local Radio']\n",
    "sports_radio = ['Natl Spot Radio']\n",
    "network_radio = [ 'Network Radio']\n",
    "radio = ['RADIO', 'Radio', 'Radios', 'RD']\n",
    "cinema = ['Cinema', 'CINEMA']\n",
    "ooh = ['Outdoor', 'EXTERIORES', 'OOH', 'OUT OF HOME', 'VIA PUBLICA', 'Vía Pública',  'VP']\n",
    "print_ = ['PRESS', 'DIARIOS', 'Local Media', 'Prensa', 'PRENSA', 'Prensa Escrita', 'PRINT']\n",
    "newspapers = ['Diarios Capital', 'NEWSPAPER', 'NEWSPAPERS', 'Newspapers', 'Diarios Interior', 'Hispanic Newspapers',\n",
    "              'METRO', 'Newspaper', 'NP', 'Suplemento']\n",
    "magazines = ['REVISTAS', 'B-to-B Magazines', 'Local Magazines', 'MAGAZINE', 'Magazine', 'Magazines', 'Revista', \n",
    "             'Revistas']\n",
    "digital = ['Digital', 'Programmatic', 'Syndication', 'DIGITAL', 'META', 'Mobile App', 'Mobile Web', 'Mobile Web Video', \n",
    "           'Online Video', 'Paid Social', 'Social', 'Youtube', 'INTERNET', 'Internet', 'Internet - Display', \n",
    "           'Internet - Search', 'AVOD', 'Search']\n",
    "\n",
    "df['Media_type_standarized'] = df['Media_type_standarized'].replace(cable_tv, \"Cable TV\")\n",
    "df['Media_type_standarized'] = df['Media_type_standarized'].replace(open_tv, \"Open TV\")\n",
    "df['Media_type_standarized'] = df['Media_type_standarized'].replace(paid_tv, \"Paid TV\")\n",
    "df['Media_type_standarized'] = df['Media_type_standarized'].replace(free_tv, \"Free TV\")\n",
    "df['Media_type_standarized'] = df['Media_type_standarized'].replace(spot_tv, \"Spot TV\")\n",
    "df['Media_type_standarized'] = df['Media_type_standarized'].replace(tv, \"TV\")\n",
    "df['Media_type_standarized'] = df['Media_type_standarized'].replace(am_radio, \"AM Radio\")\n",
    "df['Media_type_standarized'] = df['Media_type_standarized'].replace(fm_radio, \"FM Radio\")\n",
    "df['Media_type_standarized'] = df['Media_type_standarized'].replace(local_radio, \"Local Radio\")\n",
    "df['Media_type_standarized'] = df['Media_type_standarized'].replace(sports_radio, \"Sports Radio\")\n",
    "df['Media_type_standarized'] = df['Media_type_standarized'].replace(network_radio, \"Network Radio\")\n",
    "df['Media_type_standarized'] = df['Media_type_standarized'].replace(radio, \"Radio\")\n",
    "df['Media_type_standarized'] = df['Media_type_standarized'].replace(cinema, \"Cinema\")\n",
    "df['Media_type_standarized'] = df['Media_type_standarized'].replace(print_, \"Print\")\n",
    "df['Media_type_standarized'] = df['Media_type_standarized'].replace(newspapers, \"Newspapers\")\n",
    "df['Media_type_standarized'] = df['Media_type_standarized'].replace(magazines, \"Magazines\")\n",
    "df['Media_type_standarized'] = df['Media_type_standarized'].replace(ooh, \"OOH\")\n",
    "df['Media_type_standarized'] = df['Media_type_standarized'].replace(digital, \"Digital\")\n",
    "\n",
    "df['Media_type_standarized'].unique()"
   ]
  },
  {
   "cell_type": "markdown",
   "id": "78721bc9",
   "metadata": {},
   "source": [
    "### Month (Number)"
   ]
  },
  {
   "cell_type": "code",
   "execution_count": 25,
   "id": "6d775b65",
   "metadata": {},
   "outputs": [
    {
     "data": {
      "text/plain": [
       "array([6, 2, 4, 5, 1, 3, 'June', 'April', 'May', 'APR', 'FEB', 'JAN',\n",
       "       'JUN', 'MAR', 'MAY', 'January', 'February', 'March', 'JUNIO',\n",
       "       'ABRIL', 'MAYO', 'ABR', 'Enero', 'Febrero', 'Marzo', 'Abril',\n",
       "       'Mayo', 'Junio', 'Julio', 'enero', 'febrero', 'marzo', 'abril',\n",
       "       'mayo', 'junio', 'julio', 'Jan', 'Feb', 'Mar', 'Apr', 'Jun', 'Jul',\n",
       "       'Ene', 'Abr', 'mar', 'APRIL', 'JUNE', 'FEBRUARY', 'MARCH',\n",
       "       'JANUARY', Timestamp('2023-01-01 00:00:00'),\n",
       "       Timestamp('2023-02-01 00:00:00'), Timestamp('2023-03-01 00:00:00'),\n",
       "       Timestamp('2023-04-01 00:00:00'), Timestamp('2023-05-01 00:00:00'),\n",
       "       Timestamp('2023-06-01 00:00:00'), 'JUn'], dtype=object)"
      ]
     },
     "execution_count": 25,
     "metadata": {},
     "output_type": "execute_result"
    }
   ],
   "source": [
    "# Month (Number)\n",
    "df[\"Month_number\"] = df[\"Month\"].copy()\n",
    "df[\"Month_number\"].unique()"
   ]
  },
  {
   "cell_type": "code",
   "execution_count": 27,
   "id": "dcc67eee",
   "metadata": {},
   "outputs": [
    {
     "data": {
      "text/plain": [
       "array([6, 2, 4, 5, 1, 3, 7], dtype=object)"
      ]
     },
     "execution_count": 27,
     "metadata": {},
     "output_type": "execute_result"
    }
   ],
   "source": [
    "\n",
    "df.loc[df['Month_number'] == \"Jan\", 'Month_number'] = 1\n",
    "df.loc[df['Month_number'] == \"JAN\", 'Month_number'] = 1\n",
    "df.loc[df['Month_number'] == \"JANUARY\", 'Month_number'] = 1\n",
    "df.loc[df['Month_number'] == \"January\", 'Month_number'] = 1\n",
    "df.loc[df['Month_number'] == \"Ene\", 'Month_number'] = 1\n",
    "df.loc[df['Month_number'] == \"enero\", 'Month_number'] = 1\n",
    "df.loc[df['Month_number'] == \"Enero\", 'Month_number'] = 1\n",
    "\n",
    "df.loc[df['Month_number'] == \"FEB\", 'Month_number'] = 2\n",
    "df.loc[df['Month_number'] == \"Feb\", 'Month_number'] = 2\n",
    "df.loc[df['Month_number'] == \"Febrero\", 'Month_number'] = 2\n",
    "df.loc[df['Month_number'] == \"febrero\", 'Month_number'] = 2\n",
    "df.loc[df['Month_number'] == \"FEBRUARY\", 'Month_number'] = 2\n",
    "df.loc[df['Month_number'] == \"February\", 'Month_number'] = 2\n",
    "\n",
    "df.loc[df['Month_number'] == \"MAR\", 'Month_number'] = 3\n",
    "df.loc[df['Month_number'] == \"Mar\", 'Month_number'] = 3\n",
    "df.loc[df['Month_number'] == \"mar\", 'Month_number'] = 3\n",
    "df.loc[df['Month_number'] == \"MARCH\", 'Month_number'] = 3\n",
    "df.loc[df['Month_number'] == \"March\", 'Month_number'] = 3\n",
    "df.loc[df['Month_number'] == \"Marzo\", 'Month_number'] = 3\n",
    "df.loc[df['Month_number'] == \"marzo\", 'Month_number'] = 3\n",
    "\n",
    "df.loc[df['Month_number'] == \"ABR\", 'Month_number'] = 4\n",
    "df.loc[df['Month_number'] == \"Abr\", 'Month_number'] = 4\n",
    "df.loc[df['Month_number'] == \"Abril\", 'Month_number'] = 4\n",
    "df.loc[df['Month_number'] == \"abril\", 'Month_number'] = 4\n",
    "df.loc[df['Month_number'] == \"ABRIL\", 'Month_number'] = 4\n",
    "df.loc[df['Month_number'] == \"Apr\", 'Month_number'] = 4\n",
    "df.loc[df['Month_number'] == \"APR\", 'Month_number'] = 4\n",
    "df.loc[df['Month_number'] == \"April\", 'Month_number'] = 4\n",
    "df.loc[df['Month_number'] == \"APRIL\", 'Month_number'] = 4\n",
    "\n",
    "df.loc[df['Month_number'] == \"MAY\", 'Month_number'] = 5\n",
    "df.loc[df['Month_number'] == \"May\", 'Month_number'] = 5\n",
    "df.loc[df['Month_number'] == \"Mayo\", 'Month_number'] = 5\n",
    "df.loc[df['Month_number'] == \"mayo\", 'Month_number'] = 5\n",
    "df.loc[df['Month_number'] == \"MAYO\", 'Month_number'] = 5\n",
    "\n",
    "df.loc[df['Month_number'] == \"Jun\", 'Month_number'] = 6\n",
    "df.loc[df['Month_number'] == \"June\", 'Month_number'] = 6\n",
    "df.loc[df['Month_number'] == \"JUNIO\", 'Month_number'] = 6\n",
    "df.loc[df['Month_number'] == \"Junio\", 'Month_number'] = 6\n",
    "df.loc[df['Month_number'] == \"junio\", 'Month_number'] = 6\n",
    "df.loc[df['Month_number'] == \"JUN\", 'Month_number'] = 6\n",
    "df.loc[df['Month_number'] == \"JUNE\", 'Month_number'] = 6\n",
    "df.loc[df['Month_number'] == \"JUn\", 'Month_number'] = 6\n",
    "\n",
    "df.loc[df['Month_number'] == \"Julio\", 'Month_number'] = 7\n",
    "df.loc[df['Month_number'] == \"julio\", 'Month_number'] = 7\n",
    "df.loc[df['Month_number'] == \"Jul\", 'Month_number'] = 7\n",
    "\n",
    "df.loc[df['Month_number'] == pd.Timestamp('2023-01-01 00:00:00'), 'Month_number'] = pd.to_datetime('2023-01-01 00:00:00').month\n",
    "df.loc[df['Month_number'] == pd.Timestamp('2023-02-01 00:00:00'), 'Month_number'] = pd.to_datetime('2023-02-01 00:00:00').month\n",
    "df.loc[df['Month_number'] == pd.Timestamp('2023-03-01 00:00:00'), 'Month_number'] = pd.to_datetime('2023-03-01 00:00:00').month\n",
    "df.loc[df['Month_number'] == pd.Timestamp('2023-04-01 00:00:00'), 'Month_number'] = pd.to_datetime('2023-04-01 00:00:00').month\n",
    "df.loc[df['Month_number'] == pd.Timestamp('2023-05-01 00:00:00'), 'Month_number'] = pd.to_datetime('2023-05-01 00:00:00').month\n",
    "df.loc[df['Month_number'] == pd.Timestamp('2023-06-01 00:00:00'), 'Month_number'] = pd.to_datetime('2023-06-01 00:00:00').month\n",
    " \n",
    "df[\"Month_number\"].unique()"
   ]
  },
  {
   "cell_type": "markdown",
   "id": "39b9eae9",
   "metadata": {},
   "source": [
    "### Month (Standardized)"
   ]
  },
  {
   "cell_type": "code",
   "execution_count": 29,
   "id": "8c995073",
   "metadata": {},
   "outputs": [],
   "source": [
    "df['Month_standarization'] = pd.to_datetime(df['Year'].astype(str) + '-' + df['Month_number'].astype(str))"
   ]
  },
  {
   "cell_type": "markdown",
   "id": "41829d07",
   "metadata": {},
   "source": [
    "### Top Brand Competitors + ABI"
   ]
  },
  {
   "cell_type": "code",
   "execution_count": 27,
   "id": "17b72792",
   "metadata": {},
   "outputs": [],
   "source": [
    "## Null - Not requried\n"
   ]
  },
  {
   "cell_type": "markdown",
   "id": "32552676",
   "metadata": {},
   "source": [
    "#### Creating Dataframes Market Wise"
   ]
  },
  {
   "cell_type": "code",
   "execution_count": 30,
   "id": "ce3c6908",
   "metadata": {},
   "outputs": [
    {
     "name": "stdout",
     "output_type": "stream",
     "text": [
      "The Number of markets for Competitive Analysis: 23\n",
      "\n",
      "The number of data points for country: ['ARGENTINA']\t\t:175765\n",
      "The number of data points for country: ['BOLIVIA']\t\t:50\n",
      "The number of data points for country: ['BRAZIL']\t\t:445\n",
      "The number of data points for country: ['CANADA']\t\t:1772\n",
      "The number of data points for country: ['CHILE']\t\t:142\n",
      "The number of data points for country: ['CHINA']\t\t:273\n",
      "The number of data points for country: ['COLOMBIA']\t\t:376\n",
      "The number of data points for country: ['DOMINICAN REPUBLIC']\t\t:66398\n",
      "The number of data points for country: ['ECUADOR']\t\t:441\n",
      "The number of data points for country: ['EL SALVADOR']\t\t:5649\n",
      "The number of data points for country: ['GUATEMALA']\t\t:79229\n",
      "The number of data points for country: ['HONDURAS']\t\t:5277\n",
      "The number of data points for country: ['INDIA']\t\t:162\n",
      "The number of data points for country: ['JAPAN']\t\t:234\n",
      "The number of data points for country: ['MEXICO']\t\t:23358\n",
      "The number of data points for country: ['PANAMA']\t\t:185\n",
      "The number of data points for country: ['PARAGUAY']\t\t:21\n",
      "The number of data points for country: ['PERU']\t\t:510\n",
      "The number of data points for country: ['SOUTH AFRICA']\t\t:840\n",
      "The number of data points for country: ['SOUTH KOREA']\t\t:151\n",
      "The number of data points for country: ['URUGUAY']\t\t:378\n",
      "The number of data points for country: ['US']\t\t:109286\n",
      "The number of data points for country: ['VIETNAM']\t\t:137\n"
     ]
    }
   ],
   "source": [
    "# Its requried to create number of filtered dataframes for each country to use \n",
    "# pivot table to find top competetor, top 10 markets\n",
    "\n",
    "df_argentina = df[df['Country'] == 'ARGENTINA']\n",
    "df_bolivia = df[df['Country'] == 'BOLIVIA']\n",
    "df_brazil = df[df['Country'] == 'BRAZIL']\n",
    "df_canada = df[df['Country'] == 'CANADA']\n",
    "df_chile = df[df['Country'] == 'CHILE']\n",
    "df_china = df[df['Country'] == 'CHINA']\n",
    "df_colombia = df[df['Country'] == 'COLOMBIA']\n",
    "df_dom_rep = df[df['Country'] == 'DOMINICAN REPUBLIC']\n",
    "df_ecuador = df[df['Country'] == 'ECUADOR']\n",
    "df_el_salvador = df[df['Country'] == 'EL SALVADOR']\n",
    "df_guatemala = df[df['Country'] == 'GUATEMALA']\n",
    "df_honduras = df[df['Country'] == 'HONDURAS']\n",
    "df_india = df[df['Country'] == 'INDIA']\n",
    "df_japan = df[df['Country'] == 'JAPAN']\n",
    "df_mexico = df[df['Country'] == 'MEXICO']\n",
    "df_panama = df[df['Country'] == 'PANAMA']\n",
    "df_paraguay = df[df['Country'] == 'PARAGUAY']\n",
    "df_peru = df[df['Country'] == 'PERU']\n",
    "df_south_africa = df[df['Country'] == 'SOUTH AFRICA']\n",
    "df_south_korea = df[df['Country'] == 'SOUTH KOREA']\n",
    "df_uruguay = df[df['Country'] == 'URUGUAY']\n",
    "df_us = df[df['Country'] == 'US']\n",
    "df_vietnam = df[df['Country'] == 'VIETNAM']\n",
    "\n",
    "markets = [df_argentina, df_bolivia, df_brazil, df_canada, df_chile, df_china, df_colombia, df_dom_rep, df_ecuador, \n",
    "           df_el_salvador, df_guatemala, df_honduras, df_india, df_japan, df_mexico, df_panama, df_paraguay, df_peru, \n",
    "           df_south_africa, df_south_korea, df_uruguay, df_us, df_vietnam]\n",
    "\n",
    "print(\"The Number of markets for Competitive Analysis: {}\\n\".format(len(markets)))\n",
    "\n",
    "for market in markets:\n",
    "    print(\"The number of data points for country: {}\\t\\t:{}\".format(market[\"Country\"].unique(), market.shape[0]))"
   ]
  },
  {
   "cell_type": "markdown",
   "id": "a8904358",
   "metadata": {},
   "source": [
    "### Parent Competitors (Pivots)"
   ]
  },
  {
   "cell_type": "code",
   "execution_count": 34,
   "id": "3f7e887c",
   "metadata": {},
   "outputs": [
    {
     "name": "stderr",
     "output_type": "stream",
     "text": [
      "C:\\Users\\amimaiti\\AppData\\Local\\Temp/ipykernel_13976/1579470207.py:25: SettingWithCopyWarning: \n",
      "A value is trying to be set on a copy of a slice from a DataFrame.\n",
      "Try using .loc[row_indexer,col_indexer] = value instead\n",
      "\n",
      "See the caveats in the documentation: https://pandas.pydata.org/pandas-docs/stable/user_guide/indexing.html#returning-a-view-versus-a-copy\n",
      "  df['Parent_competitor'] = df['Advertiser_parent_standarized'].copy()\n",
      "C:\\Users\\amimaiti\\AppData\\Local\\Temp/ipykernel_13976/1579470207.py:26: SettingWithCopyWarning: \n",
      "A value is trying to be set on a copy of a slice from a DataFrame.\n",
      "Try using .loc[row_indexer,col_indexer] = value instead\n",
      "\n",
      "See the caveats in the documentation: https://pandas.pydata.org/pandas-docs/stable/user_guide/indexing.html#returning-a-view-versus-a-copy\n",
      "  df['Parent_competitor'] = np.where(df['Parent_competitor'].isin(exceptions),\n"
     ]
    },
    {
     "name": "stdout",
     "output_type": "stream",
     "text": [
      "\n",
      "\n",
      "['ARGENTINA']:['All Others' 'ABI' 'CCU SA (Heineken Parent)']\n",
      "\n",
      "\n",
      "['BOLIVIA']:['All Others' 'ABI']\n",
      "\n",
      "\n",
      "['BRAZIL']:['ABI' 'HEINEKEN' 'All Others' 'PETROPOLIS']\n",
      "\n",
      "\n",
      "['CANADA']:['MOLSON' 'HEINEKEN' 'All Others' 'MARK ANTHONY BREWING' 'ABI']\n",
      "\n",
      "\n",
      "['CHILE']:['ABI' 'All Others' 'CCU (Heineken Parent)']\n",
      "\n",
      "\n",
      "['CHINA']:['ABI' 'All Others' 'CARLSBERG' 'CR BEER (Heineken Parent)' 'TSINGTAO'\n",
      " 'YANJING' 'OTHERS']\n",
      "\n",
      "\n",
      "['COLOMBIA']:['All Others' 'ABI' 'CCC (Heineken Parent)']\n",
      "\n",
      "\n",
      "['DOMINICAN REPUBLIC']:['All Others' 'CERVECERIA CENTRO AMERICANA CABLE PANREGIONAL']\n",
      "\n",
      "\n",
      "['ECUADOR']:['ABI' 'HEINEKEN' 'All Others']\n",
      "\n",
      "\n",
      "['EL SALVADOR']:['CERVECERIA CENTROAMERICANA' 'ABI' 'CADEJO' 'HEINEKEN' 'All Others']\n",
      "\n",
      "\n",
      "['GUATEMALA']:['HEINEKEN' 'All Others' 'ABI']\n",
      "\n",
      "\n",
      "['HONDURAS']:['DISTRIBUIDORA SOLIS' 'ABI' 'CERVECERIA CENTROAMERICANA' 'All Others']\n",
      "\n",
      "\n",
      "['INDIA']:['UNITED BREWERIES' 'CARLSBERG' 'All Others']\n",
      "\n",
      "\n",
      "['JAPAN']:['KIRIN' 'SAPPORO' 'ASAHI' 'SUNTORY' 'All Others']\n",
      "\n",
      "\n",
      "['MEXICO']:['ABI' 'HEINEKEN']\n",
      "\n",
      "\n",
      "['PANAMA']:['ABI' 'HEINEKEN' 'FEDURO']\n",
      "\n",
      "\n",
      "['PARAGUAY']:['All Others' 'BEBIDAS DEL PARAGUAY' 'EMBOTELLADORA CENTRAL'\n",
      " 'MÓNACO COMERCIAL']\n",
      "\n",
      "\n",
      "['PERU']:['All Others' 'HEINEKEN' 'ABI']\n",
      "\n",
      "\n",
      "['SOUTH AFRICA']:['All Others' 'ABI' 'HEINEKEN']\n",
      "\n",
      "\n",
      "['SOUTH KOREA']:['ABI' 'All Others' 'HITE JINRO']\n",
      "\n",
      "\n",
      "['URUGUAY']:['All Others' 'ABI']\n",
      "\n",
      "\n",
      "['US']:['All Others' 'ABI' 'BOSTON BEER CO' 'MOLSON COORS'\n",
      " 'CONSTELLATION BRANDS INC' 'HEINEKEN']\n",
      "\n",
      "\n",
      "['VIETNAM']:['VBL (Heineken Parent)' 'CARLSBERG' 'HABECO' 'All Others' 'SABECO']\n"
     ]
    }
   ],
   "source": [
    "## Excluding Other Alcohol category for Competitive analysis of Beer\n",
    "\n",
    "## Operation steps : \n",
    "# 1. filerter datframe by excluding Other Alcohol category\n",
    "# 2. Use groupby fuction by adv. parent with aggregation with percentage applying lambda fucntion\n",
    "# 3. Sort values in descending\n",
    "# 4. Spend_US_Currency column in pivot table would be in percentage\n",
    "\n",
    "## Function to find top 5 parent competitor in a market in beer category given their ad spend market share in above 5%\n",
    "\n",
    "def parent_competitors_std(df):\n",
    "    competitors_df = df[(df['Category_Standardized'] \n",
    "                         != 'Other Alcohol')].groupby([ 'Advertiser_parent_standarized',\n",
    "                                                       'Category_Standardized']).agg({'Spend_US_Currency': \n",
    "                                                                                      lambda x: \n",
    "                                                                                      round(x.sum()/df[\"Spend_US_Currency\"].sum()*100,\n",
    "                                                                                            2)}).sort_values('Spend_US_Currency', \n",
    "                                                                                                             ascending = False)\n",
    "    competitors_df = competitors_df.reset_index()\n",
    "    competitors_df = (competitors_df[(competitors_df[\"Spend_US_Currency\"] >= 5) |\n",
    "                                    (competitors_df[\"Advertiser_parent_standarized\"].str.startswith('(HEINEKEN)|(AMSTEL)'))])\n",
    "    \n",
    "    exceptions = competitors_df[\"Advertiser_parent_standarized\"].tolist()\n",
    "    # Add new column and copy data from adv parent std; except exceptions - rest of the company are as All Others\n",
    "    df['Parent_competitor'] = df['Advertiser_parent_standarized'].copy()\n",
    "    df['Parent_competitor'] = np.where(df['Parent_competitor'].isin(exceptions), \n",
    "                                                   df['Parent_competitor'], \"All Others\")\n",
    "    print(\"\\n\")\n",
    "    return df['Parent_competitor'].unique()\n",
    "\n",
    "# Apply The function to all the market dfs\n",
    "for market in markets:\n",
    "    print(\"{}:{}\".format(market.Country.unique(), parent_competitors_std(market)))"
   ]
  },
  {
   "cell_type": "markdown",
   "id": "5df659f0",
   "metadata": {},
   "source": [
    "### Top 10 Brands by Market"
   ]
  },
  {
   "cell_type": "code",
   "execution_count": 35,
   "id": "e6534f94",
   "metadata": {},
   "outputs": [
    {
     "name": "stderr",
     "output_type": "stream",
     "text": [
      "C:\\Users\\amimaiti\\AppData\\Local\\Temp/ipykernel_13976/1956251057.py:11: SettingWithCopyWarning: \n",
      "A value is trying to be set on a copy of a slice from a DataFrame.\n",
      "Try using .loc[row_indexer,col_indexer] = value instead\n",
      "\n",
      "See the caveats in the documentation: https://pandas.pydata.org/pandas-docs/stable/user_guide/indexing.html#returning-a-view-versus-a-copy\n",
      "  df['Top10_Brands_by_Market'] = df['Brand_standarization'].copy()\n",
      "C:\\Users\\amimaiti\\AppData\\Local\\Temp/ipykernel_13976/1956251057.py:12: SettingWithCopyWarning: \n",
      "A value is trying to be set on a copy of a slice from a DataFrame.\n",
      "Try using .loc[row_indexer,col_indexer] = value instead\n",
      "\n",
      "See the caveats in the documentation: https://pandas.pydata.org/pandas-docs/stable/user_guide/indexing.html#returning-a-view-versus-a-copy\n",
      "  df['Top10_Brands_by_Market'] = np.where(df['Top10_Brands_by_Market'].isin(exceptions),\n"
     ]
    },
    {
     "name": "stdout",
     "output_type": "stream",
     "text": [
      "\n",
      "\n",
      "['ARGENTINA']:['All Others' 'HEINEKEN' 'IMPERIAL' 'BRAHMA' 'ANDES' 'SANTA FE' 'QUILMES'\n",
      " 'AMSTEL' 'STELLA ARTOIS' 'NORTE' 'DR LEMON']\n",
      "\n",
      "\n",
      "['BOLIVIA']:['BURGUESA' 'HUARI' 'PACENA' 'GOLDEN' 'POTOSINA']\n",
      "\n",
      "\n",
      "['BRAZIL']:['All Others' 'BRAHMA' 'BUDWEISER' 'BUDWEISER ZERO' 'CORONA' 'SKOL'\n",
      " 'SPATEN' 'AMSTEL' 'HEINEKEN' 'HEINEKEN 0.0' 'ITAIPAVA']\n",
      "\n",
      "\n",
      "['CANADA']:['All Others' 'COORS LIGHT' 'MOLSON PARTNERSHIP' 'MOLSON ULTRA LOW CARB'\n",
      " 'HEINEKEN' 'WHITE CLAW' 'BLACK FLY COOLERS' 'BUD LIGHT' 'BUDWEISER'\n",
      " 'MICHELOB ULTRA' 'STELLA ARTOIS']\n",
      "\n",
      "\n",
      "['CHILE']:['All Others' 'COORS' 'CRISTAL' 'ESCUDO' 'HEINEKEN' 'IMPERIAL' 'PATAGONIA'\n",
      " 'ROYAL GUARD' 'SOL' 'STONES' 'BECKER']\n",
      "\n",
      "\n",
      "['CHINA']:['BUDWEISER' 'All Others' 'HARBIN' 'BLUE GIRL' 'OTHERS' 'TUBORG' 'WUSU'\n",
      " 'HEINEKEN' 'SNOW' 'TSINGTAO' 'YANJING']\n",
      "\n",
      "\n",
      "['COLOMBIA']:['All Others' 'AGUILA' 'BAVARIA' 'BUDWEISER' 'CLUB COLOMBIA' 'CORONA'\n",
      " 'HEINEKEN' 'POKER' 'STELLA ARTOIS' 'ANDINA' 'AMSTEL']\n",
      "\n",
      "\n",
      "['DOMINICAN REPUBLIC']:['REPUBLICA' 'All Others' 'CLUB COLOMBIA' 'BUDWEISER' 'AGUILA' 'HEINEKEN'\n",
      " 'GALLO' 'DORADA' 'TOÑA' 'MONTE CARLO' 'COORS']\n",
      "\n",
      "\n",
      "['ECUADOR']:['PILSENER' 'CORONA' 'PILSENER LIGHT' 'CLUB' 'All Others' 'HEINEKEN'\n",
      " 'AMSTEL' 'BIELA' 'LATITUD CERO' 'ROYAL DUTCH' 'STELLA ARTOIS']\n",
      "\n",
      "\n",
      "['EL SALVADOR']:['GALLO' 'CORONA' 'LA CONSTANCIA' 'GOLDEN' 'PILSENER' 'CADEJO' 'HEINEKEN'\n",
      " 'IA' 'MICHELOB ULTRA' 'SUPREMA']\n",
      "\n",
      "\n",
      "['GUATEMALA']:['DORADA' 'All Others' 'GALLO' 'CORONA' 'BUDWEISER' 'CABRO' 'MONTE CARLO'\n",
      " 'AMBEV' 'EL ZAPOTE' 'MODELO' 'STELLA ARTOIS']\n",
      "\n",
      "\n",
      "['HONDURAS']:['MILLER' 'HONDUREÑA' 'COORS' 'DORADA ICE' 'SALVA VIDA' 'All Others'\n",
      " 'HEINEKEN' 'CORONA' 'GALLO' 'BARENA' 'MICHELOB']\n",
      "\n",
      "\n",
      "['INDIA']:['KINGFISHER' 'TUBORG' 'BUDWEISER' 'BIRA' 'CARLSBERG' 'All Others'\n",
      " 'HEINEKEN']\n",
      "\n",
      "\n",
      "['JAPAN']:['ICHIBAN SHIBORI' 'EBISU' 'SAPPORO KURO RABEL' 'ASAHI SUPER DRY'\n",
      " 'PREMIUM MARTS' 'ASAHI NAMA' 'SUNTORY PERFECT SUNTORY  PSB' 'All Others'\n",
      " 'KIRIN HOME TAP' 'CLEAR ASAHI' 'GOLD STAR']\n",
      "\n",
      "\n",
      "['MEXICO']:['CORONA' 'PACIFICO' 'AMSTEL ULTRA' 'HEINEKEN SILVER' 'All Others'\n",
      " 'HEINEKEN' 'MODELO' 'VICTORIA' 'TECATE' 'XX' 'TECATE 0.0']\n",
      "\n",
      "\n",
      "['PANAMA']:['LAS GOLDEN' 'ATLAS' 'All Others' 'PANAMA' 'CRISTAL' 'SOBERANA'\n",
      " 'PMA LIGHT' 'HEINEKEN' 'AMSTEL ULTRA' 'COORS LIGHT' 'MILLER LITE']\n",
      "\n",
      "\n",
      "['PARAGUAY']:['ARTURO' 'KAISER' 'AMSTEL' 'HEINEKEN' 'MILLER' 'MAHOU' 'MUNICH' 'CONTI']\n",
      "\n",
      "\n",
      "['PERU']:['All Others' 'HOFBRAU' 'AMSTEL' 'HEINEKEN' 'PUM PUM' 'AREQUIPENA'\n",
      " 'CORONA' 'CRISTAL' 'CUSQUENA' 'GOLDEN' 'PILSEN CALLAO']\n",
      "\n",
      "\n",
      "['SOUTH AFRICA']:['All Others' 'CORONA' 'AMSTEL LAGER' 'HEINEKEN LAGER' 'WINDHOEK RANGE'\n",
      " 'HEINEKEN SILVER' 'CARLING BLACK LABEL' 'CASTLE DOUBLE MALT'\n",
      " 'CASTLE LAGER' 'CASTLE LITE' 'SAB MILLER']\n",
      "\n",
      "\n",
      "['SOUTH KOREA']:['CASS' 'HANMAC' 'All Others' 'KRONENBERG 1664' 'TERRA' 'KELLY' 'KLOUD'\n",
      " 'BLUEMOON' 'ASAHI' 'ERDINGER' 'HEINEKEN']\n",
      "\n",
      "\n",
      "['URUGUAY']:['All Others' 'PILSEN' 'CORONA' 'HEINEKEN' 'PATRICIA' 'STELLA' 'ZILLERTAL'\n",
      " 'SCHNEIDER' 'S' 'SMITH 44' 'VALENCIANA']\n",
      "\n",
      "\n",
      "['US']:['All Others' 'BUD LIGHT' 'MICHELOB ULTRA' 'COORS LIGHT' 'MILLER LITE'\n",
      " 'CORONA' 'MODELO ESPECIAL' 'HEINEKEN' 'WHITE CLAW' 'BUSCH LIGHT'\n",
      " 'HEINEKEN SILVER']\n",
      "\n",
      "\n",
      "['VIETNAM']:['TIGER' 'HEINEKEN' 'BIERE LARUE' 'HUDA' 'KRONENBOURG 1664 BLANC' 'TUBORG'\n",
      " 'HANOI' 'TRUC BACH' 'All Others' 'HANOI BOLD & LIGHT' 'SAIGON']\n"
     ]
    }
   ],
   "source": [
    "def top_10_brands(df):\n",
    "    top10_df = df[(df['Category_Standardized'] != \n",
    "                  'Other Alcohol')].groupby([ 'Brand_standarization',\n",
    "                                             'Category_Standardized']).agg({'Spend_US_Currency': \n",
    "                                                                            \"sum\"}).sort_values('Spend_US_Currency',\n",
    "                                                                                                ascending = False).head(10)\n",
    "    top10_df = top10_df.reset_index()\n",
    "        \n",
    "    exceptions = top10_df[\"Brand_standarization\"].tolist()\n",
    "    # Add new column and copy data from adv parent std; except exceptions - rest of the company are as All Others\n",
    "    df['Top10_Brands_by_Market'] = df['Brand_standarization'].copy()\n",
    "    df['Top10_Brands_by_Market'] = np.where(df['Top10_Brands_by_Market'].isin(exceptions), \n",
    "                                                   df['Top10_Brands_by_Market'], \"All Others\")\n",
    "    \n",
    "  \n",
    "    print(\"\\n\")\n",
    "    return df['Top10_Brands_by_Market'].unique()\n",
    "\n",
    "# Apply The function to all the market dfs\n",
    "for market in markets:\n",
    "    print(\"{}:{}\".format(market.Country.unique(), top_10_brands(market)))"
   ]
  },
  {
   "cell_type": "markdown",
   "id": "b5a863fe",
   "metadata": {},
   "source": [
    "### Merging all the files back to main datafram"
   ]
  },
  {
   "cell_type": "code",
   "execution_count": 36,
   "id": "ae576e81",
   "metadata": {},
   "outputs": [],
   "source": [
    "df_ = pd.DataFrame()\n",
    "for market in markets:\n",
    "    df_ = df_.append(market)"
   ]
  },
  {
   "cell_type": "code",
   "execution_count": 37,
   "id": "672c8911",
   "metadata": {},
   "outputs": [
    {
     "data": {
      "text/plain": [
       "Index(['Country', 'Data_Source', 'Advertiser_parent_company', 'Brand',\n",
       "       'Category', 'Media_type', 'Year', 'Month', 'Spend_Local_Currency',\n",
       "       'Exchange_Rate', 'Spend_US_Currency', 'Category_Standardized',\n",
       "       'Advertiser_parent_standarized', 'Brand_standarization',\n",
       "       'Parent_competitor', 'Top_Brand_Competitors_and_ABI',\n",
       "       'Focused_Brand_Competitors', 'Top10_Brands_by_Market', 'Media_Summary',\n",
       "       'Media_type_standarized', 'Month_number', 'Month_standarization',\n",
       "       'Focused_Global_Brand', 'Global_Parent', 'ABI_Parent_SOS',\n",
       "       'Heineken_Brand_SOS', 'Amstel_Brand_SOS', 'Digital_Traditional',\n",
       "       'Heineken_Parent_SOS', 'Brand_Rank_by_Country', 'Market_Group'],\n",
       "      dtype='object')"
      ]
     },
     "execution_count": 37,
     "metadata": {},
     "output_type": "execute_result"
    }
   ],
   "source": [
    "df_.columns"
   ]
  },
  {
   "cell_type": "markdown",
   "id": "c2e5c6f7",
   "metadata": {},
   "source": [
    "**** DO NOT EXECUTE CODE AFTER THIS LINE***"
   ]
  },
  {
   "cell_type": "markdown",
   "id": "8ab931c5",
   "metadata": {},
   "source": [
    "### CODE TESTING"
   ]
  },
  {
   "cell_type": "code",
   "execution_count": 38,
   "id": "f5688827",
   "metadata": {},
   "outputs": [
    {
     "name": "stdout",
     "output_type": "stream",
     "text": [
      "C:\\ABI\\Q2_Competitive\\Ad_Spend\\Processed Data\n",
      "Elapsed time: 425.5279541015625 seconds\n",
      "Elapsed time: 7.092132568359375 minutes\n"
     ]
    }
   ],
   "source": [
    "import time\n",
    "start_time = time.time()\n",
    "\n",
    "os.chdir(r\"C:\\ABI\\Q2_Competitive\\Ad_Spend\\Processed Data\")\n",
    "print(os.getcwd())\n",
    "df_.to_excel(\"QII-Competitive Ad Spend.xlsx\", index=False)\n",
    "\n",
    "# End the timer\n",
    "end_time = time.time()\n",
    "\n",
    "# Calculate the elapsed time\n",
    "elapsed_time = end_time - start_time\n",
    "\n",
    "# Print the elapsed time\n",
    "print(f\"Elapsed time: {elapsed_time} seconds\")\n",
    "print(f\"Elapsed time: {elapsed_time/60} minutes\")"
   ]
  },
  {
   "cell_type": "code",
   "execution_count": null,
   "id": "592420a8",
   "metadata": {},
   "outputs": [],
   "source": []
  }
 ],
 "metadata": {
  "kernelspec": {
   "display_name": "Python 3 (ipykernel)",
   "language": "python",
   "name": "python3"
  },
  "language_info": {
   "codemirror_mode": {
    "name": "ipython",
    "version": 3
   },
   "file_extension": ".py",
   "mimetype": "text/x-python",
   "name": "python",
   "nbconvert_exporter": "python",
   "pygments_lexer": "ipython3",
   "version": "3.9.7"
  }
 },
 "nbformat": 4,
 "nbformat_minor": 5
}
